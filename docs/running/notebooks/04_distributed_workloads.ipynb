{
 "cells": [
  {
   "cell_type": "markdown",
   "metadata": {},
   "source": [
    "# Distributed workflows in programs\n",
    "\n",
    "In this document we will learn how to run distributed workflows inside a program.\n",
    "\n",
    "Let's create another file with our updated program [./source_files/program_4.py](./source_files/program_4.py). \n",
    "\n",
    "First let's see how file would look like and then we will discuss what is happening there\n",
    "\n",
    "```python\n",
    "# source_files/program_4.py\n",
    "\n",
    "from quantum_serverless import get_arguments, save_result, distribute_task, get\n",
    "\n",
    "from qiskit import QuantumCircuit\n",
    "from qiskit.primitives import Sampler\n",
    "\n",
    "\n",
    "@distribute_task()\n",
    "def distributed_sample(circuit: QuantumCircuit):\n",
    "    \"\"\"Distributed task that returns quasi distribution for given circuit.\"\"\"\n",
    "    return Sampler().run(circuit).result().quasi_dists[0]\n",
    "\n",
    "\n",
    "arguments = get_arguments()\n",
    "circuits = arguments.get(\"circuits\")\n",
    "\n",
    "\n",
    "# run distributed tasks as async function\n",
    "# we get task references as a return type\n",
    "sample_task_references = [\n",
    "    distributed_sample(circuit)\n",
    "    for circuit in circuits\n",
    "]\n",
    "\n",
    "# now we need to collect results from task references\n",
    "results = get(sample_task_references)\n",
    "\n",
    "save_result({\n",
    "    \"results\": results\n",
    "})\n",
    "```\n",
    "\n",
    "A lot of new things are happening in this program.\n",
    "\n",
    "Let's begin with `distribute_task` decorator. `distribute_task` when applied to function converts is to distributed task, which means that this function will be executed on compute resources asyncronously and in parallel to main context of a program. \n",
    "\n",
    "When you call converted function it will return reference to function execution instead of result. \n",
    "In order to get results back we need to call `get` on function reference. `get` will wait until function is finished and return result of funciton execution. \n",
    "\n",
    "Essentially what we are doing in this program:\n",
    "- reading circuit from aruments\n",
    "- calling `distributed_sample` function for each of the circuit\n",
    "- now each of `distributed_sample` funciton is running in parallel\n",
    "- we get results of all executions by calling `get`\n",
    "- saving results\n"
   ]
  },
  {
   "cell_type": "code",
   "execution_count": 1,
   "metadata": {
    "collapsed": false,
    "jupyter": {
     "outputs_hidden": false
    }
   },
   "outputs": [],
   "source": [
    "from quantum_serverless import QuantumServerless, GatewayProvider"
   ]
  },
  {
   "cell_type": "code",
   "execution_count": 2,
   "metadata": {},
   "outputs": [
    {
     "data": {
      "text/plain": [
       "<QuantumServerless | providers [gateway-provider]>"
      ]
     },
     "execution_count": 2,
     "metadata": {},
     "output_type": "execute_result"
    }
   ],
   "source": [
    "provider = GatewayProvider(\n",
    "    username=\"user\",\n",
    "    password=\"password123\",\n",
    "    host=\"http://localhost:8000\",\n",
    ")\n",
    "\n",
    "serverless = QuantumServerless(provider)\n",
    "serverless"
   ]
  },
  {
   "cell_type": "markdown",
   "metadata": {},
   "source": [
    "Let's create list of random circuit which we will be using as arguments"
   ]
  },
  {
   "cell_type": "code",
   "execution_count": 12,
   "metadata": {},
   "outputs": [
    {
     "data": {
      "text/plain": [
       "[<qiskit.circuit.quantumcircuit.QuantumCircuit at 0x7fdac1c5e850>,\n",
       " <qiskit.circuit.quantumcircuit.QuantumCircuit at 0x7fdab1a5fb50>,\n",
       " <qiskit.circuit.quantumcircuit.QuantumCircuit at 0x7fdac1c5e8d0>,\n",
       " <qiskit.circuit.quantumcircuit.QuantumCircuit at 0x7fdac1c5ea90>,\n",
       " <qiskit.circuit.quantumcircuit.QuantumCircuit at 0x7fdac1c5ec10>]"
      ]
     },
     "execution_count": 12,
     "metadata": {},
     "output_type": "execute_result"
    }
   ],
   "source": [
    "from qiskit.circuit.random import random_circuit\n",
    "\n",
    "circuits = [random_circuit(2, 2) for _ in range(5)]\n",
    "[circuit.measure_all() for circuit in circuits]\n",
    "circuits"
   ]
  },
  {
   "cell_type": "markdown",
   "metadata": {},
   "source": [
    "Run program as usual"
   ]
  },
  {
   "cell_type": "code",
   "execution_count": 13,
   "metadata": {},
   "outputs": [
    {
     "data": {
      "text/plain": [
       "<Job | 6bd54632-bce0-4214-a5e1-04f931ab7dcb>"
      ]
     },
     "execution_count": 13,
     "metadata": {},
     "output_type": "execute_result"
    }
   ],
   "source": [
    "from quantum_serverless import Program\n",
    "\n",
    "program = Program(\n",
    "    title=\"Program with distributed workflow\",\n",
    "    entrypoint=\"program_4.py\",\n",
    "    working_dir=\"./source_files/\"\n",
    ")\n",
    "\n",
    "job = serverless.run_program(program, arguments={\"circuits\": circuits})\n",
    "job"
   ]
  },
  {
   "cell_type": "code",
   "execution_count": 18,
   "metadata": {},
   "outputs": [
    {
     "data": {
      "text/plain": [
       "'SUCCEEDED'"
      ]
     },
     "execution_count": 18,
     "metadata": {},
     "output_type": "execute_result"
    }
   ],
   "source": [
    "job.status()"
   ]
  },
  {
   "cell_type": "code",
   "execution_count": 20,
   "metadata": {},
   "outputs": [
    {
     "data": {
      "text/plain": [
       "'{\"results\": [{\"0\": 0.0019388099833208, \"1\": 0.0246690007437, \"2\": 0.0709273872101196, \"3\": 0.9024648020628592}, {\"0\": 0.4999999999999999, \"2\": 0.4999999999999999}, {\"0\": 0.0008967561725936, \"1\": 2.42854928976e-05, \"3\": 0.9990789583345085}, {\"0\": 0.0769441987062216, \"1\": 0.0769441987062216, \"2\": 0.4230558012937782, \"3\": 0.4230558012937782}, {\"0\": 0.1019745637494164, \"1\": 0.2181326517505121, \"2\": 0.216589213671712, \"3\": 0.4633035708283594}]}'"
      ]
     },
     "execution_count": 20,
     "metadata": {},
     "output_type": "execute_result"
    }
   ],
   "source": [
    "job.result()"
   ]
  }
 ],
 "metadata": {
  "kernelspec": {
   "display_name": "Python 3 (ipykernel)",
   "language": "python",
   "name": "python3"
  },
  "language_info": {
   "codemirror_mode": {
    "name": "ipython",
    "version": 3
   },
   "file_extension": ".py",
   "mimetype": "text/x-python",
   "name": "python",
   "nbconvert_exporter": "python",
   "pygments_lexer": "ipython3",
   "version": "3.7.13"
  }
 },
 "nbformat": 4,
 "nbformat_minor": 4
}
