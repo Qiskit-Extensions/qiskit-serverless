{
 "cells": [
  {
   "cell_type": "markdown",
   "id": "f6fb114d-af27-4a89-83b4-b3806dfa8c1a",
   "metadata": {},
   "source": [
    "# Running program using decorators"
   ]
  },
  {
   "cell_type": "code",
   "execution_count": 3,
   "id": "2bf315de-a4fe-429b-9fdd-7a2f2efe2278",
   "metadata": {},
   "outputs": [],
   "source": [
    "import os\n",
    "\n",
    "os.environ[\"ENV_GATEWAY_PROVIDER_TOKEN\"] = \"<YOUR_TOKEN>\"\n",
    "os.environ[\"ENV_GATEWAY_PROVIDER_HOST\"] = \"http://localhost:8000\""
   ]
  },
  {
   "cell_type": "markdown",
   "id": "e26dc3bc-6ca7-4130-91c4-162c914288a8",
   "metadata": {},
   "source": [
    "## Hello, Qiskit!"
   ]
  },
  {
   "cell_type": "code",
   "execution_count": 4,
   "id": "05e759d5-4e20-407f-ac67-df1ab02a6849",
   "metadata": {},
   "outputs": [
    {
     "data": {
      "text/plain": [
       "'[{\"0\": 0.4999999999999999, \"3\": 0.4999999999999999}]'"
      ]
     },
     "execution_count": 4,
     "metadata": {},
     "output_type": "execute_result"
    }
   ],
   "source": [
    "from qiskit import QuantumCircuit\n",
    "from qiskit.primitives import Sampler\n",
    "\n",
    "from quantum_serverless import distribute_program, distribute_task, get, save_result\n",
    "\n",
    "\n",
    "@distribute_program()  # or define provider explicitly @distribute_program(provider=Provider(...))\n",
    "def hello_qiskit():\n",
    "    circuit = QuantumCircuit(2)\n",
    "    circuit.h(0)\n",
    "    circuit.cx(0, 1)\n",
    "    circuit.measure_all()\n",
    "    circuit.draw()\n",
    "\n",
    "    sampler = Sampler()\n",
    "    quasi_dists = sampler.run(circuit).result().quasi_dists\n",
    "\n",
    "    save_result(quasi_dists)\n",
    "    \n",
    "job = hello_qiskit()\n",
    "job.result()"
   ]
  },
  {
   "cell_type": "markdown",
   "id": "d5192fa3-70a7-4b22-b2de-04d4b1816323",
   "metadata": {},
   "source": [
    "## Program with distributed tasks"
   ]
  },
  {
   "cell_type": "code",
   "execution_count": 6,
   "id": "a1044e82-3cb9-46f0-9b5b-05a3410f5507",
   "metadata": {},
   "outputs": [
    {
     "name": "stdout",
     "output_type": "stream",
     "text": [
      "OpenBLAS WARNING - could not determine the L2 cache size on this system, assuming 256k\n",
      "OpenBLAS WARNING - could not determine the L2 cache size on this system, assuming 256k\n",
      "2023-08-24 12:38:05,264\tINFO worker.py:1313 -- Using address 172.19.0.3:6379 set in the environment variable RAY_ADDRESS\n",
      "2023-08-24 12:38:05,264\tINFO worker.py:1431 -- Connecting to existing Ray cluster at address: 172.19.0.3:6379...\n",
      "2023-08-24 12:38:05,279\tINFO worker.py:1612 -- Connected to Ray cluster. View the dashboard at \u001b[1m\u001b[32m172.19.0.3:8265 \u001b[39m\u001b[22m\n",
      "\u001b[2m\u001b[36m(pid=5596)\u001b[0m OpenBLAS WARNING - could not determine the L2 cache size on this system, assuming 256k\n",
      "[{0: 0.7239603189136047, 3: 0.2760396810863955}, {0: 0.9215567523267272, 2: 0.0784432476732726}, {0: 0.0158356782806968, 1: 0.9841643217193032}]\n",
      "\u001b[2m\u001b[36m(pid=5597)\u001b[0m OpenBLAS WARNING - could not determine the L2 cache size on this system, assuming 256k\u001b[32m [repeated 5x across cluster] (Ray deduplicates logs by default. Set RAY_DEDUP_LOGS=0 to disable log deduplication, or see https://docs.ray.io/en/master/ray-observability/ray-logging.html#log-deduplication for more options.)\u001b[0m\n",
      "\n"
     ]
    }
   ],
   "source": [
    "from quantum_serverless import get_arguments, save_result, distribute_task, get\n",
    "\n",
    "from qiskit import QuantumCircuit\n",
    "from qiskit.primitives import Sampler\n",
    "from qiskit.circuit.random import random_circuit\n",
    "\n",
    "@distribute_task(target={\"cpu\": 2})\n",
    "def distributed_sample(circuit: QuantumCircuit):\n",
    "    \"\"\"Distributed task that returns quasi distribution for given circuit.\"\"\"\n",
    "    return Sampler().run(circuit).result().quasi_dists[0]\n",
    "\n",
    "\n",
    "@distribute_program()\n",
    "def program_with_distributed_tasks(circuits):\n",
    "    sample_task_references = [\n",
    "        distributed_sample(circuit)\n",
    "        for circuit in circuits\n",
    "    ]\n",
    "    results = get(sample_task_references)\n",
    "    print(results)\n",
    "\n",
    "\n",
    "circuits = []\n",
    "for _ in range(3):\n",
    "    circuit = random_circuit(2, 2)\n",
    "    circuit.measure_all()\n",
    "    circuits.append(circuit)\n",
    "\n",
    "job = program_with_distributed_tasks(circuits=circuits)\n",
    "job.result()\n",
    "print(job.logs())"
   ]
  }
 ],
 "metadata": {
  "kernelspec": {
   "display_name": "Python 3 (ipykernel)",
   "language": "python",
   "name": "python3"
  },
  "language_info": {
   "codemirror_mode": {
    "name": "ipython",
    "version": 3
   },
   "file_extension": ".py",
   "mimetype": "text/x-python",
   "name": "python",
   "nbconvert_exporter": "python",
   "pygments_lexer": "ipython3",
   "version": "3.9.16"
  }
 },
 "nbformat": 4,
 "nbformat_minor": 5
}
