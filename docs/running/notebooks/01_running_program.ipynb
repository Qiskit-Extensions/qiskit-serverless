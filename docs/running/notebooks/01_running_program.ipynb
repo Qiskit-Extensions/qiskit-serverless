{
 "cells": [
  {
   "cell_type": "markdown",
   "id": "66030e20-b384-4dcf-9c5f-7664f7ad1693",
   "metadata": {},
   "source": [
    "# Running a program remotely\n",
    "\n",
    "Let's write `Hello World` program using quantum serverless. \n",
    "\n",
    "We will start with writing code for our program and saving it to [./source_files/program_1.py](./source_files/program_1.py) file. Our program will be a Qiskit hello world example, which prepares a Bell state and then returns the measured probability distribution\n",
    "\n",
    "```python\n",
    "# source_files/program_1.py\n",
    "\n",
    "from qiskit import QuantumCircuit\n",
    "from qiskit.primitives import Sampler\n",
    "\n",
    "circuit = QuantumCircuit(2)\n",
    "circuit.h(0)\n",
    "circuit.cx(0, 1)\n",
    "circuit.measure_all()\n",
    "circuit.draw()\n",
    "\n",
    "sampler = Sampler()\n",
    "\n",
    "quasi_dists = sampler.run(circuit).result().quasi_dists\n",
    "\n",
    "print(f\"Quasi distribution: {quasi_dists[0]}\")\n",
    "```\n",
    "\n",
    "Next we need to run this program. For that we need to import necessary classes and configure them. \n",
    "One of those classes is `QuantumServerless`, which is a client class to interact with compute resources.\n",
    "It will help us run programs, monitor progress and fetch results.\n",
    "\n",
    "`QuantumServerless` accepts `Provider` as a constructor argument. Provider stores configuration where our compute resources are and how to connect to them. For this example we will be using provider which is connected to local docker-compose setup. For more information on docker-compose check out [docker docs](https://docs.docker.com/compose/), but for now you can think of it as your local environment manager. So, in this example programs will be running locally on your machine. If you want to run it elsewhere, you need to provide corresponding host and authentication details."
   ]
  },
  {
   "cell_type": "code",
   "execution_count": 1,
   "id": "81dd7807-7180-4b87-bbf9-832b7cf29d69",
   "metadata": {},
   "outputs": [],
   "source": [
    "from quantum_serverless import QuantumServerless, GatewayProvider"
   ]
  },
  {
   "cell_type": "code",
   "execution_count": 3,
   "id": "acdec789-4967-48ee-8f6c-8d2b0ff57e91",
   "metadata": {},
   "outputs": [
    {
     "data": {
      "text/plain": [
       "<QuantumServerless | providers [gateway-provider]>"
      ]
     },
     "execution_count": 3,
     "metadata": {},
     "output_type": "execute_result"
    }
   ],
   "source": [
    "provider = GatewayProvider(\n",
    "    username=\"user\",\n",
    "    password=\"password123\",\n",
    "    host=\"http://localhost:8000\",\n",
    ")\n",
    "\n",
    "serverless = QuantumServerless(provider)\n",
    "serverless"
   ]
  },
  {
   "cell_type": "markdown",
   "id": "4dd85621-9ab0-4f34-9ab4-07ad773c5e00",
   "metadata": {},
   "source": [
    "Now we need to run our program file, by creating an instance of `Program` and calling `run_program` method of our `QuantumServerless` client.\n",
    "\n",
    "`Program` accepts couple of required parameters:\n",
    "- title - name of the program\n",
    "- entrypoint - name of python file you want to execute\n",
    "- working_dir - folder where  your script is located. This is optional parameter and will be current folder by default. "
   ]
  },
  {
   "cell_type": "code",
   "execution_count": 4,
   "id": "d51df836-3f22-467c-b637-5803145d5d8a",
   "metadata": {},
   "outputs": [
    {
     "data": {
      "text/plain": [
       "<Job | abff8a68-39d5-4e0b-8e3e-8b55e63dcd9e>"
      ]
     },
     "execution_count": 4,
     "metadata": {},
     "output_type": "execute_result"
    }
   ],
   "source": [
    "from quantum_serverless import Program\n",
    "\n",
    "program = Program(\n",
    "    title=\"First program\",\n",
    "    entrypoint=\"program_1.py\",\n",
    "    working_dir=\"./source_files/\"\n",
    ")\n",
    "\n",
    "job = serverless.run_program(program)\n",
    "job"
   ]
  },
  {
   "cell_type": "markdown",
   "id": "39ee31d2-3553-4e19-bcb9-4cccd0df0e4c",
   "metadata": {},
   "source": [
    "As result of `run` call we get `Job` which has `status` method to check status of program execution, `logs` to get logs of execution."
   ]
  },
  {
   "cell_type": "code",
   "execution_count": 5,
   "id": "cc7ccea6-bbae-4184-ba7f-67b6c20a0b0b",
   "metadata": {},
   "outputs": [
    {
     "data": {
      "text/plain": [
       "'SUCCEEDED'"
      ]
     },
     "execution_count": 5,
     "metadata": {},
     "output_type": "execute_result"
    }
   ],
   "source": [
    "job.status()"
   ]
  },
  {
   "cell_type": "code",
   "execution_count": 6,
   "id": "ca76abfa-2ff5-425b-a225-058d91348e8b",
   "metadata": {},
   "outputs": [
    {
     "data": {
      "text/plain": [
       "'Quasi distribution: {0: 0.4999999999999999, 3: 0.4999999999999999}\\n'"
      ]
     },
     "execution_count": 6,
     "metadata": {},
     "output_type": "execute_result"
    }
   ],
   "source": [
    "job.logs()"
   ]
  },
  {
   "cell_type": "markdown",
   "id": "3b1113ef-e8ad-4ed9-b07b-9da2f2b9ea1c",
   "metadata": {},
   "source": [
    "Also this object has `job_id` property that can be used if you want to access job results later.\n",
    "To do so we need to call `get_job_by_id` method of `QuantumServerless` client."
   ]
  },
  {
   "cell_type": "code",
   "execution_count": 7,
   "id": "f942b76d-596c-4384-8f36-e5f73e72cefd",
   "metadata": {},
   "outputs": [
    {
     "data": {
      "text/plain": [
       "'abff8a68-39d5-4e0b-8e3e-8b55e63dcd9e'"
      ]
     },
     "execution_count": 7,
     "metadata": {},
     "output_type": "execute_result"
    }
   ],
   "source": [
    "job.job_id"
   ]
  },
  {
   "cell_type": "markdown",
   "id": "a92069ba-0a3c-4c9f-8e8d-3916a2eb2093",
   "metadata": {},
   "source": [
    "Users can fetch previously ran jobs from configured providers."
   ]
  },
  {
   "cell_type": "code",
   "execution_count": 8,
   "id": "45e2927f-655b-47a4-8003-f16e5ba0a1cd",
   "metadata": {},
   "outputs": [
    {
     "data": {
      "text/plain": [
       "<Job | abff8a68-39d5-4e0b-8e3e-8b55e63dcd9e>"
      ]
     },
     "execution_count": 8,
     "metadata": {},
     "output_type": "execute_result"
    }
   ],
   "source": [
    "serverless.get_job_by_id(job.job_id)"
   ]
  },
  {
   "cell_type": "markdown",
   "id": "e14885fd-8b9c-4d61-a192-b19ba400567f",
   "metadata": {},
   "source": [
    "To get a list of previously ran jobs client has `get_jobs` method."
   ]
  },
  {
   "cell_type": "code",
   "execution_count": 9,
   "id": "e9a2c091-dcf9-4b74-9348-e8a76966fc39",
   "metadata": {},
   "outputs": [
    {
     "data": {
      "text/plain": [
       "[<Job | abff8a68-39d5-4e0b-8e3e-8b55e63dcd9e>]"
      ]
     },
     "execution_count": 9,
     "metadata": {},
     "output_type": "execute_result"
    }
   ],
   "source": [
    "serverless.get_jobs()"
   ]
  }
 ],
 "metadata": {
  "kernelspec": {
   "display_name": "Python 3 (ipykernel)",
   "language": "python",
   "name": "python3"
  },
  "language_info": {
   "codemirror_mode": {
    "name": "ipython",
    "version": 3
   },
   "file_extension": ".py",
   "mimetype": "text/x-python",
   "name": "python",
   "nbconvert_exporter": "python",
   "pygments_lexer": "ipython3",
   "version": "3.7.13"
  }
 },
 "nbformat": 4,
 "nbformat_minor": 5
}
