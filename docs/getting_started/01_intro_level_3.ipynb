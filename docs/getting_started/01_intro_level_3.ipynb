{
 "cells": [
  {
   "cell_type": "markdown",
   "id": "73944cc6-e22d-43ae-8716-78bb00360a0f",
   "metadata": {},
   "source": [
    "# Getting started - level 3\n",
    "\n",
    "In this tutorial we will explore a little bit more advanced example of a program that require some configuration, requirements setup, etc. \n",
    "\n",
    "Again we will start with writing code for our program and saving it to `./source_files/gs_level_3.py` file.\n",
    "This time it will be running estimator as parallel functions and saving results to shared state. \n",
    "\n",
    "```python\n",
    "# source_files/gs_level_3.py\n",
    "\n",
    "from qiskit import QuantumCircuit\n",
    "from qiskit.circuit.random import random_circuit\n",
    "from qiskit.quantum_info import SparsePauliOp\n",
    "from qiskit.primitives import Estimator\n",
    "\n",
    "from quantum_serverless import QuantumServerless, run_qiskit_remote, get, put\n",
    "from quantum_serverless.core.state import RedisStateHandler\n",
    "\n",
    "# 1. let's annotate out function to convert it\n",
    "# to function that can be executed remotely\n",
    "# using `run_qiskit_remote` decorator\n",
    "@run_qiskit_remote()\n",
    "def my_function(circuit: QuantumCircuit, obs: SparsePauliOp):\n",
    "    return Estimator().run([circuit], [obs]).result().values\n",
    "\n",
    "\n",
    "# 2. Next let's create out serverless object to control\n",
    "# where our remote function will be executed\n",
    "serverless = QuantumServerless()\n",
    "\n",
    "# 2.1 (Optional) state handler to write/read results in/out of job\n",
    "state_handler = RedisStateHandler(\"redis\", 6379)\n",
    "\n",
    "circuits = [random_circuit(2, 2) for _ in range(3)]\n",
    "\n",
    "# 3. create serverless context\n",
    "with serverless.context():\n",
    "    # 4. let's put some shared objects into remote storage that will be shared among all executions\n",
    "    obs_ref = put(SparsePauliOp([\"ZZ\"]))\n",
    "\n",
    "    # 4. run our function and get back reference to it\n",
    "    # as now our function it remote one\n",
    "    function_reference = my_function(circuits[0], obs_ref)\n",
    "\n",
    "    # 4.1 or we can run N of them in parallel (for all circuits)\n",
    "    function_references = [my_function(circ, obs_ref) for circ in circuits]\n",
    "\n",
    "    # 5. to get results back from reference\n",
    "    # we need to call `get` on function reference\n",
    "    single_result = get(function_reference)\n",
    "    parallel_result = get(function_references)\n",
    "    print(\"Single execution:\", single_result)\n",
    "    print(\"N parallel executions:\", parallel_result)\n",
    "\n",
    "    # 5.1 (Optional) write results to state.\n",
    "    state_handler.set(\"result\", {\n",
    "        \"status\": \"ok\",\n",
    "        \"single\": single_result.tolist(),\n",
    "        \"parallel_result\": [entry.tolist() for entry in parallel_result]\n",
    "    })\n",
    "```\n",
    "\n",
    "As you can see we move to advanced section of using serverless. \n",
    "\n",
    "Here we are using `run_qiskit_remote` decorator to convert our function to parallel one. \n",
    "With that `my_function` is converted into remote call (as a result you will be getting function pointer) and in order to fetch results of this function we need to call `get` function.\n",
    "\n",
    "Moreover, we are using `RedisStateHandler` in order to save results into state storage, so we can retrieve it later after program execution.\n",
    "\n",
    "Next we need to run this program. For that we need to import necessary modules and configure QuantumServerless client. We are doing so by providing name and host for deployed infrastructure."
   ]
  },
  {
   "cell_type": "code",
   "execution_count": 1,
   "id": "9130c64a-1e7f-4d08-afff-b2905b2d95ad",
   "metadata": {},
   "outputs": [],
   "source": [
    "from quantum_serverless import QuantumServerless, Program\n",
    "from quantum_serverless.core.state import RedisStateHandler"
   ]
  },
  {
   "cell_type": "code",
   "execution_count": 2,
   "id": "0f22daae-9f0e-4f7a-8a1f-5ade989d8be9",
   "metadata": {},
   "outputs": [
    {
     "data": {
      "text/plain": [
       "<QuantumServerless | providers [local, docker]>"
      ]
     },
     "execution_count": 2,
     "metadata": {},
     "output_type": "execute_result"
    }
   ],
   "source": [
    "serverless = QuantumServerless({\n",
    "    \"providers\": [{\n",
    "        \"name\": \"docker\",\n",
    "        \"compute_resource\": {\n",
    "            \"name\": \"docker\",\n",
    "            \"host\": \"localhost\",\n",
    "        }\n",
    "    }]\n",
    "})\n",
    "serverless"
   ]
  },
  {
   "cell_type": "markdown",
   "id": "1f2e4c59-6a45-4e8e-919e-89e66c9727a1",
   "metadata": {},
   "source": [
    "We will create instance of state handler to fetch results from program after execution"
   ]
  },
  {
   "cell_type": "code",
   "execution_count": 3,
   "id": "28a77e08-e542-4259-af67-1c70b8498f68",
   "metadata": {},
   "outputs": [
    {
     "data": {
      "text/plain": [
       "<RedisStateHandler | localhost:6379>"
      ]
     },
     "execution_count": 3,
     "metadata": {},
     "output_type": "execute_result"
    }
   ],
   "source": [
    "state_handler = RedisStateHandler(\"localhost\", 6379)\n",
    "state_handler"
   ]
  },
  {
   "cell_type": "markdown",
   "id": "3321b4a0-b60d-433a-992a-79e5868d309b",
   "metadata": {},
   "source": [
    "Run program"
   ]
  },
  {
   "cell_type": "code",
   "execution_count": 4,
   "id": "f556dd85-35da-48d1-9ae1-f04a386544d9",
   "metadata": {},
   "outputs": [
    {
     "data": {
      "text/plain": [
       "<Job | fqs_fcee8245-5088-411f-8b0f-e214a6f5e765>"
      ]
     },
     "execution_count": 4,
     "metadata": {},
     "output_type": "execute_result"
    }
   ],
   "source": [
    "program = Program(\n",
    "    name=\"Advanced program\",\n",
    "    entrypoint=\"gs_level_3.py\",\n",
    "    working_dir=\"./source_files/\"\n",
    ")\n",
    "\n",
    "job = serverless.run_program(program)\n",
    "job"
   ]
  },
  {
   "cell_type": "code",
   "execution_count": 9,
   "id": "2de3fd64-9010-48d9-ac7c-f46a7b36ba81",
   "metadata": {},
   "outputs": [
    {
     "data": {
      "text/plain": [
       "<JobStatus.SUCCEEDED: 'SUCCEEDED'>"
      ]
     },
     "execution_count": 9,
     "metadata": {},
     "output_type": "execute_result"
    }
   ],
   "source": [
    "job.status()"
   ]
  },
  {
   "cell_type": "code",
   "execution_count": 10,
   "id": "d6586e7a-388b-42cc-a860-abd4f6d514b9",
   "metadata": {},
   "outputs": [
    {
     "name": "stdout",
     "output_type": "stream",
     "text": [
      "Single execution: [1.]\n",
      "N parallel executions: [array([1.]), array([0.]), array([-1.])]\n",
      "\n"
     ]
    }
   ],
   "source": [
    "print(job.logs())"
   ]
  },
  {
   "cell_type": "markdown",
   "id": "29336f0b-ffcf-4cdb-931c-11faf09f15ff",
   "metadata": {},
   "source": [
    "With `state_handler` as can fetch results that we wrote inside the program."
   ]
  },
  {
   "cell_type": "code",
   "execution_count": 11,
   "id": "1fb8931f-c8e2-49dd-923f-16fa3a7a5feb",
   "metadata": {},
   "outputs": [
    {
     "data": {
      "text/plain": [
       "{'status': 'ok', 'single': [1.0], 'parallel_result': [[1.0], [0.0], [-1.0]]}"
      ]
     },
     "execution_count": 11,
     "metadata": {},
     "output_type": "execute_result"
    }
   ],
   "source": [
    "state_handler.get(\"result\")"
   ]
  }
 ],
 "metadata": {
  "kernelspec": {
   "display_name": "Python 3 (ipykernel)",
   "language": "python",
   "name": "python3"
  },
  "language_info": {
   "codemirror_mode": {
    "name": "ipython",
    "version": 3
   },
   "file_extension": ".py",
   "mimetype": "text/x-python",
   "name": "python",
   "nbconvert_exporter": "python",
   "pygments_lexer": "ipython3",
   "version": "3.7.13"
  }
 },
 "nbformat": 4,
 "nbformat_minor": 5
}
