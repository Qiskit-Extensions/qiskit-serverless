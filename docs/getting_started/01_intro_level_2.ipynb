{
 "cells": [
  {
   "cell_type": "markdown",
   "id": "3ff90cec-1b42-4744-9400-eb5a4bd1ef3a",
   "metadata": {},
   "source": [
    "# Getting started - level 2\n",
    "\n",
    "In this tutorial we will explore a little bit more advanced example of a program that require some configuration, requirements setup, etc. \n",
    "\n",
    "Again we will start with writing code for our program and saving it to `./source_files/gs_level_2.py` file.\n",
    "This time it will be VQE example from [Qiskit documentation](https://qiskit.org/documentation/nature/tutorials/07_leveraging_qiskit_runtime.html) and we also introduce dependency management and arguments to our programs.\n",
    "\n",
    "```python\n",
    "# source_files/gs_level_2.py\n",
    "\n",
    "import argparse\n",
    "\n",
    "from qiskit_nature.units import DistanceUnit\n",
    "from qiskit_nature.second_q.drivers import PySCFDriver\n",
    "from qiskit_nature.second_q.mappers import QubitConverter\n",
    "from qiskit_nature.second_q.mappers import ParityMapper\n",
    "from qiskit_nature.second_q.properties import ParticleNumber\n",
    "from qiskit_nature.second_q.transformers import ActiveSpaceTransformer\n",
    "from qiskit.algorithms.minimum_eigensolvers import NumPyMinimumEigensolver\n",
    "from qiskit_nature.second_q.algorithms.ground_state_solvers import GroundStateEigensolver\n",
    "from qiskit.circuit.library import EfficientSU2\n",
    "import numpy as np\n",
    "from qiskit.utils import algorithm_globals\n",
    "from qiskit.algorithms.optimizers import SPSA\n",
    "from qiskit.algorithms.minimum_eigensolvers import VQE\n",
    "from qiskit.primitives import Estimator\n",
    "\n",
    "\n",
    "def run(bond_distance: float = 2.5):\n",
    "    driver = PySCFDriver(\n",
    "        atom=f\"Li 0 0 0; H 0 0 {bond_distance}\",\n",
    "        basis=\"sto3g\",\n",
    "        charge=0,\n",
    "        spin=0,\n",
    "        unit=DistanceUnit.ANGSTROM,\n",
    "    )\n",
    "    problem = driver.run()\n",
    "\n",
    "    active_space_trafo = ActiveSpaceTransformer(\n",
    "        num_electrons=problem.num_particles, num_spatial_orbitals=3\n",
    "    )\n",
    "    problem = active_space_trafo.transform(problem)\n",
    "    qubit_converter = QubitConverter(ParityMapper(), two_qubit_reduction=True)\n",
    "\n",
    "    ansatz = EfficientSU2(num_qubits=4, reps=1, entanglement=\"linear\", insert_barriers=True)\n",
    "\n",
    "    np.random.seed(5)\n",
    "    algorithm_globals.random_seed = 5\n",
    "\n",
    "\n",
    "    optimizer = SPSA(maxiter=100)\n",
    "    initial_point = np.random.random(ansatz.num_parameters)\n",
    "\n",
    "    estimator = Estimator()\n",
    "    local_vqe = VQE(\n",
    "        estimator,\n",
    "        ansatz,\n",
    "        optimizer,\n",
    "        initial_point=initial_point,\n",
    "    )\n",
    "\n",
    "    local_vqe_groundstate_solver = GroundStateEigensolver(qubit_converter, local_vqe)\n",
    "    local_vqe_result = local_vqe_groundstate_solver.solve(problem)\n",
    "\n",
    "    print(local_vqe_result)\n",
    "\n",
    "\n",
    "if __name__ == \"__main__\":\n",
    "    parser = argparse.ArgumentParser()\n",
    "    parser.add_argument(\n",
    "        \"--bond_length\",\n",
    "        help=\"Bond length in Angstrom.\",\n",
    "        default=2.5,\n",
    "        type=float,\n",
    "    )\n",
    "    args = parser.parse_args()\n",
    "\n",
    "    print(f\"Running for bond length {args.bond_length}.\")\n",
    "    run(args.bond_length)\n",
    "\n",
    "```\n",
    "\n",
    "As you can see here we used couple of additional things compared to `getting started level 1`. \n",
    "\n",
    "First we are using `qiskit-nature` module and `pyscf` extension. \n",
    "We also using argument parsing to accept arguments to our program. In this case argument is `bond_length`.  \n",
    "\n",
    "Next we need to run this program. For that we need to import necessary modules and configure `QuantumServerless` client. We are doing so by providing name and host for deployed infrastructure.\n",
    "\n",
    "In addition to that we will provide additional `dependencies` and `arguments` to our `Program` construction.\n",
    "- `dependencies` parameter will install provided libraries to run our script\n",
    "- `arguments` parameter is a dictionary with arguments that will be passed for script execution"
   ]
  },
  {
   "cell_type": "code",
   "execution_count": 1,
   "id": "79434a17-1222-4d04-a81a-8140ed630ed6",
   "metadata": {},
   "outputs": [],
   "source": [
    "from quantum_serverless import QuantumServerless, Program"
   ]
  },
  {
   "cell_type": "code",
   "execution_count": 2,
   "id": "b6ec8969-8c3d-4b7f-8c4c-adc6dbb9c59f",
   "metadata": {},
   "outputs": [
    {
     "data": {
      "text/plain": [
       "<QuantumServerless | providers [local, docker]>"
      ]
     },
     "execution_count": 2,
     "metadata": {},
     "output_type": "execute_result"
    }
   ],
   "source": [
    "serverless = QuantumServerless({\n",
    "    \"providers\": [{\n",
    "        \"name\": \"docker\",\n",
    "        \"compute_resource\": {\n",
    "            \"name\": \"docker\",\n",
    "            \"host\": \"localhost\",\n",
    "        }\n",
    "    }]\n",
    "})\n",
    "serverless"
   ]
  },
  {
   "cell_type": "code",
   "execution_count": 3,
   "id": "3ee09b31-4c7f-4ff3-af8f-294e4256793e",
   "metadata": {},
   "outputs": [
    {
     "data": {
      "text/plain": [
       "<Job | fqs_ed567280-cffe-416a-b1d2-408adc182647>"
      ]
     },
     "execution_count": 3,
     "metadata": {},
     "output_type": "execute_result"
    }
   ],
   "source": [
    "program = Program(\n",
    "    name=\"Getting started program level 2\",\n",
    "    entrypoint=\"gs_level_2.py\",\n",
    "    working_dir=\"./source_files\",\n",
    "    dependencies=[\"qiskit-nature\", \"qiskit-nature[pyscf]\"],\n",
    "    arguments={\n",
    "        \"bond_length\": 2.55\n",
    "    }\n",
    ")\n",
    "\n",
    "job = serverless.run_program(program)\n",
    "job"
   ]
  },
  {
   "cell_type": "code",
   "execution_count": 6,
   "id": "7e3b0cc7-2f08-4b69-a266-bbbe4e9a6c59",
   "metadata": {},
   "outputs": [
    {
     "name": "stdout",
     "output_type": "stream",
     "text": [
      "Running for bond length 2.55.\n",
      "=== GROUND STATE ENERGY ===\n",
      " \n",
      "* Electronic ground state energy (Hartree): -8.211426457622\n",
      "  - computed part:      -8.211426457622\n",
      "  - ActiveSpaceTransformer extracted energy part: 0.0\n",
      "~ Nuclear repulsion energy (Hartree): 0.622561424612\n",
      "> Total ground state energy (Hartree): -7.58886503301\n",
      " \n",
      "=== MEASURED OBSERVABLES ===\n",
      " \n",
      "  0:  # Particles: 3.997 S: 0.436 S^2: 0.626 M: 0.001\n",
      " \n",
      "=== DIPOLE MOMENTS ===\n",
      " \n",
      "~ Nuclear dipole moment (a.u.): [0.0  0.0  4.81880162]\n",
      " \n",
      "  0: \n",
      "  * Electronic dipole moment (a.u.): [0.0  0.0  1.53218971]\n",
      "    - computed part:      [0.0  0.0  1.53218971]\n",
      "    - ActiveSpaceTransformer extracted energy part: [0.0  0.0  0.0]\n",
      "  > Dipole moment (a.u.): [0.0  0.0  3.28661191]  Total: 3.28661191\n",
      "                 (debye): [0.0  0.0  8.35373344]  Total: 8.35373344\n",
      " \n",
      "\n"
     ]
    }
   ],
   "source": [
    "print(job.logs())"
   ]
  }
 ],
 "metadata": {
  "kernelspec": {
   "display_name": "Python 3 (ipykernel)",
   "language": "python",
   "name": "python3"
  },
  "language_info": {
   "codemirror_mode": {
    "name": "ipython",
    "version": 3
   },
   "file_extension": ".py",
   "mimetype": "text/x-python",
   "name": "python",
   "nbconvert_exporter": "python",
   "pygments_lexer": "ipython3",
   "version": "3.7.13"
  }
 },
 "nbformat": 4,
 "nbformat_minor": 5
}
