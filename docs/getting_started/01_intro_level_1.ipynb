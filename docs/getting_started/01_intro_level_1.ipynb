{
 "cells": [
  {
   "cell_type": "markdown",
   "id": "66030e20-b384-4dcf-9c5f-7664f7ad1693",
   "metadata": {},
   "source": [
    "# Getting started - level 1\n",
    "\n",
    "Let's write `Hello World` program using quantum serverless. \n",
    "\n",
    "We will start with writing code for our program and saving it to `./source_files/gs_level_1.py` file. It will be simple hello world qiskit example.\n",
    "\n",
    "```python\n",
    "# source_files/gs_level_1.py\n",
    "\n",
    "from qiskit import QuantumCircuit\n",
    "from qiskit.primitives import Sampler\n",
    "\n",
    "circuit = QuantumCircuit(2)\n",
    "circuit.h(0)\n",
    "circuit.cx(0, 1)\n",
    "circuit.measure_all()\n",
    "circuit.draw()\n",
    "\n",
    "sampler = Sampler()\n",
    "\n",
    "quasi_dists = sampler.run(circuit).result().quasi_dists\n",
    "\n",
    "print(f\"Quasi distribution: {quasi_dists[0]}\")\n",
    "```\n",
    "\n",
    "Next we need to run this program. For that we need to import necessary modules and configure QuantumServerless client. We are doing so by providing name and host for deployed infrastructure."
   ]
  },
  {
   "cell_type": "code",
   "execution_count": 1,
   "id": "81dd7807-7180-4b87-bbf9-832b7cf29d69",
   "metadata": {},
   "outputs": [],
   "source": [
    "from quantum_serverless import QuantumServerless, Program"
   ]
  },
  {
   "cell_type": "code",
   "execution_count": 2,
   "id": "acdec789-4967-48ee-8f6c-8d2b0ff57e91",
   "metadata": {},
   "outputs": [
    {
     "data": {
      "text/plain": [
       "<QuantumServerless | providers [local, docker]>"
      ]
     },
     "execution_count": 2,
     "metadata": {},
     "output_type": "execute_result"
    }
   ],
   "source": [
    "serverless = QuantumServerless({\n",
    "    \"providers\": [{\n",
    "        \"name\": \"docker\",\n",
    "        \"compute_resource\": {\n",
    "            \"name\": \"docker\",\n",
    "            \"host\": \"localhost\",\n",
    "        }\n",
    "    }]\n",
    "})\n",
    "serverless"
   ]
  },
  {
   "cell_type": "markdown",
   "id": "4dd85621-9ab0-4f34-9ab4-07ad773c5e00",
   "metadata": {},
   "source": [
    "Now we need to run our program file, by creating an instance of `Program` and calling `run_program` method of our `QuantumServerless` client.\n",
    "\n",
    "`Program` accepts couple of required parameters:\n",
    "- name - name of the program\n",
    "- entrypoint - name of python file you want to execute\n",
    "- working_dir - folder where  your script is located. This is optional parameter and will be current folder by default. "
   ]
  },
  {
   "cell_type": "code",
   "execution_count": 3,
   "id": "d51df836-3f22-467c-b637-5803145d5d8a",
   "metadata": {},
   "outputs": [
    {
     "data": {
      "text/plain": [
       "<Job | fqs_76b8db40-6150-48bf-b971-ac0b13db12b5>"
      ]
     },
     "execution_count": 3,
     "metadata": {},
     "output_type": "execute_result"
    }
   ],
   "source": [
    "program = Program(\n",
    "    name=\"Getting started program level 1\",\n",
    "    entrypoint=\"gs_level_1.py\",\n",
    "    working_dir=\"./source_files/\"\n",
    ")\n",
    "\n",
    "job = serverless.run_program(program)\n",
    "job"
   ]
  },
  {
   "cell_type": "markdown",
   "id": "39ee31d2-3553-4e19-bcb9-4cccd0df0e4c",
   "metadata": {},
   "source": [
    "As result of `run_program` call we get `Job` which has `status` method to check status of program execution, `logs` to get logs of execution."
   ]
  },
  {
   "cell_type": "code",
   "execution_count": 5,
   "id": "cc7ccea6-bbae-4184-ba7f-67b6c20a0b0b",
   "metadata": {},
   "outputs": [
    {
     "data": {
      "text/plain": [
       "<JobStatus.SUCCEEDED: 'SUCCEEDED'>"
      ]
     },
     "execution_count": 5,
     "metadata": {},
     "output_type": "execute_result"
    }
   ],
   "source": [
    "job.status()"
   ]
  },
  {
   "cell_type": "code",
   "execution_count": 6,
   "id": "ca76abfa-2ff5-425b-a225-058d91348e8b",
   "metadata": {},
   "outputs": [
    {
     "data": {
      "text/plain": [
       "'Quasi distribution: {0: 0.4999999999999999, 3: 0.4999999999999999}\\n'"
      ]
     },
     "execution_count": 6,
     "metadata": {},
     "output_type": "execute_result"
    }
   ],
   "source": [
    "job.logs()"
   ]
  },
  {
   "cell_type": "markdown",
   "id": "3b1113ef-e8ad-4ed9-b07b-9da2f2b9ea1c",
   "metadata": {},
   "source": [
    "Also this object has `job_id` property that can be used if you want to access job results later.\n",
    "To do so we need to call `get_job_by_id` method of `QuantumServerless` client."
   ]
  },
  {
   "cell_type": "code",
   "execution_count": 7,
   "id": "f942b76d-596c-4384-8f36-e5f73e72cefd",
   "metadata": {},
   "outputs": [
    {
     "data": {
      "text/plain": [
       "'qs_76b8db40-6150-48bf-b971-ac0b13db12b5'"
      ]
     },
     "execution_count": 7,
     "metadata": {},
     "output_type": "execute_result"
    }
   ],
   "source": [
    "job.job_id"
   ]
  },
  {
   "cell_type": "code",
   "execution_count": 8,
   "id": "45e2927f-655b-47a4-8003-f16e5ba0a1cd",
   "metadata": {},
   "outputs": [
    {
     "data": {
      "text/plain": [
       "<Job | fqs_76b8db40-6150-48bf-b971-ac0b13db12b5>"
      ]
     },
     "execution_count": 8,
     "metadata": {},
     "output_type": "execute_result"
    }
   ],
   "source": [
    "serverless.get_job_by_id(job.job_id)"
   ]
  }
 ],
 "metadata": {
  "kernelspec": {
   "display_name": "Python 3 (ipykernel)",
   "language": "python",
   "name": "python3"
  },
  "language_info": {
   "codemirror_mode": {
    "name": "ipython",
    "version": 3
   },
   "file_extension": ".py",
   "mimetype": "text/x-python",
   "name": "python",
   "nbconvert_exporter": "python",
   "pygments_lexer": "ipython3",
   "version": "3.7.13"
  }
 },
 "nbformat": 4,
 "nbformat_minor": 5
}
