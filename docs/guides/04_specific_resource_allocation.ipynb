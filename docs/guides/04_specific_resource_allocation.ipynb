{
 "cells": [
  {
   "cell_type": "code",
   "execution_count": 4,
   "id": "4e057b09-e502-4a82-b381-fa9c7ded5faf",
   "metadata": {},
   "outputs": [],
   "source": [
    "from typing import List\n",
    "\n",
    "from qiskit import QuantumCircuit, transpile\n",
    "from qiskit.circuit.random import random_circuit\n",
    "\n",
    "from quantum_serverless import QuantumServerless, remote, get"
   ]
  },
  {
   "cell_type": "code",
   "execution_count": 5,
   "id": "ff073fc9-1e24-4122-b968-032ee3d2d2f2",
   "metadata": {},
   "outputs": [
    {
     "data": {
      "text/plain": [
       "QuantumServerless:\n",
       " | selected cluster: <Cluster: Local (all cores)>"
      ]
     },
     "execution_count": 5,
     "metadata": {},
     "output_type": "execute_result"
    }
   ],
   "source": [
    "serverless = QuantumServerless()\n",
    "\n",
    "serverless"
   ]
  },
  {
   "cell_type": "code",
   "execution_count": 6,
   "id": "e6b433b5-63dd-4e99-8b1c-472344c2e311",
   "metadata": {},
   "outputs": [],
   "source": [
    "@remote(num_cpus=2)\n",
    "def remote_transpile(circuits: List[QuantumCircuit]):\n",
    "    return transpile(circuits)"
   ]
  },
  {
   "cell_type": "code",
   "execution_count": 8,
   "id": "96e18044-bd49-4d7b-baa4-9866da07d442",
   "metadata": {},
   "outputs": [],
   "source": [
    "circuits = [random_circuit(5, 2) for _ in range(3)]"
   ]
  },
  {
   "cell_type": "code",
   "execution_count": 9,
   "id": "3ad5f102-5c48-4a08-a27f-e55a23131592",
   "metadata": {},
   "outputs": [
    {
     "data": {
      "text/plain": [
       "[<qiskit.circuit.quantumcircuit.QuantumCircuit at 0x7f79793161a0>,\n",
       " <qiskit.circuit.quantumcircuit.QuantumCircuit at 0x7f7979317f10>,\n",
       " <qiskit.circuit.quantumcircuit.QuantumCircuit at 0x7f7979315570>]"
      ]
     },
     "execution_count": 9,
     "metadata": {},
     "output_type": "execute_result"
    }
   ],
   "source": [
    "with serverless.context():\n",
    "    results = get(remote_transpile.remote(circuits))\n",
    "    \n",
    "results"
   ]
  },
  {
   "cell_type": "code",
   "execution_count": null,
   "id": "acbae6db-195e-40b3-980f-06a1858f0519",
   "metadata": {},
   "outputs": [],
   "source": []
  }
 ],
 "metadata": {
  "kernelspec": {
   "display_name": "Python 3 (ipykernel)",
   "language": "python",
   "name": "python3"
  },
  "language_info": {
   "codemirror_mode": {
    "name": "ipython",
    "version": 3
   },
   "file_extension": ".py",
   "mimetype": "text/x-python",
   "name": "python",
   "nbconvert_exporter": "python",
   "pygments_lexer": "ipython3",
   "version": "3.10.4"
  }
 },
 "nbformat": 4,
 "nbformat_minor": 5
}
