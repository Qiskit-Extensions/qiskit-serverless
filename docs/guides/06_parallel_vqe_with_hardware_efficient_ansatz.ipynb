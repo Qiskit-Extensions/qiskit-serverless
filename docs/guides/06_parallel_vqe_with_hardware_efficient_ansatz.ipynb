{
 "cells": [
  {
   "cell_type": "code",
   "execution_count": 10,
   "id": "f52b328b-4569-4c34-bf79-fd57e44b7495",
   "metadata": {},
   "outputs": [],
   "source": [
    "import os\n",
    "import matplotlib.pyplot as plt\n",
    "\n",
    "from qiskit_ibm_runtime import QiskitRuntimeService\n",
    "from qiskit_nature.drivers import Molecule\n",
    "\n",
    "from quantum_serverless import QuantumServerless\n",
    "from quantum_serverless.library import efficient_ansatz_vqe_sweep"
   ]
  },
  {
   "cell_type": "markdown",
   "id": "2de9d953-9b8c-4cad-b72b-5a5cf8ddd8fb",
   "metadata": {},
   "source": [
    "### Overview\n",
    "\n",
    "This is overview architecture of this demo\n",
    "\n",
    "![parameter sweep](images/parameters_sweep_vqe_efficient_ansatz.png)"
   ]
  },
  {
   "cell_type": "markdown",
   "id": "286f78c0-3fc1-4296-b139-24d786a402bd",
   "metadata": {},
   "source": [
    "### Implementation\n",
    "\n",
    "Let's see how we can implement this.\n",
    "For full implementation [see here]().\n",
    "\n",
    "```python\n",
    "# quantum_serverless/library/efficient_ansatz_vqe_sweep.py\n",
    "\n",
    "from quantum_serverless import run_qiskit_remote, get\n",
    "\n",
    "\n",
    "@run_qiskit_remote()\n",
    "def hardware_efficient_ansatz(\n",
    "    molecule: Molecule,\n",
    "    initial_point: Union[List[float], np.ndarray],\n",
    "    options: Optional[Options] = None,\n",
    "    service: Optional[Union[QiskitRuntimeService, Dict[str, Any]]] = None,\n",
    "):\n",
    "    driver = PySCFDriver.from_molecule(molecule=molecule, ...)\n",
    "    es_problem = ElectronicStructureProblem(driver, ...)\n",
    "    ansatz = ...\n",
    "    operator = qubit_converter.convert(es_problem.second_q_ops(), ...)\n",
    "    optimizer = COBYLA(maxiter=500)\n",
    "    ...\n",
    "    \n",
    "    with Session(service=service) as session:\n",
    "        estimator = QiskitEstimator([ansatz], [operator])\n",
    "        estimator = Estimator(session=session, options=options)\n",
    "\n",
    "        vqe = EstimatorVQE(\n",
    "            estimator=estimator,\n",
    "            circuit=ansatz,\n",
    "            optimizer=optimizer,\n",
    "            init_point=initial_point,\n",
    "        )\n",
    "\n",
    "        vqe_result = vqe.compute_minimum_eigenvalue(operator)\n",
    "       \n",
    "    return vqe_result.optimal_value\n",
    "\n",
    "\n",
    "def efficient_ansatz_vqe_sweep(\n",
    "    molecules: List[Molecule],\n",
    "    initial_points: Optional[List[List[float]]] = None,\n",
    "    service: Optional[QiskitRuntimeService] = None,\n",
    "    backends: Optional[List[IBMQBackend]] = None,\n",
    "):\n",
    "    ...\n",
    "    function_references = [\n",
    "        hardware_efficient_ansatz(\n",
    "            molecule=molecule,\n",
    "            initial_point=initial_point,\n",
    "            service=service,\n",
    "        )\n",
    "        for molecule, initial_point in zip(molecules, initial_points)\n",
    "    ]\n",
    "\n",
    "    return get(function_references)\n",
    "```"
   ]
  },
  {
   "cell_type": "markdown",
   "id": "631287dd-dbac-44dd-996f-58f1534dbb47",
   "metadata": {},
   "source": [
    "### Initialization"
   ]
  },
  {
   "cell_type": "code",
   "execution_count": 3,
   "id": "3a989e04-cecb-485a-93b1-b4dcaacb1539",
   "metadata": {},
   "outputs": [
    {
     "data": {
      "text/plain": [
       "<QuantumServerless: providers [local, ibm], clusters [local, ibm_remote]>"
      ]
     },
     "execution_count": 3,
     "metadata": {},
     "output_type": "execute_result"
    }
   ],
   "source": [
    "# default initialization\n",
    "serverless = QuantumServerless()\n",
    "\n",
    "# from configuration object\n",
    "config = {\"providers\": []}\n",
    "serverless = QuantumServerless(config)\n",
    "\n",
    "# from config file\n",
    "serverless = QuantumServerless.load_configuration(\"./serverless_config.json\")\n",
    "\n",
    "serverless"
   ]
  },
  {
   "cell_type": "code",
   "execution_count": 4,
   "id": "4e63ed56-4942-4556-af10-e2a03b1ac3e2",
   "metadata": {},
   "outputs": [
    {
     "data": {
      "text/plain": [
       "[<Provider: local>, <Provider: ibm>]"
      ]
     },
     "execution_count": 4,
     "metadata": {},
     "output_type": "execute_result"
    }
   ],
   "source": [
    "# get available providers\n",
    "serverless.providers()"
   ]
  },
  {
   "cell_type": "code",
   "execution_count": 5,
   "id": "b81d5298-605b-4bdd-92f1-b95b024fc275",
   "metadata": {},
   "outputs": [
    {
     "data": {
      "text/plain": [
       "[<IBMQSimulator('ibmq_qasm_simulator') from IBMQ(hub='ibm-q', group='open', project='main')>,\n",
       " <IBMQBackend('ibmq_lima') from IBMQ(hub='ibm-q', group='open', project='main')>,\n",
       " <IBMQBackend('ibmq_belem') from IBMQ(hub='ibm-q', group='open', project='main')>,\n",
       " <IBMQBackend('ibmq_quito') from IBMQ(hub='ibm-q', group='open', project='main')>,\n",
       " <IBMQSimulator('simulator_statevector') from IBMQ(hub='ibm-q', group='open', project='main')>,\n",
       " <IBMQSimulator('simulator_mps') from IBMQ(hub='ibm-q', group='open', project='main')>,\n",
       " <IBMQSimulator('simulator_extended_stabilizer') from IBMQ(hub='ibm-q', group='open', project='main')>,\n",
       " <IBMQSimulator('simulator_stabilizer') from IBMQ(hub='ibm-q', group='open', project='main')>,\n",
       " <IBMQBackend('ibmq_manila') from IBMQ(hub='ibm-q', group='open', project='main')>,\n",
       " <IBMQBackend('ibm_nairobi') from IBMQ(hub='ibm-q', group='open', project='main')>,\n",
       " <IBMQBackend('ibm_oslo') from IBMQ(hub='ibm-q', group='open', project='main')>]"
      ]
     },
     "execution_count": 5,
     "metadata": {},
     "output_type": "execute_result"
    }
   ],
   "source": [
    "# get available backends\n",
    "backends = serverless.backends()\n",
    "\n",
    "backends"
   ]
  },
  {
   "cell_type": "code",
   "execution_count": 7,
   "id": "22986c75-bcca-4014-bbcb-24eff8c206c2",
   "metadata": {},
   "outputs": [],
   "source": [
    "# help(efficient_ansatz_vqe_sweep)"
   ]
  },
  {
   "cell_type": "code",
   "execution_count": 8,
   "id": "870f786e-603b-48e9-af6b-effab8487317",
   "metadata": {},
   "outputs": [
    {
     "data": {
      "text/plain": [
       "<IBMQSimulator('ibmq_qasm_simulator') from IBMQ(hub='ibm-q', group='open', project='main')>"
      ]
     },
     "execution_count": 8,
     "metadata": {},
     "output_type": "execute_result"
    }
   ],
   "source": [
    "ibmq_qasm_sim = backends[0]\n",
    "\n",
    "ibmq_qasm_sim"
   ]
  },
  {
   "cell_type": "code",
   "execution_count": 12,
   "id": "7428361b-48a5-42c2-a815-5991613796c4",
   "metadata": {},
   "outputs": [],
   "source": [
    "service = QiskitRuntimeService(\n",
    "    channel=os.environ[\"RUNTIME_CHANNEL\"],\n",
    "    token=os.environ[\"RUNTIME_TOKEN\"]\n",
    ")"
   ]
  },
  {
   "cell_type": "code",
   "execution_count": 14,
   "id": "24a75e07-2074-41fb-8e80-b15da91fed6d",
   "metadata": {},
   "outputs": [],
   "source": [
    "%%capture\n",
    "\n",
    "with serverless:  # or serverless.provider(\"ibm\")\n",
    "    energies = efficient_ansatz_vqe_sweep(\n",
    "        molecules=[\n",
    "            Molecule(geometry=[(\"H\", [0.0, 0.0, 0.0]), (\"Li\", [0.0, 0.0, 1.0])], charge=0, multiplicity=1),\n",
    "            Molecule(geometry=[(\"H\", [0.0, 0.0, 0.0]), (\"Li\", [0.0, 0.0, 1.5])], charge=0, multiplicity=1),\n",
    "            Molecule(geometry=[(\"H\", [0.0, 0.0, 0.0]), (\"Li\", [0.0, 0.0, 2.0])], charge=0, multiplicity=1),\n",
    "        ],\n",
    "        initial_points=[\n",
    "            [0.1, 0.1, 0.1, 0.1],\n",
    "            [0.01, 0.01, 0.01, 0.01],\n",
    "            [0.001, 0.001, 0.001, 0.001],\n",
    "        ],\n",
    "        service=service,\n",
    "        backends=[ibmq_qasm_sim]\n",
    "    )"
   ]
  },
  {
   "cell_type": "code",
   "execution_count": 17,
   "id": "a60fc346-6424-48dc-8fb7-6996d058141f",
   "metadata": {},
   "outputs": [
    {
     "data": {
      "text/plain": [
       "[-7.7696496068362535, -7.442762548941497, -7.577270589931545]"
      ]
     },
     "execution_count": 17,
     "metadata": {},
     "output_type": "execute_result"
    }
   ],
   "source": [
    "energies"
   ]
  },
  {
   "cell_type": "code",
   "execution_count": 16,
   "id": "c3d189e7-0e37-4e3c-bcd5-21a3f8c53b85",
   "metadata": {},
   "outputs": [
    {
     "data": {
      "image/png": "[encoded data removed]",
      "text/plain": [
       "<Figure size 640x480 with 1 Axes>"
      ]
     },
     "metadata": {},
     "output_type": "display_data"
    }
   ],
   "source": [
    "dist = [1.0,1.5,2.0]\n",
    "plt.plot(dist, energies, 'o', label = 'VQE')\n",
    "plt.xlabel('LiH dist (A)')\n",
    "plt.ylabel('Enrgy (Ha)')\n",
    "plt.legend()\n",
    "plt.show()"
   ]
  },
  {
   "cell_type": "code",
   "execution_count": null,
   "id": "cfd411ee-5f1d-4155-9f0d-915090d07015",
   "metadata": {},
   "outputs": [],
   "source": []
  }
 ],
 "metadata": {
  "kernelspec": {
   "display_name": "Python 3 (ipykernel)",
   "language": "python",
   "name": "python3"
  },
  "language_info": {
   "codemirror_mode": {
    "name": "ipython",
    "version": 3
   },
   "file_extension": ".py",
   "mimetype": "text/x-python",
   "name": "python",
   "nbconvert_exporter": "python",
   "pygments_lexer": "ipython3",
   "version": "3.7.13"
  }
 },
 "nbformat": 4,
 "nbformat_minor": 5
}
