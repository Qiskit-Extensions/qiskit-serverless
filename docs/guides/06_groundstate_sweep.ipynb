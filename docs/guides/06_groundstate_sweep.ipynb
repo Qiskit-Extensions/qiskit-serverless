{
 "cells": [
  {
   "cell_type": "code",
   "execution_count": 85,
   "id": "f52b328b-4569-4c34-bf79-fd57e44b7495",
   "metadata": {},
   "outputs": [],
   "source": [
    "import matplotlib.pyplot as plt\n",
    "import numpy as np\n",
    "\n",
    "from qiskit_nature.drivers import Molecule\n",
    "\n",
    "from quantum_serverless import QuantumServerless\n",
    "from quantum_serverless.library.groundstate_sweep import groundstate_solver_parallel_sweep"
   ]
  },
  {
   "cell_type": "markdown",
   "id": "631287dd-dbac-44dd-996f-58f1534dbb47",
   "metadata": {},
   "source": [
    "### Initialization"
   ]
  },
  {
   "cell_type": "code",
   "execution_count": 2,
   "id": "3a989e04-cecb-485a-93b1-b4dcaacb1539",
   "metadata": {},
   "outputs": [
    {
     "data": {
      "text/plain": [
       "<QuantumServerless: providers [local, ibm], clusters [local, ibm_remote]>"
      ]
     },
     "execution_count": 2,
     "metadata": {},
     "output_type": "execute_result"
    }
   ],
   "source": [
    "# default initialization\n",
    "serverless = QuantumServerless()\n",
    "\n",
    "# from configuration object\n",
    "config = {\"providers\": [{\"name\": \"ibm\"}]}\n",
    "serverless = QuantumServerless(config)\n",
    "\n",
    "# from config file\n",
    "serverless = QuantumServerless.load_configuration(\"./serverless_config.json\")\n",
    "\n",
    "serverless"
   ]
  },
  {
   "cell_type": "code",
   "execution_count": 3,
   "id": "4e63ed56-4942-4556-af10-e2a03b1ac3e2",
   "metadata": {},
   "outputs": [
    {
     "data": {
      "text/plain": [
       "[<Provider: local>, <Provider: ibm>]"
      ]
     },
     "execution_count": 3,
     "metadata": {},
     "output_type": "execute_result"
    }
   ],
   "source": [
    "# get available providers\n",
    "serverless.providers()"
   ]
  },
  {
   "cell_type": "code",
   "execution_count": 4,
   "id": "2276c8f5-986c-4d33-9f1f-65f54824e350",
   "metadata": {},
   "outputs": [
    {
     "data": {
      "text/plain": [
       "[<Cluster: local>, <Cluster: ibm_remote>]"
      ]
     },
     "execution_count": 4,
     "metadata": {},
     "output_type": "execute_result"
    }
   ],
   "source": [
    "# get available clusters\n",
    "serverless.clusters()"
   ]
  },
  {
   "cell_type": "code",
   "execution_count": 5,
   "id": "b81d5298-605b-4bdd-92f1-b95b024fc275",
   "metadata": {},
   "outputs": [
    {
     "data": {
      "text/plain": [
       "[<IBMQSimulator('ibmq_qasm_simulator') from IBMQ(hub='ibm-q', group='open', project='main')>,\n",
       " <IBMQBackend('ibmq_lima') from IBMQ(hub='ibm-q', group='open', project='main')>,\n",
       " <IBMQBackend('ibmq_belem') from IBMQ(hub='ibm-q', group='open', project='main')>,\n",
       " <IBMQBackend('ibmq_quito') from IBMQ(hub='ibm-q', group='open', project='main')>,\n",
       " <IBMQSimulator('simulator_statevector') from IBMQ(hub='ibm-q', group='open', project='main')>,\n",
       " <IBMQSimulator('simulator_mps') from IBMQ(hub='ibm-q', group='open', project='main')>,\n",
       " <IBMQSimulator('simulator_extended_stabilizer') from IBMQ(hub='ibm-q', group='open', project='main')>,\n",
       " <IBMQSimulator('simulator_stabilizer') from IBMQ(hub='ibm-q', group='open', project='main')>,\n",
       " <IBMQBackend('ibmq_manila') from IBMQ(hub='ibm-q', group='open', project='main')>,\n",
       " <IBMQBackend('ibm_nairobi') from IBMQ(hub='ibm-q', group='open', project='main')>,\n",
       " <IBMQBackend('ibm_oslo') from IBMQ(hub='ibm-q', group='open', project='main')>]"
      ]
     },
     "execution_count": 5,
     "metadata": {},
     "output_type": "execute_result"
    }
   ],
   "source": [
    "# get available backends\n",
    "serverless.backends()"
   ]
  },
  {
   "cell_type": "markdown",
   "id": "ae3bc611-089c-48dc-8997-3606121468a0",
   "metadata": {},
   "source": [
    "### Grounstate solver sweep\n",
    "\n",
    "![parameter sweep](images/parameter_sweep.png)"
   ]
  },
  {
   "cell_type": "code",
   "execution_count": 6,
   "id": "22986c75-bcca-4014-bbcb-24eff8c206c2",
   "metadata": {},
   "outputs": [],
   "source": [
    "# help(groundstate_solver_parallel_sweep)"
   ]
  },
  {
   "cell_type": "code",
   "execution_count": 98,
   "id": "24a75e07-2074-41fb-8e80-b15da91fed6d",
   "metadata": {},
   "outputs": [],
   "source": [
    "%%capture\n",
    "\n",
    "with serverless:  # or serverless.provider(\"ibm\")\n",
    "    results = groundstate_solver_parallel_sweep(\n",
    "        molecules=[\n",
    "            Molecule(geometry=[[\"H\", [0.0, 0.0, 0.0]], [\"H\", [0.0, 0.0, 0.735]]], charge=0, multiplicity=1),\n",
    "            Molecule(geometry=[[\"H\", [0.0, 0.0, 0.0]], [\"H\", [0.0, 0.0, 0.635]]], charge=0, multiplicity=1),\n",
    "            Molecule(geometry=[[\"H\", [0.0, 0.0, 0.0]], [\"H\", [0.0, 0.0, 0.535]]], charge=0, multiplicity=1),\n",
    "            Molecule(geometry=[[\"H\", [0.0, 0.0, 0.0]], [\"H\", [0.0, 0.0, 0.435]]], charge=0, multiplicity=1),\n",
    "            Molecule(geometry=[[\"H\", [0.0, 0.0, 0.0]], [\"H\", [0.0, 0.0, 0.335]]], charge=0, multiplicity=1)\n",
    "        ]\n",
    "    )"
   ]
  },
  {
   "cell_type": "code",
   "execution_count": 99,
   "id": "a4ffe80b-78b9-4a37-8925-f7260d27b0cc",
   "metadata": {},
   "outputs": [
    {
     "name": "stdout",
     "output_type": "stream",
     "text": [
      "\n",
      "Molecule:\n",
      "\tMultiplicity: 1\n",
      "\tCharge: 0\n",
      "\tUnit: Angstrom\n",
      "\tGeometry:\n",
      "\t\tH\t[0.0, 0.0, 0.0]\n",
      "\t\tH\t[0.0, 0.0, 0.735]\n",
      "---\n",
      "=== GROUND STATE ENERGY ===\n",
      " \n",
      "* Electronic ground state energy (Hartree): -1.857275030145\n",
      "  - computed part:      -1.857275030145\n",
      "~ Nuclear repulsion energy (Hartree): 0.719968994449\n",
      "> Total ground state energy (Hartree): -1.137306035696\n",
      " \n",
      "=== MEASURED OBSERVABLES ===\n",
      " \n",
      "  0:  # Particles: 2.000 S: 0.000 S^2: 0.000 M: 0.000\n",
      " \n",
      "=== DIPOLE MOMENTS ===\n",
      " \n",
      "~ Nuclear dipole moment (a.u.): [0.0  0.0  1.3889487]\n",
      " \n",
      "  0: \n",
      "  * Electronic dipole moment (a.u.): [0.0  0.0  1.38894862]\n",
      "    - computed part:      [0.0  0.0  1.38894862]\n",
      "  > Dipole moment (a.u.): [0.0  0.0  0.00000008]  Total: 0.00000008\n",
      "                 (debye): [0.0  0.0  0.0000002]  Total: 0.0000002\n",
      " \n"
     ]
    }
   ],
   "source": [
    "# print results\n",
    "for sweep in results[:1]:\n",
    "    print(\"\")\n",
    "    print(sweep.parameters[\"molecule\"]) # run parameters\n",
    "    print(\"---\")\n",
    "    print(sweep.result) # run result"
   ]
  },
  {
   "cell_type": "markdown",
   "id": "e4e48142-5a62-4697-8ebb-1a2f112fc261",
   "metadata": {},
   "source": [
    "### Example with large range of molecules"
   ]
  },
  {
   "cell_type": "code",
   "execution_count": 110,
   "id": "db3bfced-bbb7-46e8-9327-070150310171",
   "metadata": {},
   "outputs": [],
   "source": [
    "%%capture\n",
    "\n",
    "with serverless.provider(\"ibm\"):\n",
    "    results = groundstate_solver_parallel_sweep(\n",
    "        molecules=[\n",
    "            Molecule(geometry=[[\"H\", [0.0, 0.0, 0.0]], [\"H\", [0.0, 0.0, length]]], charge=0, multiplicity=1)\n",
    "            for length in np.arange(0.2, 0.9, 0.01)\n",
    "        ]\n",
    "    )"
   ]
  },
  {
   "cell_type": "code",
   "execution_count": 116,
   "id": "c64f8f34-ebfe-4c6a-9811-1afdd7cafd33",
   "metadata": {},
   "outputs": [
    {
     "data": {
      "image/png": "[encoded data removed]",
      "text/plain": [
       "<Figure size 640x480 with 1 Axes>"
      ]
     },
     "metadata": {},
     "output_type": "display_data"
    }
   ],
   "source": [
    "energies = [sweep.result.groundenergy + sweep.result.nuclear_repulsion_energy for sweep in results]\n",
    "\n",
    "plt.hist(energies, bins=30)\n",
    "plt.xlabel(\"Total ground state energy (Hartree)\")\n",
    "\n",
    "plt.show()"
   ]
  },
  {
   "cell_type": "code",
   "execution_count": 94,
   "id": "174a8b67-c64c-4e53-8a02-2dd40e4bc910",
   "metadata": {},
   "outputs": [],
   "source": [
    "# # print results\n",
    "# for sweep in results:\n",
    "#     print(\"\")\n",
    "#     print(sweep.parameters[\"molecule\"]) # run parameters\n",
    "#     print(\"---\")\n",
    "#     print(sweep.result) # run result"
   ]
  },
  {
   "cell_type": "markdown",
   "id": "666db50f-7409-43e7-9ee4-1d1bd8613cd6",
   "metadata": {},
   "source": [
    "### Sourcecode sneak peek\n",
    "\n",
    "```python\n",
    "from quantum_serverless import QuantumServerless, run_qiskit_remote, get\n",
    "\n",
    "\n",
    "@run_qiskit_remote(target={\"cpu\": 2})\n",
    "def ground_state_solve(\n",
    "    backend: Backend,\n",
    "    molecule: Molecule,\n",
    "    ansatz: Optional[QuantumCircuit] = None,\n",
    "):\n",
    "    ...\n",
    "\n",
    "\n",
    "def groundstate_solver_parallel_sweep(\n",
    "    molecules: Union[List[Molecule], List[List[str]]],\n",
    "    backends: Optional[List[Backend]] = None,\n",
    "    geometries: Optional[List[List[List[float]]]] = None,\n",
    "    ansatz: Optional[List[QuantumCircuit]] = None,\n",
    "    n_geometries: Optional[int] = None\n",
    "):\n",
    "    ...\n",
    "    references = [\n",
    "        ground_state_solve(**trial)\n",
    "        for trail in trials\n",
    "    ]\n",
    "    return [\n",
    "        SweepResult(result, parameters)\n",
    "        for result, parameters in zip(get(references), trials)\n",
    "    ]\n",
    "```"
   ]
  }
 ],
 "metadata": {
  "kernelspec": {
   "display_name": "Python 3 (ipykernel)",
   "language": "python",
   "name": "python3"
  },
  "language_info": {
   "codemirror_mode": {
    "name": "ipython",
    "version": 3
   },
   "file_extension": ".py",
   "mimetype": "text/x-python",
   "name": "python",
   "nbconvert_exporter": "python",
   "pygments_lexer": "ipython3",
   "version": "3.7.13"
  }
 },
 "nbformat": 4,
 "nbformat_minor": 5
}
