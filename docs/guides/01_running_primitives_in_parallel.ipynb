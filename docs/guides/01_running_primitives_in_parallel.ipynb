{
 "cells": [
  {
   "cell_type": "code",
   "execution_count": 4,
   "id": "7f2fd4f7-89a8-4fd0-81ce-4c0522bb6ea2",
   "metadata": {},
   "outputs": [],
   "source": [
    "from qiskit import QuantumCircuit\n",
    "from qiskit.circuit.library import RealAmplitudes\n",
    "from qiskit.quantum_info import SparsePauliOp\n",
    "from qiskit_ibm_runtime import (\n",
    "    QiskitRuntimeService,\n",
    "    Session,\n",
    "    Options,\n",
    "    EstimatorResult,\n",
    "    SamplerResult,\n",
    ")\n",
    "\n",
    "from quantum_serverless import QuantumServerless\n",
    "from quantum_serverless.library import ParallelEstimator, ParallelSampler"
   ]
  },
  {
   "cell_type": "code",
   "execution_count": 2,
   "id": "4b2b611b-c742-40b7-9a28-395511350b22",
   "metadata": {},
   "outputs": [],
   "source": [
    "# make sure that your IBM cridential is setup"
   ]
  },
  {
   "cell_type": "code",
   "execution_count": 3,
   "id": "aa402aea-9fc9-4521-bebb-2746c551a388",
   "metadata": {},
   "outputs": [
    {
     "data": {
      "text/plain": [
       "[<Cluster: Local (all cores)>]"
      ]
     },
     "execution_count": 3,
     "metadata": {},
     "output_type": "execute_result"
    }
   ],
   "source": [
    "serverless = QuantumServerless()\n",
    "\n",
    "serverless.clusters()"
   ]
  },
  {
   "cell_type": "code",
   "execution_count": 5,
   "id": "dba4ebed-217c-4563-a417-39758843b9ba",
   "metadata": {},
   "outputs": [],
   "source": [
    "service = QiskitRuntimeService()\n",
    "options = Options(optimization_level=1, backend=\"ibmq_qasm_simulator\")\n",
    "options.execution.shots = 10"
   ]
  },
  {
   "cell_type": "code",
   "execution_count": 6,
   "id": "3cf8d2cd-2517-4b89-b0f9-aed28b54fa67",
   "metadata": {},
   "outputs": [],
   "source": [
    "# esimator\n",
    "\n",
    "psi1 = RealAmplitudes(num_qubits=2, reps=2)\n",
    "obs = SparsePauliOp.from_list([(\"II\", 1), (\"IZ\", 2), (\"XI\", 3)])\n",
    "theta1 = [0, 1, 1, 2, 3, 5]"
   ]
  },
  {
   "cell_type": "code",
   "execution_count": 7,
   "id": "993af095-7fb8-4b77-898f-d26164a0b162",
   "metadata": {},
   "outputs": [
    {
     "data": {
      "text/plain": [
       "[EstimatorResult(values=array([1.8]), metadata=[{'variance': 4.679999999999998, 'shots': 10}]),\n",
       " EstimatorResult(values=array([1.4]), metadata=[{'variance': 10.92, 'shots': 10}]),\n",
       " EstimatorResult(values=array([1.4]), metadata=[{'variance': 10.92, 'shots': 10}])]"
      ]
     },
     "execution_count": 7,
     "metadata": {},
     "output_type": "execute_result"
    }
   ],
   "source": [
    "with Session(service=service) as session, serverless.context():\n",
    "    estimator = ParallelEstimator(session=session, options=options)\n",
    "\n",
    "    estimator.add(circuits=[psi1], observables=[obs], parameter_values=[theta1])\n",
    "    estimator.add(circuits=[psi1], observables=[obs], parameter_values=[theta1])\n",
    "    estimator.add(circuits=[psi1], observables=[obs], parameter_values=[theta1])\n",
    "\n",
    "    results = estimator.run_all()\n",
    "\n",
    "results"
   ]
  },
  {
   "cell_type": "code",
   "execution_count": 10,
   "id": "d5e4e820-c2e8-4b02-bd39-d0ffdc9d420d",
   "metadata": {},
   "outputs": [
    {
     "data": {
      "text/html": [
       "<pre style=\"word-wrap: normal;white-space: pre;background: #fff0;line-height: 1.1;font-family: &quot;Courier New&quot;,Courier,monospace\">        ┌───┐      ░ ┌─┐   \n",
       "   q_0: ┤ H ├──■───░─┤M├───\n",
       "        └───┘┌─┴─┐ ░ └╥┘┌─┐\n",
       "   q_1: ─────┤ X ├─░──╫─┤M├\n",
       "             └───┘ ░  ║ └╥┘\n",
       "meas: 2/══════════════╩══╩═\n",
       "                      0  1 </pre>"
      ],
      "text/plain": [
       "        ┌───┐      ░ ┌─┐   \n",
       "   q_0: ┤ H ├──■───░─┤M├───\n",
       "        └───┘┌─┴─┐ ░ └╥┘┌─┐\n",
       "   q_1: ─────┤ X ├─░──╫─┤M├\n",
       "             └───┘ ░  ║ └╥┘\n",
       "meas: 2/══════════════╩══╩═\n",
       "                      0  1 "
      ]
     },
     "execution_count": 10,
     "metadata": {},
     "output_type": "execute_result"
    }
   ],
   "source": [
    "# sampler\n",
    "\n",
    "bell = QuantumCircuit(2)\n",
    "bell.h(0)\n",
    "bell.cx(0, 1)\n",
    "bell.measure_all()\n",
    "\n",
    "bell.draw()"
   ]
  },
  {
   "cell_type": "code",
   "execution_count": 11,
   "id": "f096973a-f282-4f80-9313-3bef79c87d50",
   "metadata": {},
   "outputs": [
    {
     "data": {
      "text/plain": [
       "[SamplerResult(quasi_dists=[{'00': 0.6, '11': 0.4}], metadata=[{'header_metadata': {'circuit_digest': 'fd61714c10a071d1e9b86e8482a8f5274ddb4445c540674201d99b53f97d97fe'}, 'shots': 10}]),\n",
       " SamplerResult(quasi_dists=[{'11': 0.4, '00': 0.6}], metadata=[{'header_metadata': {'circuit_digest': 'fd61714c10a071d1e9b86e8482a8f5274ddb4445c540674201d99b53f97d97fe'}, 'shots': 10}]),\n",
       " SamplerResult(quasi_dists=[{'11': 0.4, '00': 0.6}], metadata=[{'header_metadata': {'circuit_digest': 'fd61714c10a071d1e9b86e8482a8f5274ddb4445c540674201d99b53f97d97fe'}, 'shots': 10}]),\n",
       " SamplerResult(quasi_dists=[{'11': 0.8, '00': 0.2}], metadata=[{'header_metadata': {'circuit_digest': 'fd61714c10a071d1e9b86e8482a8f5274ddb4445c540674201d99b53f97d97fe'}, 'shots': 10}])]"
      ]
     },
     "execution_count": 11,
     "metadata": {},
     "output_type": "execute_result"
    }
   ],
   "source": [
    "with Session(service=service) as session, serverless.context():\n",
    "    sampler = ParallelSampler(session=session, options=options)\n",
    "\n",
    "    sampler.add(circuits=bell)\n",
    "    sampler.add(circuits=bell)\n",
    "    sampler.add(circuits=bell)\n",
    "    sampler.add(circuits=bell)\n",
    "\n",
    "    results = sampler.run_all()\n",
    "    \n",
    "results"
   ]
  },
  {
   "cell_type": "code",
   "execution_count": null,
   "id": "9e583a8a-dcf7-438f-bb13-d5d644b0e8e8",
   "metadata": {},
   "outputs": [],
   "source": []
  }
 ],
 "metadata": {
  "kernelspec": {
   "display_name": "Python 3 (ipykernel)",
   "language": "python",
   "name": "python3"
  },
  "language_info": {
   "codemirror_mode": {
    "name": "ipython",
    "version": 3
   },
   "file_extension": ".py",
   "mimetype": "text/x-python",
   "name": "python",
   "nbconvert_exporter": "python",
   "pygments_lexer": "ipython3",
   "version": "3.10.4"
  }
 },
 "nbformat": 4,
 "nbformat_minor": 5
}
