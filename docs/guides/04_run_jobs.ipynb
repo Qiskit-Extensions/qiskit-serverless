{
 "cells": [
  {
   "cell_type": "markdown",
   "id": "83581f24-f41b-4d0a-81c5-70402812ce75",
   "metadata": {},
   "source": [
    "# Guide: run jobs\n",
    "\n",
    "In this guide we will look into an ability of QuantumServerless running asynchronous jobs.\n",
    "\n",
    "Let's import all necessary dependencies and create `QuantumServerless` instance."
   ]
  },
  {
   "cell_type": "code",
   "execution_count": 1,
   "id": "5428848b-8014-41bc-b9b3-2be5d2f39671",
   "metadata": {},
   "outputs": [],
   "source": [
    "from quantum_serverless import QuantumServerless, run_qiskit_remote, get"
   ]
  },
  {
   "cell_type": "code",
   "execution_count": 2,
   "id": "6c5a72dd-8cd2-4d9a-bcc2-781649e25634",
   "metadata": {},
   "outputs": [
    {
     "data": {
      "text/plain": [
       "<QuantumServerless: providers [local, docker], clusters [local, docker]>"
      ]
     },
     "execution_count": 2,
     "metadata": {},
     "output_type": "execute_result"
    }
   ],
   "source": [
    "serverless = QuantumServerless({\n",
    "    \"providers\": [{\n",
    "        \"name\": \"docker\",\n",
    "        \"cluster\": {\n",
    "            \"name\": \"docker\",\n",
    "            \"host\": \"localhost\",\n",
    "            \"port\": 10001\n",
    "        }\n",
    "    }]\n",
    "})\n",
    "serverless"
   ]
  },
  {
   "cell_type": "markdown",
   "id": "abe78b1e-ec3b-430a-b57f-b3262ff4ee93",
   "metadata": {},
   "source": [
    "> NOTE: important thing to remember is that async jobs are only available with real cluster and will not work in local machine. \n",
    "\n",
    "In this example we will have head node running on inside docker on localhost\n",
    "\n",
    "---\n",
    "\n",
    "Now we have all prep steps figured out. Next step will be defining script for the job itself.\n",
    "\n",
    "Inside the script we will be using the same principles that we showed in other tutorials (creating QuantumServerless instance, annotating functions and getting results)\n",
    "\n",
    "```python\n",
    "# job.py\n",
    "from quantum_serverless import QuantumServerless, run_qiskit_remote, get\n",
    "\n",
    "\n",
    "@run_qiskit_remote()\n",
    "def ultimate():\n",
    "    return 42\n",
    "\n",
    "\n",
    "with QuantumServerless():\n",
    "    result = get([\n",
    "        ultimate()\n",
    "        for _ in range(100)\n",
    "    ])\n",
    "    \n",
    "print(result)\n",
    "```\n",
    "\n",
    "[Job file](./job.py) will be located in the same directory as our notebook.\n",
    "\n",
    "\n",
    "Let's run our script/job using `run_job` function provided by QuantumServerless.\n",
    "Run job has couple of arguments. First one is `entrypoint` which is a string instruction that tells serverless how to execute your job. Second one is `runtime_env` which is dictionary that you can use to specify working folder where your job is located and specify additional requirements to execute your script."
   ]
  },
  {
   "cell_type": "code",
   "execution_count": 3,
   "id": "7612312e-91fc-4078-988b-4ffabfc9df63",
   "metadata": {},
   "outputs": [
    {
     "data": {
      "text/plain": [
       "<Job | fqs_5a7593a3-7cfb-4cdd-9a81-e2b66db32d20>"
      ]
     },
     "execution_count": 3,
     "metadata": {},
     "output_type": "execute_result"
    }
   ],
   "source": [
    "job = serverless.run_job(\n",
    "    entrypoint=\"python job.py\",\n",
    "    runtime_env={\n",
    "        \"working_dir\": \"./\",\n",
    "        # \"pip\": [\"requests==2.26.0\"]\n",
    "    }\n",
    ")\n",
    "job"
   ]
  },
  {
   "cell_type": "markdown",
   "id": "d47ce9c3-ca88-473c-b73f-67abc0a7dd95",
   "metadata": {},
   "source": [
    "You will get `Job` object as result, which you can query for `status` and `logs` to see status of your job and logs."
   ]
  },
  {
   "cell_type": "code",
   "execution_count": 9,
   "id": "e67a039f-5a0f-415c-991a-926f3fbc0cbe",
   "metadata": {},
   "outputs": [
    {
     "data": {
      "text/plain": [
       "<JobStatus.SUCCEEDED: 'SUCCEEDED'>"
      ]
     },
     "execution_count": 9,
     "metadata": {},
     "output_type": "execute_result"
    }
   ],
   "source": [
    "job.status()"
   ]
  },
  {
   "cell_type": "code",
   "execution_count": 8,
   "id": "4a2f2347-a3b2-45da-800a-95021aaddca1",
   "metadata": {},
   "outputs": [
    {
     "data": {
      "text/plain": [
       "'/home/ray/anaconda3/lib/python3.7/site-packages/ray/_private/worker.py:983: UserWarning: len(ctx) is deprecated. Use len(ctx.address_info) instead.\\n  warnings.warn(\"len(ctx) is deprecated. Use len(ctx.address_info) instead.\")\\n[42, 42, 42, 42, 42, 42, 42, 42, 42, 42, 42, 42, 42, 42, 42, 42, 42, 42, 42, 42, 42, 42, 42, 42, 42, 42, 42, 42, 42, 42, 42, 42, 42, 42, 42, 42, 42, 42, 42, 42, 42, 42, 42, 42, 42, 42, 42, 42, 42, 42, 42, 42, 42, 42, 42, 42, 42, 42, 42, 42, 42, 42, 42, 42, 42, 42, 42, 42, 42, 42, 42, 42, 42, 42, 42, 42, 42, 42, 42, 42, 42, 42, 42, 42, 42, 42, 42, 42, 42, 42, 42, 42, 42, 42, 42, 42, 42, 42, 42, 42]\\n'"
      ]
     },
     "execution_count": 8,
     "metadata": {},
     "output_type": "execute_result"
    }
   ],
   "source": [
    "job.logs()"
   ]
  }
 ],
 "metadata": {
  "kernelspec": {
   "display_name": "Python 3 (ipykernel)",
   "language": "python",
   "name": "python3"
  },
  "language_info": {
   "codemirror_mode": {
    "name": "ipython",
    "version": 3
   },
   "file_extension": ".py",
   "mimetype": "text/x-python",
   "name": "python",
   "nbconvert_exporter": "python",
   "pygments_lexer": "ipython3",
   "version": "3.7.13"
  }
 },
 "nbformat": 4,
 "nbformat_minor": 5
}
