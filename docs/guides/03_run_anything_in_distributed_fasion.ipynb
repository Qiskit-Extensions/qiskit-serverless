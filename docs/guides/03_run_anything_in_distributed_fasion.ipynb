{
 "cells": [
  {
   "cell_type": "code",
   "execution_count": 13,
   "id": "0f988f1a-b2d8-4591-b832-32d5f90d710b",
   "metadata": {},
   "outputs": [],
   "source": [
    "from typing import List\n",
    "\n",
    "from qiskit import QuantumCircuit, transpile\n",
    "from qiskit.circuit.random import random_circuit\n",
    "\n",
    "from quantum_serverless import QuantumServerless, remote, get, put"
   ]
  },
  {
   "cell_type": "code",
   "execution_count": 4,
   "id": "711f0a5e-047a-49e1-90be-a3a30a7b4d06",
   "metadata": {},
   "outputs": [
    {
     "data": {
      "text/plain": [
       "QuantumServerless:\n",
       " | selected cluster: <Cluster: Local (all cores)>"
      ]
     },
     "execution_count": 4,
     "metadata": {},
     "output_type": "execute_result"
    }
   ],
   "source": [
    "serverless = QuantumServerless()\n",
    "\n",
    "serverless"
   ]
  },
  {
   "cell_type": "code",
   "execution_count": 5,
   "id": "424affa8-9ffc-41c9-9b42-5e58221fdccd",
   "metadata": {},
   "outputs": [
    {
     "data": {
      "text/html": [
       "<pre style=\"word-wrap: normal;white-space: pre;background: #fff0;line-height: 1.1;font-family: &quot;Courier New&quot;,Courier,monospace\">                    ┌───┐             \n",
       "q_0: ──■────────────┤ X ├──────■──────\n",
       "     ┌─┴─┐          └─┬─┘    ┌─┴─┐    \n",
       "q_1: ┤ X ├────────────■──────┤ X ├────\n",
       "     └─┬─┘┌───┐       │      └─┬─┘    \n",
       "q_2: ──┼──┤ I ├──■────┼────────■──────\n",
       "       │  └───┘┌─┴─┐  │      ┌───┐    \n",
       "q_3: ──■───────┤ Y ├──┼──────┤ T ├────\n",
       "     ┌───┐     └───┘  │  ┌───┴───┴───┐\n",
       "q_4: ┤ Z ├────────────■──┤ Rx(1.041) ├\n",
       "     └───┘               └───────────┘</pre>"
      ],
      "text/plain": [
       "                    ┌───┐             \n",
       "q_0: ──■────────────┤ X ├──────■──────\n",
       "     ┌─┴─┐          └─┬─┘    ┌─┴─┐    \n",
       "q_1: ┤ X ├────────────■──────┤ X ├────\n",
       "     └─┬─┘┌───┐       │      └─┬─┘    \n",
       "q_2: ──┼──┤ I ├──■────┼────────■──────\n",
       "       │  └───┘┌─┴─┐  │      ┌───┐    \n",
       "q_3: ──■───────┤ Y ├──┼──────┤ T ├────\n",
       "     ┌───┐     └───┘  │  ┌───┴───┴───┐\n",
       "q_4: ┤ Z ├────────────■──┤ Rx(1.041) ├\n",
       "     └───┘               └───────────┘"
      ]
     },
     "execution_count": 5,
     "metadata": {},
     "output_type": "execute_result"
    }
   ],
   "source": [
    "circuit = random_circuit(5, 3)\n",
    "\n",
    "circuit.draw()"
   ]
  },
  {
   "cell_type": "code",
   "execution_count": 10,
   "id": "bb3f6d67-9019-416e-b801-a8bec031970e",
   "metadata": {},
   "outputs": [
    {
     "name": "stdout",
     "output_type": "stream",
     "text": [
      "Circuit reference: ObjectRef(00ffffffffffffffffffffffffffffffffffffff0100000004000000)\n",
      "Retrieved object                     ┌───┐             \n",
      "q_0: ──■────────────┤ X ├──────■──────\n",
      "     ┌─┴─┐          └─┬─┘    ┌─┴─┐    \n",
      "q_1: ┤ X ├────────────■──────┤ X ├────\n",
      "     └─┬─┘┌───┐       │      └─┬─┘    \n",
      "q_2: ──┼──┤ I ├──■────┼────────■──────\n",
      "       │  └───┘┌─┴─┐  │      ┌───┐    \n",
      "q_3: ──■───────┤ Y ├──┼──────┤ T ├────\n",
      "     ┌───┐     └───┘  │  ┌───┴───┴───┐\n",
      "q_4: ┤ Z ├────────────■──┤ Rx(1.041) ├\n",
      "     └───┘               └───────────┘\n"
     ]
    }
   ],
   "source": [
    "# object\n",
    "\n",
    "with serverless.context():\n",
    "    # make any object as remote object\n",
    "    circuit_reference = put(circuit)\n",
    "\n",
    "    print(\"Circuit reference:\", circuit_reference)\n",
    "    \n",
    "    # to get any object from remote to local call `get` function\n",
    "    retrieved_object = get(circuit_reference)\n",
    "    print(\"Retrieved object\", retrieved_object)"
   ]
  },
  {
   "cell_type": "code",
   "execution_count": 15,
   "id": "ae461219-d128-4dd4-8b5f-b67f165d5bc9",
   "metadata": {},
   "outputs": [
    {
     "data": {
      "text/plain": [
       "[[<qiskit.circuit.quantumcircuit.QuantumCircuit at 0x7fd6d8b478e0>,\n",
       "  <qiskit.circuit.quantumcircuit.QuantumCircuit at 0x7fd72926c610>],\n",
       " [<qiskit.circuit.quantumcircuit.QuantumCircuit at 0x7fd718a1b8e0>,\n",
       "  <qiskit.circuit.quantumcircuit.QuantumCircuit at 0x7fd718a1bc10>],\n",
       " [<qiskit.circuit.quantumcircuit.QuantumCircuit at 0x7fd718a1b1f0>,\n",
       "  <qiskit.circuit.quantumcircuit.QuantumCircuit at 0x7fd718a1ac50>]]"
      ]
     },
     "execution_count": 15,
     "metadata": {},
     "output_type": "execute_result"
    }
   ],
   "source": [
    "circuit_batches = [\n",
    "    [random_circuit(5, 3) for _ in range(2)]\n",
    "    for n_batch in range(3)\n",
    "]\n",
    "circuit_batches"
   ]
  },
  {
   "cell_type": "code",
   "execution_count": 17,
   "id": "0a0687f4-5fa2-4dd0-ba9d-7fd634dde295",
   "metadata": {},
   "outputs": [
    {
     "name": "stdout",
     "output_type": "stream",
     "text": [
      "Function reference: ObjectRef(16310a0f0a45af5cffffffffffffffffffffffff0100000001000000)\n",
      "Function result: [<qiskit.circuit.quantumcircuit.QuantumCircuit object at 0x7fd6b8f2d420>, <qiskit.circuit.quantumcircuit.QuantumCircuit object at 0x7fd729394c40>]\n"
     ]
    }
   ],
   "source": [
    "# task\n",
    "\n",
    "# in order to make any function a remote/parallel function annotate it with `remote` decorator\n",
    "\n",
    "@remote\n",
    "def remote_transpile(circuits: List[QuantumCircuit]):\n",
    "    return transpile(circuits)\n",
    "\n",
    "with serverless.context():\n",
    "    # to call this function by arring `remote` to function call `<function_name>.remote`\n",
    "    remote_function_reference = remote_transpile.remote(circuit_batches[0])\n",
    "    print(\"Function reference:\", remote_function_reference)\n",
    "    \n",
    "    # to get function results we again using `get`\n",
    "    result = get(remote_function_reference)\n",
    "    print(\"Function result:\", result)"
   ]
  },
  {
   "cell_type": "code",
   "execution_count": 18,
   "id": "7b1b7aaa-de95-4796-9a8f-d1d5f278bc06",
   "metadata": {},
   "outputs": [
    {
     "name": "stdout",
     "output_type": "stream",
     "text": [
      "Functions references: [ObjectRef(c2668a65bda616c1ffffffffffffffffffffffff0100000001000000), ObjectRef(32d950ec0ccf9d2affffffffffffffffffffffff0100000001000000), ObjectRef(e0dc174c83599034ffffffffffffffffffffffff0100000001000000)]\n",
      "Functions resulst: [[<qiskit.circuit.quantumcircuit.QuantumCircuit object at 0x7fd7187b6ef0>, <qiskit.circuit.quantumcircuit.QuantumCircuit object at 0x7fd729220d60>], [<qiskit.circuit.quantumcircuit.QuantumCircuit object at 0x7fd729221810>, <qiskit.circuit.quantumcircuit.QuantumCircuit object at 0x7fd729220280>], [<qiskit.circuit.quantumcircuit.QuantumCircuit object at 0x7fd7292218a0>, <qiskit.circuit.quantumcircuit.QuantumCircuit object at 0x7fd72901eb90>]]\n"
     ]
    }
   ],
   "source": [
    "# we can run multiple remote function in parallel\n",
    "\n",
    "with serverless.context():\n",
    "    # to call this function by arring `remote` to function call `<function_name>.remote`\n",
    "    remote_function_references = [\n",
    "        remote_transpile.remote(circuit_batch)\n",
    "        for circuit_batch in circuit_batches\n",
    "    ]\n",
    "    print(\"Functions references:\", remote_function_references)\n",
    "    \n",
    "    # to get function results we again using `get`\n",
    "    result = get(remote_function_references)\n",
    "    print(\"Functions resulst:\", result)"
   ]
  },
  {
   "cell_type": "code",
   "execution_count": null,
   "id": "c4677421-4c80-4bec-994f-c2af2d1c0c69",
   "metadata": {},
   "outputs": [],
   "source": []
  }
 ],
 "metadata": {
  "kernelspec": {
   "display_name": "Python 3 (ipykernel)",
   "language": "python",
   "name": "python3"
  },
  "language_info": {
   "codemirror_mode": {
    "name": "ipython",
    "version": 3
   },
   "file_extension": ".py",
   "mimetype": "text/x-python",
   "name": "python",
   "nbconvert_exporter": "python",
   "pygments_lexer": "ipython3",
   "version": "3.10.4"
  }
 },
 "nbformat": 4,
 "nbformat_minor": 5
}
