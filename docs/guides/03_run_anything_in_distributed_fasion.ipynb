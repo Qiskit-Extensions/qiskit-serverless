{
 "cells": [
  {
   "cell_type": "code",
   "execution_count": 1,
   "id": "0f988f1a-b2d8-4591-b832-32d5f90d710b",
   "metadata": {},
   "outputs": [],
   "source": [
    "from typing import List\n",
    "\n",
    "from qiskit import QuantumCircuit, transpile\n",
    "from qiskit.circuit.random import random_circuit\n",
    "\n",
    "from quantum_serverless import QuantumServerless, run_qiskit_remote, get, put"
   ]
  },
  {
   "cell_type": "code",
   "execution_count": 2,
   "id": "711f0a5e-047a-49e1-90be-a3a30a7b4d06",
   "metadata": {},
   "outputs": [
    {
     "data": {
      "text/plain": [
       "<QuantumServerless: providers [local], clusters [local]>"
      ]
     },
     "execution_count": 2,
     "metadata": {},
     "output_type": "execute_result"
    }
   ],
   "source": [
    "serverless = QuantumServerless()\n",
    "\n",
    "serverless"
   ]
  },
  {
   "cell_type": "code",
   "execution_count": 3,
   "id": "424affa8-9ffc-41c9-9b42-5e58221fdccd",
   "metadata": {},
   "outputs": [
    {
     "data": {
      "text/html": [
       "<pre style=\"word-wrap: normal;white-space: pre;background: #fff0;line-height: 1.1;font-family: &quot;Courier New&quot;,Courier,monospace\">        ┌────────────┐       ┌───────────┐                    \n",
       "q_0: ─■─┤ Ry(5.4285) ├───────┤ Rz(1.488) ├────────────────────\n",
       "      │ └───┬───┬────┘       └───────────┘               ┌───┐\n",
       "q_1: ─X─────┤ H ├────────────────────────────────────────┤ X ├\n",
       "      │     └───┘                                        └─┬─┘\n",
       "q_2: ─┼──■─────────────────────────■───────────────────────■──\n",
       "      │  │            ┌────────────┴─────────────┐┌─────┐  │  \n",
       "q_3: ─X──┼────────────┤ U3(5.2356,1.8436,1.1019) ├┤ Sdg ├──┼──\n",
       "         │ZZ(3.5479)  └──┬───────────────────┬───┘└─────┘  │  \n",
       "q_4: ────■───────────────┤ U2(4.2804,3.9073) ├─────────────■──\n",
       "                         └───────────────────┘                </pre>"
      ],
      "text/plain": [
       "        ┌────────────┐       ┌───────────┐                    \n",
       "q_0: ─■─┤ Ry(5.4285) ├───────┤ Rz(1.488) ├────────────────────\n",
       "      │ └───┬───┬────┘       └───────────┘               ┌───┐\n",
       "q_1: ─X─────┤ H ├────────────────────────────────────────┤ X ├\n",
       "      │     └───┘                                        └─┬─┘\n",
       "q_2: ─┼──■─────────────────────────■───────────────────────■──\n",
       "      │  │            ┌────────────┴─────────────┐┌─────┐  │  \n",
       "q_3: ─X──┼────────────┤ U3(5.2356,1.8436,1.1019) ├┤ Sdg ├──┼──\n",
       "         │ZZ(3.5479)  └──┬───────────────────┬───┘└─────┘  │  \n",
       "q_4: ────■───────────────┤ U2(4.2804,3.9073) ├─────────────■──\n",
       "                         └───────────────────┘                "
      ]
     },
     "execution_count": 3,
     "metadata": {},
     "output_type": "execute_result"
    }
   ],
   "source": [
    "circuit = random_circuit(5, 3)\n",
    "\n",
    "circuit.draw()"
   ]
  },
  {
   "cell_type": "code",
   "execution_count": 6,
   "id": "bb3f6d67-9019-416e-b801-a8bec031970e",
   "metadata": {},
   "outputs": [
    {
     "name": "stdout",
     "output_type": "stream",
     "text": [
      "Circuit reference: ObjectRef(00ffffffffffffffffffffffffffffffffffffff0100000003000000)\n",
      "Retrieved object\n",
      "         ┌────────────┐       ┌───────────┐                    \n",
      "q_0: ─■─┤ Ry(5.4285) ├───────┤ Rz(1.488) ├────────────────────\n",
      "      │ └───┬───┬────┘       └───────────┘               ┌───┐\n",
      "q_1: ─X─────┤ H ├────────────────────────────────────────┤ X ├\n",
      "      │     └───┘                                        └─┬─┘\n",
      "q_2: ─┼──■─────────────────────────■───────────────────────■──\n",
      "      │  │            ┌────────────┴─────────────┐┌─────┐  │  \n",
      "q_3: ─X──┼────────────┤ U3(5.2356,1.8436,1.1019) ├┤ Sdg ├──┼──\n",
      "         │ZZ(3.5479)  └──┬───────────────────┬───┘└─────┘  │  \n",
      "q_4: ────■───────────────┤ U2(4.2804,3.9073) ├─────────────■──\n",
      "                         └───────────────────┘                \n"
     ]
    }
   ],
   "source": [
    "# object\n",
    "\n",
    "with serverless:\n",
    "    # make any object as remote object\n",
    "    circuit_reference = put(circuit)\n",
    "\n",
    "    print(\"Circuit reference:\", circuit_reference)\n",
    "    \n",
    "    # to get any object from remote to local call `get` function\n",
    "    retrieved_object = get(circuit_reference)\n",
    "    print(\"Retrieved object\\n\", retrieved_object)"
   ]
  },
  {
   "cell_type": "code",
   "execution_count": 7,
   "id": "ae461219-d128-4dd4-8b5f-b67f165d5bc9",
   "metadata": {},
   "outputs": [
    {
     "data": {
      "text/plain": [
       "[[<qiskit.circuit.quantumcircuit.QuantumCircuit at 0x7f7b5038bb90>,\n",
       "  <qiskit.circuit.quantumcircuit.QuantumCircuit at 0x7f7b908e8050>],\n",
       " [<qiskit.circuit.quantumcircuit.QuantumCircuit at 0x7f7b5038b910>,\n",
       "  <qiskit.circuit.quantumcircuit.QuantumCircuit at 0x7f7b5038bc50>],\n",
       " [<qiskit.circuit.quantumcircuit.QuantumCircuit at 0x7f7b908e4810>,\n",
       "  <qiskit.circuit.quantumcircuit.QuantumCircuit at 0x7f7b5038bb10>]]"
      ]
     },
     "execution_count": 7,
     "metadata": {},
     "output_type": "execute_result"
    }
   ],
   "source": [
    "circuit_batches = [\n",
    "    [random_circuit(5, 3) for _ in range(2)]\n",
    "    for n_batch in range(3)\n",
    "]\n",
    "circuit_batches"
   ]
  },
  {
   "cell_type": "code",
   "execution_count": 10,
   "id": "0a0687f4-5fa2-4dd0-ba9d-7fd634dde295",
   "metadata": {},
   "outputs": [
    {
     "name": "stdout",
     "output_type": "stream",
     "text": [
      "Function reference: ObjectRef(c8ef45ccd0112571ffffffffffffffffffffffff0100000001000000)\n",
      "Function result: [<qiskit.circuit.quantumcircuit.QuantumCircuit object at 0x7f7b5140e710>, <qiskit.circuit.quantumcircuit.QuantumCircuit object at 0x7f7b511e0c10>]\n"
     ]
    }
   ],
   "source": [
    "# task\n",
    "\n",
    "# in order to make any function a remote/parallel function annotate it with `remote` decorator\n",
    "\n",
    "@run_qiskit_remote()\n",
    "def remote_transpile(circuits: List[QuantumCircuit]):\n",
    "    return transpile(circuits)\n",
    "\n",
    "with serverless.context():\n",
    "    # to call this function by arring `remote` to function call `<function_name>.remote`\n",
    "    remote_function_reference = remote_transpile(circuit_batches[0])\n",
    "    print(\"Function reference:\", remote_function_reference)\n",
    "    \n",
    "    # to get function results we again using `get`\n",
    "    result = get(remote_function_reference)\n",
    "    print(\"Function result:\", result)"
   ]
  },
  {
   "cell_type": "code",
   "execution_count": 11,
   "id": "7b1b7aaa-de95-4796-9a8f-d1d5f278bc06",
   "metadata": {},
   "outputs": [
    {
     "name": "stdout",
     "output_type": "stream",
     "text": [
      "Functions references: [ObjectRef(16310a0f0a45af5cffffffffffffffffffffffff0100000001000000), ObjectRef(c2668a65bda616c1ffffffffffffffffffffffff0100000001000000), ObjectRef(32d950ec0ccf9d2affffffffffffffffffffffff0100000001000000)]\n",
      "Functions resulst: [[<qiskit.circuit.quantumcircuit.QuantumCircuit object at 0x7f7b51420050>, <qiskit.circuit.quantumcircuit.QuantumCircuit object at 0x7f7b511d0990>], [<qiskit.circuit.quantumcircuit.QuantumCircuit object at 0x7f7b5037eb50>, <qiskit.circuit.quantumcircuit.QuantumCircuit object at 0x7f7b514d3610>], [<qiskit.circuit.quantumcircuit.QuantumCircuit object at 0x7f7b511e4190>, <qiskit.circuit.quantumcircuit.QuantumCircuit object at 0x7f7b515d7910>]]\n"
     ]
    }
   ],
   "source": [
    "# we can run multiple remote function in parallel\n",
    "\n",
    "with serverless:\n",
    "    # to call this function by arring `remote` to function call `<function_name>.remote`\n",
    "    remote_function_references = [\n",
    "        remote_transpile(circuit_batch)\n",
    "        for circuit_batch in circuit_batches\n",
    "    ]\n",
    "    print(\"Functions references:\", remote_function_references)\n",
    "    \n",
    "    # to get function results we again using `get`\n",
    "    result = get(remote_function_references)\n",
    "    print(\"Functions resulst:\", result)"
   ]
  },
  {
   "cell_type": "code",
   "execution_count": null,
   "id": "c4677421-4c80-4bec-994f-c2af2d1c0c69",
   "metadata": {},
   "outputs": [],
   "source": []
  }
 ],
 "metadata": {
  "kernelspec": {
   "display_name": "Python 3 (ipykernel)",
   "language": "python",
   "name": "python3"
  },
  "language_info": {
   "codemirror_mode": {
    "name": "ipython",
    "version": 3
   },
   "file_extension": ".py",
   "mimetype": "text/x-python",
   "name": "python",
   "nbconvert_exporter": "python",
   "pygments_lexer": "ipython3",
   "version": "3.7.13"
  }
 },
 "nbformat": 4,
 "nbformat_minor": 5
}
