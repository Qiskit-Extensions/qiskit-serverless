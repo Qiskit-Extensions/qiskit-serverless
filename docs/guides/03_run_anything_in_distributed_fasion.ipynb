{
 "cells": [
  {
   "cell_type": "markdown",
   "id": "55acbf24-ed98-4e95-a6a8-18d2ac2e0cb0",
   "metadata": {},
   "source": [
    "# Guide: how to run Qiskit in distributed fashion"
   ]
  },
  {
   "cell_type": "code",
   "execution_count": 2,
   "id": "761b2711-eb4d-4bfb-98cc-e30b18c5e0b5",
   "metadata": {},
   "outputs": [],
   "source": [
    "from typing import List\n",
    "\n",
    "from qiskit import QuantumCircuit, transpile\n",
    "from qiskit.circuit.random import random_circuit\n",
    "\n",
    "from quantum_serverless import QuantumServerless, run_qiskit_remote, get, put"
   ]
  },
  {
   "cell_type": "markdown",
   "id": "6d172b6d-a532-48c7-a55b-cdeb359a26ab",
   "metadata": {},
   "source": [
    "First, we need quantum serverless object to control where our code will be executed\n",
    "\n",
    "Let's also create some circuit to use for examples"
   ]
  },
  {
   "cell_type": "code",
   "execution_count": 7,
   "id": "711f0a5e-047a-49e1-90be-a3a30a7b4d06",
   "metadata": {},
   "outputs": [
    {
     "data": {
      "text/plain": [
       "<QuantumServerless: providers [local], clusters [local]>"
      ]
     },
     "execution_count": 7,
     "metadata": {},
     "output_type": "execute_result"
    }
   ],
   "source": [
    "serverless = QuantumServerless()\n",
    "\n",
    "serverless"
   ]
  },
  {
   "cell_type": "code",
   "execution_count": 8,
   "id": "424affa8-9ffc-41c9-9b42-5e58221fdccd",
   "metadata": {},
   "outputs": [
    {
     "data": {
      "text/html": [
       "<pre style=\"word-wrap: normal;white-space: pre;background: #fff0;line-height: 1.1;font-family: &quot;Courier New&quot;,Courier,monospace\">                   ┌───┐┌─────┐               ┌────────────┐     \n",
       "q_0: ──────────────┤ X ├┤ Tdg ├───────────────┤ Rz(1.9799) ├─────\n",
       "     ┌────────────┐└─┬─┘└─────┘               └─────┬──────┘     \n",
       "q_1: ┤ Ry(4.1801) ├──┼─────■────────────────────────┼─────────■──\n",
       "     └───┬───┬────┘  │   ┌─┴─┐                      │       ┌─┴─┐\n",
       "q_2: ────┤ Y ├───────┼───┤ X ├──────────────────────┼───────┤ X ├\n",
       "         └───┘       │   └─┬─┘ ┌─────────────┐      │       └─┬─┘\n",
       "q_3: ────────────────■─────┼───┤ Ry(0.94329) ├──────■─────────┼──\n",
       "                     │     │   └─────────────┘                │  \n",
       "q_4: ────────────────■─────■──────────────────────────────────■──\n",
       "                                                                 </pre>"
      ],
      "text/plain": [
       "                   ┌───┐┌─────┐               ┌────────────┐     \n",
       "q_0: ──────────────┤ X ├┤ Tdg ├───────────────┤ Rz(1.9799) ├─────\n",
       "     ┌────────────┐└─┬─┘└─────┘               └─────┬──────┘     \n",
       "q_1: ┤ Ry(4.1801) ├──┼─────■────────────────────────┼─────────■──\n",
       "     └───┬───┬────┘  │   ┌─┴─┐                      │       ┌─┴─┐\n",
       "q_2: ────┤ Y ├───────┼───┤ X ├──────────────────────┼───────┤ X ├\n",
       "         └───┘       │   └─┬─┘ ┌─────────────┐      │       └─┬─┘\n",
       "q_3: ────────────────■─────┼───┤ Ry(0.94329) ├──────■─────────┼──\n",
       "                     │     │   └─────────────┘                │  \n",
       "q_4: ────────────────■─────■──────────────────────────────────■──\n",
       "                                                                 "
      ]
     },
     "execution_count": 8,
     "metadata": {},
     "output_type": "execute_result"
    }
   ],
   "source": [
    "circuit = random_circuit(5, 3)\n",
    "\n",
    "circuit.draw()"
   ]
  },
  {
   "cell_type": "markdown",
   "id": "330abb4e-0aba-40aa-b918-9054dc7e8479",
   "metadata": {},
   "source": [
    "In order to handle remote compute we need to be able to turn objects and functions into remote functions and objects.\n",
    "\n",
    "`put` function allows to make your local object into remote object stored in distributed manner in shared memory.\n",
    "As result you get reference to remote object, which you can use to retrieve it back\n",
    "\n",
    "Example:\n",
    "```python\n",
    "remote_object_reference = put(local_object)\n",
    "```\n",
    "\n",
    "`get` function allows you to get remote objects back to your local machine by reference\n",
    "\n",
    "Example:\n",
    "```python\n",
    "local_object = put(remote_object_reference)\n",
    "```\n",
    "\n",
    "Let's see how we can turn our locally generated circuit into remote object and back"
   ]
  },
  {
   "cell_type": "code",
   "execution_count": 9,
   "id": "bb3f6d67-9019-416e-b801-a8bec031970e",
   "metadata": {},
   "outputs": [
    {
     "name": "stdout",
     "output_type": "stream",
     "text": [
      "Circuit reference: ObjectRef(00ffffffffffffffffffffffffffffffffffffff0100000003000000)\n",
      "Retrieved object\n",
      "                   ┌───┐┌─────┐               ┌────────────┐     \n",
      "q_0: ──────────────┤ X ├┤ Tdg ├───────────────┤ Rz(1.9799) ├─────\n",
      "     ┌────────────┐└─┬─┘└─────┘               └─────┬──────┘     \n",
      "q_1: ┤ Ry(4.1801) ├──┼─────■────────────────────────┼─────────■──\n",
      "     └───┬───┬────┘  │   ┌─┴─┐                      │       ┌─┴─┐\n",
      "q_2: ────┤ Y ├───────┼───┤ X ├──────────────────────┼───────┤ X ├\n",
      "         └───┘       │   └─┬─┘ ┌─────────────┐      │       └─┬─┘\n",
      "q_3: ────────────────■─────┼───┤ Ry(0.94329) ├──────■─────────┼──\n",
      "                     │     │   └─────────────┘                │  \n",
      "q_4: ────────────────■─────■──────────────────────────────────■──\n",
      "                                                                 \n"
     ]
    }
   ],
   "source": [
    "with serverless:\n",
    "    # make any object as remote object\n",
    "    circuit_reference = put(circuit)\n",
    "    print(\"Circuit reference:\", circuit_reference)\n",
    "    \n",
    "    # to get any object from remote to local call `get` function\n",
    "    retrieved_object = get(circuit_reference)\n",
    "    print(f\"Retrieved object\\n{retrieved_object}\")"
   ]
  },
  {
   "cell_type": "markdown",
   "id": "9fb54658-f557-445f-bd93-d7c19a001a34",
   "metadata": {},
   "source": [
    "As you can see we made our circuit into remote object and get it back within serverless context\n",
    "\n",
    "Now, let's see how we can do the same thing with functions.\n",
    "\n",
    "First, we will create more example object to play around with"
   ]
  },
  {
   "cell_type": "code",
   "execution_count": 10,
   "id": "ae461219-d128-4dd4-8b5f-b67f165d5bc9",
   "metadata": {},
   "outputs": [
    {
     "data": {
      "text/plain": [
       "[[<qiskit.circuit.quantumcircuit.QuantumCircuit at 0x7f7fa895c2d0>,\n",
       "  <qiskit.circuit.quantumcircuit.QuantumCircuit at 0x7f7fa895cb10>],\n",
       " [<qiskit.circuit.quantumcircuit.QuantumCircuit at 0x7f7fa895d9d0>,\n",
       "  <qiskit.circuit.quantumcircuit.QuantumCircuit at 0x7f7fa895ce90>],\n",
       " [<qiskit.circuit.quantumcircuit.QuantumCircuit at 0x7f7fa892c5d0>,\n",
       "  <qiskit.circuit.quantumcircuit.QuantumCircuit at 0x7f7fa895c210>]]"
      ]
     },
     "execution_count": 10,
     "metadata": {},
     "output_type": "execute_result"
    }
   ],
   "source": [
    "circuit_batches = [\n",
    "    [random_circuit(5, 3) for _ in range(2)]\n",
    "    for n_batch in range(3)\n",
    "]\n",
    "circuit_batches"
   ]
  },
  {
   "cell_type": "markdown",
   "id": "9b9bb389-71d3-49c8-a0c8-dd4a496ebcf0",
   "metadata": {},
   "source": [
    "`run_qiskit_remote` decorator is used to turn any function into remote function.\n",
    "So, when next time you will call this function it will be executed as remote function and you will get reference to this function back.\n",
    "\n",
    "Let's create remote transpilation procedure to transpile our circuits remotely.\n",
    "\n",
    "First, we annotate our `remote_transpile` function with `run_qiskit_remote` decorator.\n",
    "Then we run our function, get back function reference and then fetch result of function by reference"
   ]
  },
  {
   "cell_type": "code",
   "execution_count": 11,
   "id": "0a0687f4-5fa2-4dd0-ba9d-7fd634dde295",
   "metadata": {},
   "outputs": [
    {
     "name": "stdout",
     "output_type": "stream",
     "text": [
      "Function reference: ObjectRef(c8ef45ccd0112571ffffffffffffffffffffffff0100000001000000)\n",
      "Function result: [<qiskit.circuit.quantumcircuit.QuantumCircuit object at 0x7f7fa892c950>, <qiskit.circuit.quantumcircuit.QuantumCircuit object at 0x7f7f68391a90>]\n"
     ]
    }
   ],
   "source": [
    "@run_qiskit_remote()\n",
    "def remote_transpile(circuits: List[QuantumCircuit]):\n",
    "    return transpile(circuits)\n",
    "\n",
    "with serverless.context():\n",
    "    remote_function_reference = remote_transpile(circuit_batches[0])\n",
    "    print(\"Function reference:\", remote_function_reference)\n",
    "    \n",
    "    result = get(remote_function_reference)\n",
    "    print(\"Function result:\", result)"
   ]
  },
  {
   "cell_type": "markdown",
   "id": "b25b33df-9a41-44e2-a82a-c48c6f0e7e28",
   "metadata": {},
   "source": [
    "Because our functions are running as remote async functions, we can run multiple of them in parallel.\n",
    "in order to do that, you just call them in a loop and immideatly get references.\n",
    "\n",
    "You can run `get` on those reference and you will get back all results back to local machine"
   ]
  },
  {
   "cell_type": "code",
   "execution_count": 12,
   "id": "7b1b7aaa-de95-4796-9a8f-d1d5f278bc06",
   "metadata": {},
   "outputs": [
    {
     "name": "stdout",
     "output_type": "stream",
     "text": [
      "Functions references: [ObjectRef(16310a0f0a45af5cffffffffffffffffffffffff0100000001000000), ObjectRef(c2668a65bda616c1ffffffffffffffffffffffff0100000001000000), ObjectRef(32d950ec0ccf9d2affffffffffffffffffffffff0100000001000000)]\n",
      "Functions resulst: [[<qiskit.circuit.quantumcircuit.QuantumCircuit object at 0x7f7f68391810>, <qiskit.circuit.quantumcircuit.QuantumCircuit object at 0x7f7f98d75f50>], [<qiskit.circuit.quantumcircuit.QuantumCircuit object at 0x7f7fa895c050>, <qiskit.circuit.quantumcircuit.QuantumCircuit object at 0x7f7fa892c050>], [<qiskit.circuit.quantumcircuit.QuantumCircuit object at 0x7f7fca66f550>, <qiskit.circuit.quantumcircuit.QuantumCircuit object at 0x7f7f78488290>]]\n"
     ]
    }
   ],
   "source": [
    "with serverless:\n",
    "    remote_function_references = [\n",
    "        remote_transpile(circuit_batch)\n",
    "        for circuit_batch in circuit_batches\n",
    "    ]\n",
    "    print(\"Functions references:\", remote_function_references)\n",
    "    \n",
    "    result = get(remote_function_references)\n",
    "    print(\"Functions resulst:\", result)"
   ]
  },
  {
   "cell_type": "code",
   "execution_count": null,
   "id": "c4677421-4c80-4bec-994f-c2af2d1c0c69",
   "metadata": {},
   "outputs": [],
   "source": []
  }
 ],
 "metadata": {
  "kernelspec": {
   "display_name": "Python 3 (ipykernel)",
   "language": "python",
   "name": "python3"
  },
  "language_info": {
   "codemirror_mode": {
    "name": "ipython",
    "version": 3
   },
   "file_extension": ".py",
   "mimetype": "text/x-python",
   "name": "python",
   "nbconvert_exporter": "python",
   "pygments_lexer": "ipython3",
   "version": "3.7.13"
  }
 },
 "nbformat": 4,
 "nbformat_minor": 5
}
