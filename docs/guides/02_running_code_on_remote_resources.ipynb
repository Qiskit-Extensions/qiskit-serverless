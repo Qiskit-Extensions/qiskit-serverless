{
 "cells": [
  {
   "cell_type": "code",
   "execution_count": 2,
   "id": "ff1ea210-630d-4a93-abbe-5d68ee2852a6",
   "metadata": {},
   "outputs": [],
   "source": [
    "from qiskit import QuantumCircuit\n",
    "from qiskit_ibm_runtime import (\n",
    "    QiskitRuntimeService,\n",
    "    Session,\n",
    "    Options\n",
    ")\n",
    "\n",
    "from quantum_serverless import QuantumServerless, Provider\n",
    "from quantum_serverless.library import ParallelSampler"
   ]
  },
  {
   "cell_type": "code",
   "execution_count": 5,
   "id": "6b5595f1-3fc4-4372-b4bf-e34f2ea1273e",
   "metadata": {},
   "outputs": [
    {
     "data": {
      "text/plain": [
       "[<Provider: local>, <Provider: my-provider>]"
      ]
     },
     "execution_count": 5,
     "metadata": {},
     "output_type": "execute_result"
    }
   ],
   "source": [
    "serverless = QuantumServerless(config={\n",
    "    \"providers\": [\n",
    "        {\n",
    "            \"name\": \"my-provider\",\n",
    "            \"cluster\": {\n",
    "                \"name\": \"my-remote-cluster\"\n",
    "            }\n",
    "        }\n",
    "    ]\n",
    "})\n",
    "\n",
    "serverless.providers()"
   ]
  },
  {
   "cell_type": "code",
   "execution_count": 18,
   "id": "23795155-cfe5-4092-97f2-3a7ba20fc39c",
   "metadata": {},
   "outputs": [
    {
     "data": {
      "text/plain": [
       "[SamplerResult(quasi_dists=[{'00': 0.5, '11': 0.5}], metadata=[{'header_metadata': {'circuit_digest': 'f2d875597e2a6902f106c46ed2c992d7c0f9ca8335bdae7a3c8b7b67e6abbdf8'}, 'shots': 10}]),\n",
       " SamplerResult(quasi_dists=[{'00': 0.7, '11': 0.3}], metadata=[{'header_metadata': {'circuit_digest': 'f2d875597e2a6902f106c46ed2c992d7c0f9ca8335bdae7a3c8b7b67e6abbdf8'}, 'shots': 10}]),\n",
       " SamplerResult(quasi_dists=[{'11': 0.4, '00': 0.6}], metadata=[{'header_metadata': {'circuit_digest': 'f2d875597e2a6902f106c46ed2c992d7c0f9ca8335bdae7a3c8b7b67e6abbdf8'}, 'shots': 10}]),\n",
       " SamplerResult(quasi_dists=[{'00': 0.4, '11': 0.6}], metadata=[{'header_metadata': {'circuit_digest': 'f2d875597e2a6902f106c46ed2c992d7c0f9ca8335bdae7a3c8b7b67e6abbdf8'}, 'shots': 10}])]"
      ]
     },
     "execution_count": 18,
     "metadata": {},
     "output_type": "execute_result"
    }
   ],
   "source": [
    "service = QiskitRuntimeService()\n",
    "options = Options(optimization_level=1, backend=\"ibmq_qasm_simulator\")\n",
    "options.execution.shots = 10\n",
    "\n",
    "bell = QuantumCircuit(2)\n",
    "bell.h(0)\n",
    "bell.cx(0, 1)\n",
    "bell.measure_all()\n",
    "\n",
    "with Session(service=service) as session, serverless.provider(\"my-provider\"):\n",
    "    sampler = ParallelSampler(session=session, options=options)\n",
    "\n",
    "    sampler.add(circuits=bell)\n",
    "    sampler.add(circuits=bell)\n",
    "    sampler.add(circuits=bell)\n",
    "    sampler.add(circuits=bell)\n",
    "\n",
    "    results = sampler.run_all()\n",
    "    \n",
    "results"
   ]
  },
  {
   "cell_type": "code",
   "execution_count": null,
   "id": "011a1fa6-e745-4a37-9dda-02de8e6e7a77",
   "metadata": {},
   "outputs": [],
   "source": []
  }
 ],
 "metadata": {
  "kernelspec": {
   "display_name": "Python 3 (ipykernel)",
   "language": "python",
   "name": "python3"
  },
  "language_info": {
   "codemirror_mode": {
    "name": "ipython",
    "version": 3
   },
   "file_extension": ".py",
   "mimetype": "text/x-python",
   "name": "python",
   "nbconvert_exporter": "python",
   "pygments_lexer": "ipython3",
   "version": "3.7.13"
  }
 },
 "nbformat": 4,
 "nbformat_minor": 5
}
