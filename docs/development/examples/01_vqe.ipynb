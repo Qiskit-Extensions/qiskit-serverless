{
 "cells": [
  {
   "cell_type": "markdown",
   "metadata": {},
   "source": [
    "# Example: VQE program\n",
    "\n",
    "This tutorial will be demonstation of creating VQE Program as well as migration guide on how you can replicate IBM Quantum VQE custom runtime program.\n",
    "\n",
    "Let's first get information on what is VQE runtime program and what inputs and outputs it has.\n",
    "\n",
    "**Description** of runtime program is: Variational Quantum Eigensolver (VQE) to find the minimal eigenvalue of a Hamiltonian.\n",
    "\n",
    "**Inputs**:\n",
    "\n",
    "| name | type | description |\n",
    "| ---- | ---- | ----------- |\n",
    "| ansatz | object | A parameterized quantum circuit preparing the ansatz wavefunction for the VQE. It is assumed that all qubits are initially in the 0 state. | \n",
    "| initial_parameters|[array,string]|Initial parameters of the ansatz. Can be an array or the string ``'random'`` to choose random initial parameters.|\n",
    "|operator|object|The Hamiltonian whose smallest eigenvalue we're trying to find. Should be PauliSumOp|\n",
    "|method|str|The classical optimizer used in to update the parameters in each iteration. |\n",
    "\n",
    "\n",
    "**Return values**\n",
    "\n",
    "| name | type | description |\n",
    "| ---- | ---- | ----------- |\n",
    "|cost_function_evals|integer|The number of cost function (energy) evaluations.|\n",
    "|optimal_parameters|null|Not supported at the moment, therefore ``None``.|\n",
    "|optimal_point|array|The optimal parameter values found during the optimization. This is a numpy array.|\n",
    "|optimal_value|number|The smallest value found during the optimization. Equal to the ``eigenvalue`` attribute. This is a float.|\n",
    "|optimizer_evals|integer|The number of steps of the optimizer.|\n",
    "|optimizer_history|object|A dictionary containing information about the function evaluations (not necessarily the actual parameter value!): the current evaluation count, the parameters, the energy and the standard deviation.|\n",
    "|optimizer_time|number|The total time taken by the optimizer. This is a float.|\n",
    "\n",
    "We will also add optional `QiskitRuntimeService` as an argument to use that to access real devices.\n"
   ]
  },
  {
   "cell_type": "markdown",
   "metadata": {},
   "source": [
    "With that information we can start drafting our program implementation in `vqe.py` file.\n",
    "\n",
    "What our program should do:\n",
    "1. parse input arguments\n",
    "2. create run_vqe function that accepts estimator instance, creates VQE and runs calculation\n",
    "3. decide which estimator to use and run vqe\n",
    "    - if runtime service was passed then create a session and run `run_vqe` function\n",
    "    - if runtime service was not passed then use stantard qiskit estimator\n",
    "4. save results from vqe\n",
    "\n",
    "Roughly our VQE program will look like this\n",
    "\n",
    "```python\n",
    "# vqe.py\n",
    "\n",
    "import ...\n",
    "\n",
    "def run_vqe(\n",
    "    initial_parameters,\n",
    "    ansatz,\n",
    "    operator,\n",
    "    estimator,\n",
    "    method\n",
    "):\n",
    "    ...\n",
    "\n",
    "arguments = get_arguments()\n",
    "\n",
    "service = arguments.get(\"service\")\n",
    "ansatz = arguments.get(\"ansatz\")\n",
    "operator = arguments.get(\"operator\")\n",
    "initial_parameters = arguments.get(\"initial_parameters\") \n",
    "optimizer = ...\n",
    "\n",
    "...\n",
    "\n",
    "if service is not None:\n",
    "    # if we have service we need to open a session and create estimator\n",
    "    backend = arguments.get(\"backend\", \"ibmq_qasm_simulator\")\n",
    "    with Session(service=service, backend=backend) as session:\n",
    "        estimator = Estimator(session=session, options=options) # qiskit_ibm_runtime.Estimator\n",
    "        vqe_result = run_vqe( estimator=estimator, ...)\n",
    "else:\n",
    "    # if we do not have a service let's use standart local estimator\n",
    "    estimator = QiskitEstimator() # qiskit.primitives.Estimator\n",
    "\n",
    "vqe_result, callback_dict = run_vqe(\n",
    "    initial_parameters=initial_parameters,\n",
    "    ansatz=ansatz,\n",
    "    operator=operator,\n",
    "    estimator=estimator,\n",
    "    method=method\n",
    ")\n",
    "\n",
    "save_result({\n",
    "    \"optimal_point\": vqe_result.x.tolist(),\n",
    "    \"optimal_value\": vqe_result.fun,\n",
    "    \"optimizer_evals\": vqe_result.nfev,\n",
    "    \"optimizer_history\": callback_dict.get(\"cost_history\", []),\n",
    "    \"optimizer_time\": callback_dict.get(\"_total_time\", 0)\n",
    "})\n",
    "\n",
    "\n",
    "```"
   ]
  },
  {
   "cell_type": "markdown",
   "metadata": {},
   "source": [
    "At this point we have our program implemented. Now we need to actually run it. But before let's prepare input arguments from our VQE program."
   ]
  },
  {
   "cell_type": "code",
   "execution_count": 1,
   "metadata": {},
   "outputs": [
    {
     "data": {
      "text/plain": [
       "{'ansatz': <qiskit.circuit.library.n_local.efficient_su2.EfficientSU2 at 0x7f7e48372ee0>,\n",
       " 'operator': SparsePauliOp(['YZ', 'ZI', 'ZZ', 'XX'],\n",
       "               coeffs=[ 0.398 +0.j, -0.398 +0.j, -0.0113+0.j,  0.181 +0.j]),\n",
       " 'method': 'COBYLA',\n",
       " 'service': None}"
      ]
     },
     "execution_count": 1,
     "metadata": {},
     "output_type": "execute_result"
    }
   ],
   "source": [
    "import numpy as np\n",
    "\n",
    "\n",
    "from qiskit.circuit.library import EfficientSU2\n",
    "from qiskit.quantum_info import SparsePauliOp\n",
    "\n",
    "from qiskit_ibm_runtime import QiskitRuntimeService, Estimator, Session, Options\n",
    "\n",
    "USE_RUNTIME_SERVICE = False\n",
    "\n",
    "service = None\n",
    "if USE_RUNTIME_SERVICE:\n",
    "    service = QiskitRuntimeService()\n",
    "    backend = \"ibmq_qasm_simulator\"\n",
    "\n",
    "operator = SparsePauliOp.from_list(\n",
    "    [(\"YZ\", 0.3980), (\"ZI\", -0.3980), (\"ZZ\", -0.0113), (\"XX\", 0.1810)]\n",
    ")\n",
    "ansatz = EfficientSU2(operator.num_qubits)\n",
    "    \n",
    "input_arguments = {\n",
    "    \"ansatz\": ansatz,\n",
    "    \"operator\": operator,\n",
    "    \"method\": \"COBYLA\",\n",
    "    \"service\": service\n",
    "}\n",
    "\n",
    "input_arguments"
   ]
  },
  {
   "cell_type": "markdown",
   "metadata": {},
   "source": [
    "With arguments prepared we can create our quantum serverless client, setup provider and run our program"
   ]
  },
  {
   "cell_type": "code",
   "execution_count": 2,
   "metadata": {},
   "outputs": [],
   "source": [
    "from quantum_serverless import QuantumServerless, Provider\n",
    "import os"
   ]
  },
  {
   "cell_type": "code",
   "execution_count": 5,
   "metadata": {},
   "outputs": [
    {
     "data": {
      "text/plain": [
       "<QuantumServerless | providers [gateway-provider]>"
      ]
     },
     "execution_count": 5,
     "metadata": {},
     "output_type": "execute_result"
    }
   ],
   "source": [
    "provider = Provider(\n",
    "    username=\"user\",\n",
    "    password=\"password123\",\n",
    "    host=os.environ.get(\"GATEWAY_HOST\", \"http://localhost:8000\"),\n",
    ")\n",
    "\n",
    "serverless = QuantumServerless(provider)\n",
    "serverless"
   ]
  },
  {
   "cell_type": "code",
   "execution_count": 6,
   "metadata": {},
   "outputs": [
    {
     "data": {
      "text/plain": [
       "<Job | 7d9da2a7-1030-410c-98b7-947ab19633b5>"
      ]
     },
     "execution_count": 6,
     "metadata": {},
     "output_type": "execute_result"
    }
   ],
   "source": [
    "from quantum_serverless import Program\n",
    "\n",
    "program = Program(\n",
    "    title=\"VQE\",\n",
    "    entrypoint=\"vqe.py\",\n",
    "    working_dir=\"./source_files/vqe/\"\n",
    ")\n",
    "\n",
    "job = serverless.run(program, arguments=input_arguments)\n",
    "job"
   ]
  },
  {
   "cell_type": "code",
   "execution_count": 7,
   "metadata": {},
   "outputs": [
    {
     "data": {
      "text/plain": [
       "'QUEUED'"
      ]
     },
     "execution_count": 7,
     "metadata": {},
     "output_type": "execute_result"
    }
   ],
   "source": [
    "job.status()"
   ]
  },
  {
   "cell_type": "code",
   "execution_count": 8,
   "metadata": {},
   "outputs": [
    {
     "data": {
      "text/plain": [
       "'{\"optimal_point\": [5.002008197272325, 2.721826159155891, 0.0027512743626830773, 5.8913723711130705, 5.606678579501556, 1.9664899954694406, 1.722673023851201, 0.6026832255981536, 6.684414283395059, 2.9041514004005107, 5.5820245521959055, 4.054054018767433, 1.0752386408446317, 1.4443019804431008, 2.6362288712894073, 2.4038008164184803], \"optimal_value\": -0.7029303936682555, \"optimizer_evals\": 293, \"optimizer_history\": [0.05312275558435113, -0.37957001252970424, -0.30876990812530514, -0.37286759228704947, -0.21934473178610545, -0.28503341569019996, -0.3195688524409221, -0.2991890075969952, -0.48866933133987067, -0.33100840316233676, -0.43344011823771, -0.2534466956072254, -0.43120052460851876, -0.46996536308121023, -0.5541853766069356, -0.4674779175943805, -0.5281785300150701, -0.5422044310149498, -0.5272950454889247, -0.49267348208063916, -0.5506504305317976, -0.4599535609172526, -0.5572690659010443, -0.5048663867922246, -0.5461417224593821, -0.47633300728466815, -0.5611421990347855, -0.5200375499187027, -0.552415288287502, -0.548249347837149, -0.5069418878577764, -0.573879217383401, -0.5560458784071004, -0.5190101950757672, -0.568546710583029, -0.5373541885041514, -0.5551194657435975, -0.5950478677500044, -0.5686179350550085, -0.5902935202065885, -0.5542903082061773, -0.5979682825041985, -0.6366087358169835, -0.6411812819590522, -0.650440808587879, -0.6473915241680857, -0.61095428621058, -0.6360219408735046, -0.6537434158304689, -0.6462327411491184, -0.6592924094635109, -0.6543759144037109, -0.6634314136220156, -0.6468306519175036, -0.6251731196993474, -0.6754156432956703, -0.6792574747206079, -0.6841798432492481, -0.6615292676288851, -0.6767300700593557, -0.6700905512351238, -0.6862844971328637, -0.6554003877546607, -0.6809790418946065, -0.6491683095503825, -0.684913807640526, -0.6786335364893014, -0.683986414519867, -0.6640657988071681, -0.6928165257520896, -0.6877248867839865, -0.6933136108479105, -0.6854495392450126, -0.6951678587408442, -0.6911576976966516, -0.6913588823624717, -0.6953667658561768, -0.694529617359593, -0.6930220794902948, -0.6933985608510383, -0.6957077944850653, -0.6947441537783698, -0.6883242038803781, -0.6953736111946384, -0.6909577555672787, -0.6975294414241808, -0.7016610079729829, -0.6962705810856091, -0.7020127565631017, -0.6992774196263801, -0.7014282468960789, -0.6980144856488925, -0.7009772918291772, -0.6966288809270867, -0.7009346977772131, -0.7006661332695885, -0.7015362381947085, -0.7017792073335596, -0.7015704863069545, -0.7021264005059734, -0.7017440343427197, -0.701952101062116, -0.7016757566667663, -0.7016984386334337, -0.6984180974225525, -0.7022211392631054, -0.7014260297130197, -0.7019650932036503, -0.70131194691328, -0.7023849972447045, -0.7015096048214406, -0.7022135611266282, -0.7025796344075426, -0.7018663587999333, -0.7025461993955346, -0.7024653249106194, -0.7024466199669643, -0.7027044934983593, -0.7026402443182324, -0.7025828528023756, -0.702685811640688, -0.7025578345065103, -0.7027472614394814, -0.7023507228000707, -0.7027007233090887, -0.7027208571147938, -0.7027429454982708, -0.7025812955035158, -0.7027401472985573, -0.7026187049418199, -0.7026743979235843, -0.7024818310971885, -0.702718607151806, -0.7027386595105967, -0.702686298079597, -0.7027974951551736, -0.7027914560488662, -0.7027744325857402, -0.7028245309043062, -0.7027787755855293, -0.702828798188037, -0.7028570020001923, -0.7028664198718786, -0.7028661819016129, -0.7028294670926976, -0.7028544561849894, -0.702845747552798, -0.7028642309968864, -0.702878383189657, -0.7028664053913082, -0.7028659851097976, -0.7028771707663736, -0.702869493910839, -0.7028664243915257, -0.7028967777259236, -0.7028879584996042, -0.7029111356620084, -0.7029049968260146, -0.7029042347734638, -0.7029169501676232, -0.7029166312013012, -0.702907170721057, -0.7029071449156243, -0.7029179183744406, -0.7029121044220593, -0.7029097594841514, -0.7029078655722364, -0.7029107776510198, -0.7029129318731232, -0.7029166570286738, -0.7029166521082295, -0.7029181194638944, -0.7029192209769057, -0.7028766307752483, -0.7029193830604393, -0.7029113713555032, -0.7029212535776509, -0.7029116320036196, -0.702916848070407, -0.702920812397171, -0.7029164142983988, -0.7029191181798845, -0.7029253217062927, -0.7029227257022128, -0.7029180741954285, -0.7029243585720959, -0.7029278248267876, -0.7029279995478255, -0.7029273948700271, -0.7029268098814593, -0.7029257680639247, -0.7029269935906562, -0.7029261179407217, -0.7029273735411461, -0.702923919891987, -0.702928710902436, -0.7029259524188585, -0.7029290273002942, -0.702924890677839, -0.7029283096283695, -0.7029290844503897, -0.7029288793297811, -0.7029288254157772, -0.7029275700168114, -0.7029282621867027, -0.702928807640783, -0.7029284192552279, -0.7029287958934888, -0.7029285262239046, -0.7029292722880836, -0.7029293242062482, -0.7029290646276747, -0.7029293913078206, -0.7029294965091397, -0.7029294296999419, -0.7029295168668062, -0.7029294419756899, -0.7029295253231949, -0.7029290081884397, -0.7029294166870537, -0.702929821462842, -0.7029297659010376, -0.7029298469217571, -0.7029299391636429, -0.702929996327862, -0.702930062259744, -0.7029296828289604, -0.7029301224337077, -0.7029301727678998, -0.702930077163376, -0.7029300572342534, -0.7029300116106143, -0.7029300665526819, -0.7029301288391948, -0.7029299639414545, -0.7029301069322782, -0.7029299788576968, -0.7029301496368474, -0.7029301200041167, -0.7029302695611268, -0.7029300245747021, -0.7029302974729188, -0.7029303042586432, -0.7029303238083523, -0.7029303157746953, -0.7029303091885822, -0.7029303024116151, -0.7029303072977796, -0.7029303131160417, -0.7029303464565644, -0.7029303386509237, -0.7029302898701115, -0.7029303589808946, -0.7029302405958157, -0.7029303755450396, -0.7029303457908797, -0.7029303695600464, -0.7029303152213086, -0.7029303656276069, -0.7029303206416134, -0.7029303709515661, -0.7029303282771682, -0.7029303684564874, -0.7029303657518003, -0.7029303489896817, -0.7029303726950717, -0.7029303875754465, -0.7029303892327593, -0.702930377919298, -0.7029303857138547, -0.702930365365428, -0.7029303878162468, -0.702930382206094, -0.7029303830555037, -0.7029303885691739, -0.7029303917461819, -0.7029303907704956, -0.7029303910990964, -0.7029303915423624, -0.7029303902037386, -0.7029303919808261, -0.7029303918976174, -0.7029303917932683, -0.7029303844616963, -0.7029303910661284, -0.7029303911962362, -0.7029303916158699, -0.7029303929928193, -0.7029303928586712, -0.7029303907816786, -0.7029303922167383, -0.7029303936682555, -0.7029303936682555], \"optimizer_time\": 2.676134063000063}'"
      ]
     },
     "execution_count": 8,
     "metadata": {},
     "output_type": "execute_result"
    }
   ],
   "source": [
    "job.result()"
   ]
  }
 ],
 "metadata": {
  "kernelspec": {
   "display_name": "Python 3 (ipykernel)",
   "language": "python",
   "name": "python3"
  },
  "language_info": {
   "codemirror_mode": {
    "name": "ipython",
    "version": 3
   },
   "file_extension": ".py",
   "mimetype": "text/x-python",
   "name": "python",
   "nbconvert_exporter": "python",
   "pygments_lexer": "ipython3",
   "version": "3.9.16"
  }
 },
 "nbformat": 4,
 "nbformat_minor": 4
}
