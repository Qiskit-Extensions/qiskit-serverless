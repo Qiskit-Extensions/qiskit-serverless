{
 "cells": [
  {
   "cell_type": "markdown",
   "metadata": {},
   "source": [
    "# Building custom image for function\n",
    "\n",
    "In this tutorial we will describe how to build custom docker image for function.\n",
    "\n",
    "In this tutorial we will be following 3 steps to deploy our function with custom docker image:\n",
    "1. implement function template \n",
    "2. define dockerfile, build it and push to registry\n",
    "3. upload"
   ]
  },
  {
   "cell_type": "markdown",
   "metadata": {},
   "source": [
    "First we will implement function entrypoint by following template. All functions with custom docker images must follow same template structure. \n",
    "\n",
    "We need to create class `Runner` and implement `run` method that will be called during invocation of the function and results of the run method will be returned as result of the function.\n",
    "\n",
    "Let's create [runner.py](./custom_function/runner.py) file with following content\n",
    "```python\n",
    "class Runner:\n",
    "    def run(self, arguments: dict) -> dict:\n",
    "        # this is just an example\n",
    "        # your function can call for other modules, function, etc.\n",
    "        return {\n",
    "            **arguments,\n",
    "            **{\n",
    "                \"answer\": 42\n",
    "            }\n",
    "        }\n",
    "```"
   ]
  },
  {
   "cell_type": "markdown",
   "metadata": {},
   "source": [
    "As a next step let's define and build our custom docker image.\n",
    "\n",
    "Dockerfile will be extending base serverless node image and adding required packages and structure to it. \n",
    "\n",
    "In our simple case it will look something like this\n",
    "\n",
    "```Dockerfile\n",
    "FROM icr.io/quantum-public/quantum-serverless-ray-node:0.9.0-py39\n",
    "\n",
    "# install all necessary dependencies for your custom image\n",
    "\n",
    "# copy our function implementation in `/runner.py` of the docker image\n",
    "COPY ./runner.py ./runner.py\n",
    "...\n",
    "```\n",
    "\n",
    "and then we need to build it"
   ]
  },
  {
   "cell_type": "code",
   "execution_count": 10,
   "metadata": {},
   "outputs": [],
   "source": [
    "! docker build -t icr.io/quantum-public/my-custom-function-image:v4 ./custom_function"
   ]
  },
  {
   "cell_type": "code",
   "execution_count": null,
   "metadata": {},
   "outputs": [],
   "source": [
    "! docker push icr.io/quantum-public/my-custom-function-image:v4"
   ]
  },
  {
   "cell_type": "markdown",
   "metadata": {},
   "source": [
    "We got to our final step of function development - uploading to serverless.\n",
    "\n",
    "Let define `QiskitFunction` with image we just build, give it a name and upload it."
   ]
  },
  {
   "cell_type": "code",
   "execution_count": 1,
   "metadata": {},
   "outputs": [
    {
     "data": {
      "text/plain": [
       "<gateway-client>"
      ]
     },
     "execution_count": 1,
     "metadata": {},
     "output_type": "execute_result"
    }
   ],
   "source": [
    "import os\n",
    "from quantum_serverless import QiskitFunction, ServerlessClient\n",
    "\n",
    "serverless = ServerlessClient(\n",
    "    token=os.environ.get(\"GATEWAY_TOKEN\", \"awesome_token\"),\n",
    "    host=os.environ.get(\"GATEWAY_HOST\", \"http://localhost:8010\"),\n",
    ")\n",
    "serverless"
   ]
  },
  {
   "cell_type": "code",
   "execution_count": 2,
   "metadata": {},
   "outputs": [
    {
     "data": {
      "text/plain": [
       "QiskitFunction(custom-image-function)"
      ]
     },
     "execution_count": 2,
     "metadata": {},
     "output_type": "execute_result"
    }
   ],
   "source": [
    "function_with_custom_image = QiskitFunction(\n",
    "    title=\"custom-image-function\",\n",
    "    image=\"icr.io/quantum-public/my-custom-function-image:v4\"\n",
    ")\n",
    "function_with_custom_image"
   ]
  },
  {
   "cell_type": "code",
   "execution_count": 3,
   "metadata": {},
   "outputs": [
    {
     "data": {
      "text/plain": [
       "'custom-image-function'"
      ]
     },
     "execution_count": 3,
     "metadata": {},
     "output_type": "execute_result"
    }
   ],
   "source": [
    "serverless.upload(function_with_custom_image)"
   ]
  },
  {
   "cell_type": "markdown",
   "metadata": {},
   "source": [
    "Now it's time to test our newly uploaded function."
   ]
  },
  {
   "cell_type": "code",
   "execution_count": 4,
   "metadata": {},
   "outputs": [
    {
     "data": {
      "text/plain": [
       "QiskitFunction(custom-image-function)"
      ]
     },
     "execution_count": 4,
     "metadata": {},
     "output_type": "execute_result"
    }
   ],
   "source": [
    "functions = {f.title: f for f in serverless.list()}\n",
    "my_function = functions.get(\"custom-image-function\")\n",
    "my_function"
   ]
  },
  {
   "cell_type": "code",
   "execution_count": 5,
   "metadata": {},
   "outputs": [
    {
     "data": {
      "text/plain": [
       "<Job | dc6d3a90-bead-4f12-b469-21c7ac9c7d16>"
      ]
     },
     "execution_count": 5,
     "metadata": {},
     "output_type": "execute_result"
    }
   ],
   "source": [
    "job = my_function.run(test_argument_one=1, test_argument_two=\"two\")\n",
    "job"
   ]
  },
  {
   "cell_type": "code",
   "execution_count": 6,
   "metadata": {},
   "outputs": [
    {
     "data": {
      "text/plain": [
       "{'test_argument_one': 1, 'test_argument_two': 'two', 'answer': 42}"
      ]
     },
     "execution_count": 6,
     "metadata": {},
     "output_type": "execute_result"
    }
   ],
   "source": [
    "job.result()"
   ]
  }
 ],
 "metadata": {
  "kernelspec": {
   "display_name": "serverless-client-py39",
   "language": "python",
   "name": "python3"
  },
  "language_info": {
   "codemirror_mode": {
    "name": "ipython",
    "version": 3
   },
   "file_extension": ".py",
   "mimetype": "text/x-python",
   "name": "python",
   "nbconvert_exporter": "python",
   "pygments_lexer": "ipython3",
   "version": "3.9.16"
  }
 },
 "nbformat": 4,
 "nbformat_minor": 2
}
