{
 "cells": [
  {
   "cell_type": "markdown",
   "id": "43e30efc-7530-4d39-8a6f-1fb20e3d0168",
   "metadata": {},
   "source": [
    "# Tutorial: approaches to serverless code writing"
   ]
  },
  {
   "cell_type": "code",
   "execution_count": 1,
   "id": "cbbc03aa-2ef1-49b1-8451-b4c2916fa424",
   "metadata": {},
   "outputs": [],
   "source": [
    "import os\n",
    "import warnings\n",
    "\n",
    "warnings.filterwarnings('ignore')"
   ]
  },
  {
   "cell_type": "code",
   "execution_count": 2,
   "id": "977c8d25-e652-4cc0-81c4-c2c9e8d8e9c9",
   "metadata": {},
   "outputs": [],
   "source": [
    "from typing import List, Union, Optional, Dict\n",
    "\n",
    "from qiskit import QuantumCircuit, transpile\n",
    "from qiskit.providers import Backend\n",
    "from qiskit.circuit.random import random_circuit\n",
    "from qiskit.providers.aer import AerSimulator\n",
    "from qiskit.providers.fake_provider import FakeVigo, FakeAlmaden, FakeBrooklyn, FakeCasablanca\n",
    "\n",
    "from quantum_serverless import QuantumServerless, run_qiskit_remote, get, put"
   ]
  },
  {
   "cell_type": "markdown",
   "id": "44df5050-294b-44cb-a826-032fe09a9d7f",
   "metadata": {},
   "source": [
    "---\n",
    "\n",
    "There are multiple approaches to write serverless code using ray.\n",
    "\n",
    "We will review 2 of them:\n",
    "\n",
    "- exposing all details to user\n",
    "- hiding details from user"
   ]
  },
  {
   "cell_type": "markdown",
   "id": "22997039-ab24-4315-a072-e0ad66d4068f",
   "metadata": {},
   "source": [
    "In our examples we will be building functions and classes that can transpile circuits remotely and in parallel manner"
   ]
  },
  {
   "cell_type": "markdown",
   "id": "0044606f-4e0c-43f4-a5b5-bd7cc96f4df7",
   "metadata": {},
   "source": [
    "### Approach #1: revealing details of implementations to user\n",
    "\n",
    "One way of writing your modules, classes and functions in a way that user himself handling ray stuff."
   ]
  },
  {
   "cell_type": "markdown",
   "id": "6958b634-a48c-44e0-9497-ad8d6b389326",
   "metadata": {},
   "source": [
    "Inside your module you will have something like that"
   ]
  },
  {
   "cell_type": "code",
   "execution_count": 3,
   "id": "ee2cec7b-b41b-4ad9-bcb7-eb7dc0a73ea8",
   "metadata": {},
   "outputs": [],
   "source": [
    "# ==================\n",
    "# Insude your module\n",
    "# ==================\n",
    "\n",
    "# your_module.transpiler\n",
    "\n",
    "@run_qiskit_remote()\n",
    "def remote_transpile(circuits: List[QuantumCircuit], backend: Backend):\n",
    "    return transpile(circuits=circuits, backend=backend) "
   ]
  },
  {
   "cell_type": "markdown",
   "id": "84396aaa-8812-4a5a-9bd6-371dc0ac3291",
   "metadata": {},
   "source": [
    "Then the user will use this funciton in following way"
   ]
  },
  {
   "cell_type": "code",
   "execution_count": 4,
   "id": "10a3945b-05ca-4a9e-b7e2-0f872c5385be",
   "metadata": {},
   "outputs": [
    {
     "name": "stdout",
     "output_type": "stream",
     "text": [
      "Results: [[<qiskit.circuit.quantumcircuit.QuantumCircuit object at 0x7f7eb058db90>, <qiskit.circuit.quantumcircuit.QuantumCircuit object at 0x7f7ec0fe9a90>, <qiskit.circuit.quantumcircuit.QuantumCircuit object at 0x7f7e7824a350>, <qiskit.circuit.quantumcircuit.QuantumCircuit object at 0x7f7ec13f8050>, <qiskit.circuit.quantumcircuit.QuantumCircuit object at 0x7f7ec13f8990>, <qiskit.circuit.quantumcircuit.QuantumCircuit object at 0x7f7ec13f8e50>, <qiskit.circuit.quantumcircuit.QuantumCircuit object at 0x7f7ec1227d10>, <qiskit.circuit.quantumcircuit.QuantumCircuit object at 0x7f7ec1227590>, <qiskit.circuit.quantumcircuit.QuantumCircuit object at 0x7f7ea19b0cd0>, <qiskit.circuit.quantumcircuit.QuantumCircuit object at 0x7f7ea19a2d10>], [<qiskit.circuit.quantumcircuit.QuantumCircuit object at 0x7f7eb0591990>, <qiskit.circuit.quantumcircuit.QuantumCircuit object at 0x7f7ed0d49fd0>, <qiskit.circuit.quantumcircuit.QuantumCircuit object at 0x7f7ea1837110>, <qiskit.circuit.quantumcircuit.QuantumCircuit object at 0x7f7e70c87750>, <qiskit.circuit.quantumcircuit.QuantumCircuit object at 0x7f7e70c87d10>, <qiskit.circuit.quantumcircuit.QuantumCircuit object at 0x7f7ea1819f90>, <qiskit.circuit.quantumcircuit.QuantumCircuit object at 0x7f7ed0d6a7d0>, <qiskit.circuit.quantumcircuit.QuantumCircuit object at 0x7f7ed0d6a590>, <qiskit.circuit.quantumcircuit.QuantumCircuit object at 0x7f7ea1a05590>, <qiskit.circuit.quantumcircuit.QuantumCircuit object at 0x7f7e90da3710>], [<qiskit.circuit.quantumcircuit.QuantumCircuit object at 0x7f7ec0fe9890>, <qiskit.circuit.quantumcircuit.QuantumCircuit object at 0x7f7e90d8c810>, <qiskit.circuit.quantumcircuit.QuantumCircuit object at 0x7f7eb106f550>, <qiskit.circuit.quantumcircuit.QuantumCircuit object at 0x7f7ea18b1110>, <qiskit.circuit.quantumcircuit.QuantumCircuit object at 0x7f7ea1939bd0>, <qiskit.circuit.quantumcircuit.QuantumCircuit object at 0x7f7ea1939250>, <qiskit.circuit.quantumcircuit.QuantumCircuit object at 0x7f7ed085d8d0>, <qiskit.circuit.quantumcircuit.QuantumCircuit object at 0x7f7ed0810e10>, <qiskit.circuit.quantumcircuit.QuantumCircuit object at 0x7f7ed07dd9d0>, <qiskit.circuit.quantumcircuit.QuantumCircuit object at 0x7f7ed0846b90>], [<qiskit.circuit.quantumcircuit.QuantumCircuit object at 0x7f7eb0591a90>, <qiskit.circuit.quantumcircuit.QuantumCircuit object at 0x7f7ea19ccc10>, <qiskit.circuit.quantumcircuit.QuantumCircuit object at 0x7f7ed0c79650>, <qiskit.circuit.quantumcircuit.QuantumCircuit object at 0x7f7e90dbadd0>, <qiskit.circuit.quantumcircuit.QuantumCircuit object at 0x7f7ed0cfd610>, <qiskit.circuit.quantumcircuit.QuantumCircuit object at 0x7f7ea1907e10>, <qiskit.circuit.quantumcircuit.QuantumCircuit object at 0x7f7eb108dc50>, <qiskit.circuit.quantumcircuit.QuantumCircuit object at 0x7f7ed0cdca10>, <qiskit.circuit.quantumcircuit.QuantumCircuit object at 0x7f7ec115e950>, <qiskit.circuit.quantumcircuit.QuantumCircuit object at 0x7f7e90874790>]]\n"
     ]
    }
   ],
   "source": [
    "# ================\n",
    "# User perspective\n",
    "# ================\n",
    "\n",
    "# from your_module.transpiler import remote_transpile\n",
    "\n",
    "serverless = QuantumServerless()\n",
    "\n",
    "with serverless:\n",
    "    # First we need to put our object to cluster and pass object ids to functions\n",
    "\n",
    "    # Let's do that for circuits\n",
    "    circuits = [random_circuit(3, 2) for _ in range(10)]\n",
    "    circuits_id = put(circuits)\n",
    "\n",
    "    # and for backends\n",
    "    backend_ids = []\n",
    "    for fake_backend in [FakeAlmaden(), FakeBrooklyn(), FakeCasablanca(), FakeVigo()]:\n",
    "        backend = AerSimulator.from_backend(fake_backend)\n",
    "        backend_id = put(backend)\n",
    "        backend_ids.append(backend_id)\n",
    "    \n",
    "    # now we need to call remote function and pass all objects to form tasks\n",
    "    tasks = []\n",
    "    for backend_id in backend_ids:\n",
    "        task_id = remote_transpile(circuits_id, backend_id)\n",
    "        tasks.append(task_id)\n",
    "        \n",
    "    print(f\"Results: {get(tasks)}\")"
   ]
  },
  {
   "cell_type": "markdown",
   "id": "267d6929-730f-4445-822d-eb4c245fe4a4",
   "metadata": {},
   "source": [
    "---\n",
    "\n",
    "As you can see, the user has to create a lot of boilerplate code and to pass ray objects and pointers across the application.\n",
    "\n",
    "### Approach #2: hiding details of implementations from user\n",
    "\n",
    "\n",
    "We can do better by hiding all of these details inside our module. Let's have a look."
   ]
  },
  {
   "cell_type": "code",
   "execution_count": 5,
   "id": "32e0770c-91f8-451a-88e8-af495349c18e",
   "metadata": {},
   "outputs": [],
   "source": [
    "# ==================\n",
    "# Insude your module\n",
    "# ==================\n",
    "\n",
    "# your_module.transpiler\n",
    "\n",
    "@run_qiskit_remote()\n",
    "def remote_transpile(circuits: List[QuantumCircuit], backend: Backend):\n",
    "    return transpile(circuits=circuits, backend=backend) \n",
    "\n",
    "\n",
    "def parallel_transpile(circuits: List[QuantumCircuit], backends: List[Backend]) -> List[QuantumCircuit]:\n",
    "    circuits = [random_circuit(3, 2) for _ in range(10)]\n",
    "    circuits_id = put(circuits)\n",
    "\n",
    "    backend_ids = []\n",
    "    for backend in backends:\n",
    "        backend_id = put(backend)\n",
    "        backend_ids.append(backend_id)\n",
    "    \n",
    "    # now we need to call remote function and pass all objects to form tasks\n",
    "    tasks = []\n",
    "    for backend_id in backend_ids:\n",
    "        task_id = remote_transpile(circuits_id, backend_id)\n",
    "        tasks.append(task_id)\n",
    "    \n",
    "    return get(tasks)"
   ]
  },
  {
   "cell_type": "markdown",
   "id": "c1366e65-110d-4ad9-9697-f831e6dc33e1",
   "metadata": {},
   "source": [
    "Now let's see how code shrinks from the user's perspective, which may, in certain situations, provide a better user experience."
   ]
  },
  {
   "cell_type": "code",
   "execution_count": 6,
   "id": "72494d42-5c5e-4249-9f30-9bc45288b253",
   "metadata": {},
   "outputs": [
    {
     "name": "stdout",
     "output_type": "stream",
     "text": [
      "Results: [[<qiskit.circuit.quantumcircuit.QuantumCircuit object at 0x7f7ea2495810>, <qiskit.circuit.quantumcircuit.QuantumCircuit object at 0x7f7ed08d1e90>, <qiskit.circuit.quantumcircuit.QuantumCircuit object at 0x7f7ea23fea50>, <qiskit.circuit.quantumcircuit.QuantumCircuit object at 0x7f7e79458090>, <qiskit.circuit.quantumcircuit.QuantumCircuit object at 0x7f7e79458ad0>, <qiskit.circuit.quantumcircuit.QuantumCircuit object at 0x7f7ea2434790>, <qiskit.circuit.quantumcircuit.QuantumCircuit object at 0x7f7ea254c890>, <qiskit.circuit.quantumcircuit.QuantumCircuit object at 0x7f7e816e5a50>, <qiskit.circuit.quantumcircuit.QuantumCircuit object at 0x7f7ea239e3d0>, <qiskit.circuit.quantumcircuit.QuantumCircuit object at 0x7f7ea26d1a50>], [<qiskit.circuit.quantumcircuit.QuantumCircuit object at 0x7f7ed08d1fd0>, <qiskit.circuit.quantumcircuit.QuantumCircuit object at 0x7f7ea2530950>, <qiskit.circuit.quantumcircuit.QuantumCircuit object at 0x7f7ea2530f10>, <qiskit.circuit.quantumcircuit.QuantumCircuit object at 0x7f7ea24fc290>, <qiskit.circuit.quantumcircuit.QuantumCircuit object at 0x7f7ec15a4510>, <qiskit.circuit.quantumcircuit.QuantumCircuit object at 0x7f7e8179e190>, <qiskit.circuit.quantumcircuit.QuantumCircuit object at 0x7f7e79440250>, <qiskit.circuit.quantumcircuit.QuantumCircuit object at 0x7f7ea2456b50>, <qiskit.circuit.quantumcircuit.QuantumCircuit object at 0x7f7ea261f310>, <qiskit.circuit.quantumcircuit.QuantumCircuit object at 0x7f7e915ae090>], [<qiskit.circuit.quantumcircuit.QuantumCircuit object at 0x7f7ea2495850>, <qiskit.circuit.quantumcircuit.QuantumCircuit object at 0x7f7e915ae710>, <qiskit.circuit.quantumcircuit.QuantumCircuit object at 0x7f7e915aee50>, <qiskit.circuit.quantumcircuit.QuantumCircuit object at 0x7f7ea2519050>, <qiskit.circuit.quantumcircuit.QuantumCircuit object at 0x7f7e7131e8d0>, <qiskit.circuit.quantumcircuit.QuantumCircuit object at 0x7f7ea23097d0>, <qiskit.circuit.quantumcircuit.QuantumCircuit object at 0x7f7ea2602c50>, <qiskit.circuit.quantumcircuit.QuantumCircuit object at 0x7f7e71249610>, <qiskit.circuit.quantumcircuit.QuantumCircuit object at 0x7f7e79474dd0>, <qiskit.circuit.quantumcircuit.QuantumCircuit object at 0x7f7ea24e4750>], [<qiskit.circuit.quantumcircuit.QuantumCircuit object at 0x7f7ea254ca50>, <qiskit.circuit.quantumcircuit.QuantumCircuit object at 0x7f7ea24e46d0>, <qiskit.circuit.quantumcircuit.QuantumCircuit object at 0x7f7e81550110>, <qiskit.circuit.quantumcircuit.QuantumCircuit object at 0x7f7e81550690>, <qiskit.circuit.quantumcircuit.QuantumCircuit object at 0x7f7e794a5a10>, <qiskit.circuit.quantumcircuit.QuantumCircuit object at 0x7f7ed0906cd0>, <qiskit.circuit.quantumcircuit.QuantumCircuit object at 0x7f7eb10d0410>, <qiskit.circuit.quantumcircuit.QuantumCircuit object at 0x7f7ea2471450>, <qiskit.circuit.quantumcircuit.QuantumCircuit object at 0x7f7ec17bc750>, <qiskit.circuit.quantumcircuit.QuantumCircuit object at 0x7f7e81704990>]]\n"
     ]
    }
   ],
   "source": [
    "# ================\n",
    "# User perspective\n",
    "# ================\n",
    "\n",
    "# from your_module.transpiler import remote_transpile\n",
    "\n",
    "circuits = [random_circuit(3, 2) for _ in range(10)]\n",
    "backends = [AerSimulator.from_backend(backend)\n",
    "            for backend in [FakeAlmaden(), FakeBrooklyn(), FakeCasablanca(), FakeVigo()]]\n",
    "\n",
    "serverless = QuantumServerless()\n",
    "\n",
    "with serverless:\n",
    "    print(f\"Results: {parallel_transpile(circuits, backends)}\")"
   ]
  },
  {
   "cell_type": "markdown",
   "id": "1618b751-1f3c-464c-85a2-c76d790c8f53",
   "metadata": {},
   "source": [
    "---\n",
    "\n",
    "Now we have only 2 lines of code to call our serverless library.\n",
    "It hides all unnecessary details from the user."
   ]
  }
 ],
 "metadata": {
  "kernelspec": {
   "display_name": "Python 3 (ipykernel)",
   "language": "python",
   "name": "python3"
  },
  "language_info": {
   "codemirror_mode": {
    "name": "ipython",
    "version": 3
   },
   "file_extension": ".py",
   "mimetype": "text/x-python",
   "name": "python",
   "nbconvert_exporter": "python",
   "pygments_lexer": "ipython3",
   "version": "3.7.13"
  }
 },
 "nbformat": 4,
 "nbformat_minor": 5
}
