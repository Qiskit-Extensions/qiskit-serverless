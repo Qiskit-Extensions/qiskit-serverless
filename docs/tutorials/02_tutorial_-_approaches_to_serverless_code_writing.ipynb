{
 "cells": [
  {
   "cell_type": "markdown",
   "id": "43e30efc-7530-4d39-8a6f-1fb20e3d0168",
   "metadata": {},
   "source": [
    "# Tutorial: approaches to serverless code writing"
   ]
  },
  {
   "cell_type": "code",
   "execution_count": 7,
   "id": "cbbc03aa-2ef1-49b1-8451-b4c2916fa424",
   "metadata": {},
   "outputs": [],
   "source": [
    "import os\n",
    "import warnings\n",
    "\n",
    "warnings.filterwarnings('ignore')"
   ]
  },
  {
   "cell_type": "code",
   "execution_count": 8,
   "id": "977c8d25-e652-4cc0-81c4-c2c9e8d8e9c9",
   "metadata": {},
   "outputs": [],
   "source": [
    "from typing import List, Union, Optional, Dict\n",
    "\n",
    "from qiskit import QuantumCircuit, transpile\n",
    "from qiskit.providers import Backend\n",
    "from qiskit.circuit.random import random_circuit\n",
    "from qiskit.providers.aer import AerSimulator\n",
    "from qiskit.providers.fake_provider import FakeVigo, FakeAlmaden, FakeBrooklyn, FakeCasablanca\n",
    "\n",
    "from quantum_serverless import QuantumServerless, remote, get, put"
   ]
  },
  {
   "cell_type": "markdown",
   "id": "44df5050-294b-44cb-a826-032fe09a9d7f",
   "metadata": {},
   "source": [
    "---\n",
    "\n",
    "There are multiple approaches to write serverless code using ray.\n",
    "\n",
    "We will review 2 of them:\n",
    "- exposing all details to user\n",
    "- hiding details from user"
   ]
  },
  {
   "cell_type": "markdown",
   "id": "22997039-ab24-4315-a072-e0ad66d4068f",
   "metadata": {},
   "source": [
    "In our examples we will be building functions and classes that can transpile circuits remotely and in parallel manner"
   ]
  },
  {
   "cell_type": "markdown",
   "id": "0044606f-4e0c-43f4-a5b5-bd7cc96f4df7",
   "metadata": {},
   "source": [
    "### Approach #1: revealing details of implementations to user\n",
    "\n",
    "One way of writing your modules, classes and functions in a way that user himself handling ray stuff."
   ]
  },
  {
   "cell_type": "markdown",
   "id": "6958b634-a48c-44e0-9497-ad8d6b389326",
   "metadata": {},
   "source": [
    "Inside you module you will have something like that"
   ]
  },
  {
   "cell_type": "code",
   "execution_count": 9,
   "id": "ee2cec7b-b41b-4ad9-bcb7-eb7dc0a73ea8",
   "metadata": {},
   "outputs": [],
   "source": [
    "# ==================\n",
    "# Insude your module\n",
    "# ==================\n",
    "\n",
    "# your_module.transpiler\n",
    "\n",
    "@remote\n",
    "def remote_transpile(circuits: List[QuantumCircuit], backend: Backend):\n",
    "    return transpile(circuits=circuits, backend=backend) "
   ]
  },
  {
   "cell_type": "markdown",
   "id": "84396aaa-8812-4a5a-9bd6-371dc0ac3291",
   "metadata": {},
   "source": [
    "Then user will use this funciton in following way"
   ]
  },
  {
   "cell_type": "code",
   "execution_count": 10,
   "id": "10a3945b-05ca-4a9e-b7e2-0f872c5385be",
   "metadata": {},
   "outputs": [
    {
     "name": "stdout",
     "output_type": "stream",
     "text": [
      "Results: [[<qiskit.circuit.quantumcircuit.QuantumCircuit object at 0x7f87b852d810>, <qiskit.circuit.quantumcircuit.QuantumCircuit object at 0x7f87b852cca0>, <qiskit.circuit.quantumcircuit.QuantumCircuit object at 0x7f87b852e0e0>, <qiskit.circuit.quantumcircuit.QuantumCircuit object at 0x7f87b852df90>, <qiskit.circuit.quantumcircuit.QuantumCircuit object at 0x7f87b852c040>, <qiskit.circuit.quantumcircuit.QuantumCircuit object at 0x7f87c0d73ca0>, <qiskit.circuit.quantumcircuit.QuantumCircuit object at 0x7f87c0d71420>, <qiskit.circuit.quantumcircuit.QuantumCircuit object at 0x7f87c0d72f50>, <qiskit.circuit.quantumcircuit.QuantumCircuit object at 0x7f87c0d716c0>, <qiskit.circuit.quantumcircuit.QuantumCircuit object at 0x7f87c0e48fd0>], [<qiskit.circuit.quantumcircuit.QuantumCircuit object at 0x7f87c0e4a410>, <qiskit.circuit.quantumcircuit.QuantumCircuit object at 0x7f87c0e4b910>, <qiskit.circuit.quantumcircuit.QuantumCircuit object at 0x7f87c881a3e0>, <qiskit.circuit.quantumcircuit.QuantumCircuit object at 0x7f87b85535b0>, <qiskit.circuit.quantumcircuit.QuantumCircuit object at 0x7f87b8551f90>, <qiskit.circuit.quantumcircuit.QuantumCircuit object at 0x7f87b8553ac0>, <qiskit.circuit.quantumcircuit.QuantumCircuit object at 0x7f87a89e8430>, <qiskit.circuit.quantumcircuit.QuantumCircuit object at 0x7f87890d09a0>, <qiskit.circuit.quantumcircuit.QuantumCircuit object at 0x7f87890d3190>, <qiskit.circuit.quantumcircuit.QuantumCircuit object at 0x7f87890e7d90>], [<qiskit.circuit.quantumcircuit.QuantumCircuit object at 0x7f87b86bfd30>, <qiskit.circuit.quantumcircuit.QuantumCircuit object at 0x7f87b86bc820>, <qiskit.circuit.quantumcircuit.QuantumCircuit object at 0x7f8789204430>, <qiskit.circuit.quantumcircuit.QuantumCircuit object at 0x7f8789206950>, <qiskit.circuit.quantumcircuit.QuantumCircuit object at 0x7f8789207070>, <qiskit.circuit.quantumcircuit.QuantumCircuit object at 0x7f8789204280>, <qiskit.circuit.quantumcircuit.QuantumCircuit object at 0x7f8789207250>, <qiskit.circuit.quantumcircuit.QuantumCircuit object at 0x7f87d918d8a0>, <qiskit.circuit.quantumcircuit.QuantumCircuit object at 0x7f87d918c0d0>, <qiskit.circuit.quantumcircuit.QuantumCircuit object at 0x7f87d918ef80>], [<qiskit.circuit.quantumcircuit.QuantumCircuit object at 0x7f87d918e2f0>, <qiskit.circuit.quantumcircuit.QuantumCircuit object at 0x7f87d918c550>, <qiskit.circuit.quantumcircuit.QuantumCircuit object at 0x7f87b85b1450>, <qiskit.circuit.quantumcircuit.QuantumCircuit object at 0x7f87b85b1f90>, <qiskit.circuit.quantumcircuit.QuantumCircuit object at 0x7f87b85b02b0>, <qiskit.circuit.quantumcircuit.QuantumCircuit object at 0x7f87b85b0b80>, <qiskit.circuit.quantumcircuit.QuantumCircuit object at 0x7f87b85b2890>, <qiskit.circuit.quantumcircuit.QuantumCircuit object at 0x7f87b85b1420>, <qiskit.circuit.quantumcircuit.QuantumCircuit object at 0x7f87891307f0>, <qiskit.circuit.quantumcircuit.QuantumCircuit object at 0x7f87891300d0>]]\n"
     ]
    }
   ],
   "source": [
    "# ================\n",
    "# User perspective\n",
    "# ================\n",
    "\n",
    "# from your_module.transpiler import remote_transpile\n",
    "\n",
    "serverless = QuantumServerless()\n",
    "\n",
    "with serverless.context():\n",
    "    # First we need to put our object to cluster and pass object ids to functions\n",
    "\n",
    "    # Let's do that for circuits\n",
    "    circuits = [random_circuit(3, 2) for _ in range(10)]\n",
    "    circuits_id = put(circuits)\n",
    "\n",
    "    # and for backends\n",
    "    backend_ids = []\n",
    "    for fake_backend in [FakeAlmaden(), FakeBrooklyn(), FakeCasablanca(), FakeVigo()]:\n",
    "        backend = AerSimulator.from_backend(fake_backend)\n",
    "        backend_id = put(backend)\n",
    "        backend_ids.append(backend_id)\n",
    "    \n",
    "    # now we need to call remote function and pass all objects to form tasks\n",
    "    tasks = []\n",
    "    for backend_id in backend_ids:\n",
    "        task_id = remote_transpile.remote(circuits_id, backend_id)\n",
    "        tasks.append(task_id)\n",
    "        \n",
    "    print(f\"Results: {get(tasks)}\")"
   ]
  },
  {
   "cell_type": "markdown",
   "id": "267d6929-730f-4445-822d-eb4c245fe4a4",
   "metadata": {},
   "source": [
    "---\n",
    "\n",
    "As you can see user has to do a lot of builerplate code and pass ray objects and pointers across application.\n",
    "\n",
    "### Approach #2: hiding details of implementations from user\n",
    "\n",
    "\n",
    "We can do better by hiding all of this details inside our module. Let's have a look"
   ]
  },
  {
   "cell_type": "code",
   "execution_count": 11,
   "id": "32e0770c-91f8-451a-88e8-af495349c18e",
   "metadata": {},
   "outputs": [],
   "source": [
    "# ==================\n",
    "# Insude your module\n",
    "# ==================\n",
    "\n",
    "# your_module.transpiler\n",
    "\n",
    "@remote\n",
    "def remote_transpile(circuits: List[QuantumCircuit], backend: Backend):\n",
    "    return transpile(circuits=circuits, backend=backend) \n",
    "\n",
    "\n",
    "def parallel_transpile(circuits: List[QuantumCircuit], backends: List[Backend]) -> List[QuantumCircuit]:\n",
    "    circuits = [random_circuit(3, 2) for _ in range(10)]\n",
    "    circuits_id = put(circuits)\n",
    "\n",
    "    backend_ids = []\n",
    "    for backend in backends:\n",
    "        backend_id = put(backend)\n",
    "        backend_ids.append(backend_id)\n",
    "    \n",
    "    # now we need to call remote function and pass all objects to form tasks\n",
    "    tasks = []\n",
    "    for backend_id in backend_ids:\n",
    "        task_id = remote_transpile.remote(circuits_id, backend_id)\n",
    "        tasks.append(task_id)\n",
    "    \n",
    "    return get(tasks)"
   ]
  },
  {
   "cell_type": "markdown",
   "id": "c1366e65-110d-4ad9-9697-f831e6dc33e1",
   "metadata": {},
   "source": [
    "Now let's see how code shrunks from users perspective, which is bringing better user experimce"
   ]
  },
  {
   "cell_type": "code",
   "execution_count": 12,
   "id": "72494d42-5c5e-4249-9f30-9bc45288b253",
   "metadata": {},
   "outputs": [
    {
     "name": "stdout",
     "output_type": "stream",
     "text": [
      "Results: [[<qiskit.circuit.quantumcircuit.QuantumCircuit object at 0x7f8799b8d2a0>, <qiskit.circuit.quantumcircuit.QuantumCircuit object at 0x7f8799b8df90>, <qiskit.circuit.quantumcircuit.QuantumCircuit object at 0x7f8799b8eef0>, <qiskit.circuit.quantumcircuit.QuantumCircuit object at 0x7f8799b8d1e0>, <qiskit.circuit.quantumcircuit.QuantumCircuit object at 0x7f8799b8dd20>, <qiskit.circuit.quantumcircuit.QuantumCircuit object at 0x7f87a09859c0>, <qiskit.circuit.quantumcircuit.QuantumCircuit object at 0x7f87a09841c0>, <qiskit.circuit.quantumcircuit.QuantumCircuit object at 0x7f87a0985ea0>, <qiskit.circuit.quantumcircuit.QuantumCircuit object at 0x7f87a0987640>, <qiskit.circuit.quantumcircuit.QuantumCircuit object at 0x7f87a0987d00>], [<qiskit.circuit.quantumcircuit.QuantumCircuit object at 0x7f87a8c8c8e0>, <qiskit.circuit.quantumcircuit.QuantumCircuit object at 0x7f87a8c8ea40>, <qiskit.circuit.quantumcircuit.QuantumCircuit object at 0x7f87a8d05780>, <qiskit.circuit.quantumcircuit.QuantumCircuit object at 0x7f87a8d04fd0>, <qiskit.circuit.quantumcircuit.QuantumCircuit object at 0x7f87a09a1f60>, <qiskit.circuit.quantumcircuit.QuantumCircuit object at 0x7f87a09a3760>, <qiskit.circuit.quantumcircuit.QuantumCircuit object at 0x7f87a8ce8f40>, <qiskit.circuit.quantumcircuit.QuantumCircuit object at 0x7f87a8d2cbb0>, <qiskit.circuit.quantumcircuit.QuantumCircuit object at 0x7f87a8d2fc40>, <qiskit.circuit.quantumcircuit.QuantumCircuit object at 0x7f87a8cac6d0>], [<qiskit.circuit.quantumcircuit.QuantumCircuit object at 0x7f87a8caf730>, <qiskit.circuit.quantumcircuit.QuantumCircuit object at 0x7f87a8d00a30>, <qiskit.circuit.quantumcircuit.QuantumCircuit object at 0x7f87a8d01570>, <qiskit.circuit.quantumcircuit.QuantumCircuit object at 0x7f87a8d01e70>, <qiskit.circuit.quantumcircuit.QuantumCircuit object at 0x7f87a8d03280>, <qiskit.circuit.quantumcircuit.QuantumCircuit object at 0x7f87a8d030a0>, <qiskit.circuit.quantumcircuit.QuantumCircuit object at 0x7f8799bb6da0>, <qiskit.circuit.quantumcircuit.QuantumCircuit object at 0x7f8799bb4970>, <qiskit.circuit.quantumcircuit.QuantumCircuit object at 0x7f8799bb7fd0>, <qiskit.circuit.quantumcircuit.QuantumCircuit object at 0x7f8799bb4ac0>], [<qiskit.circuit.quantumcircuit.QuantumCircuit object at 0x7f8799bb6560>, <qiskit.circuit.quantumcircuit.QuantumCircuit object at 0x7f87a09705b0>, <qiskit.circuit.quantumcircuit.QuantumCircuit object at 0x7f87a0971c60>, <qiskit.circuit.quantumcircuit.QuantumCircuit object at 0x7f87a0970520>, <qiskit.circuit.quantumcircuit.QuantumCircuit object at 0x7f87a0972110>, <qiskit.circuit.quantumcircuit.QuantumCircuit object at 0x7f87a0973760>, <qiskit.circuit.quantumcircuit.QuantumCircuit object at 0x7f87a0971ff0>, <qiskit.circuit.quantumcircuit.QuantumCircuit object at 0x7f87a8d14130>, <qiskit.circuit.quantumcircuit.QuantumCircuit object at 0x7f87a8d15ab0>, <qiskit.circuit.quantumcircuit.QuantumCircuit object at 0x7f87a8d16b90>]]\n"
     ]
    }
   ],
   "source": [
    "# ================\n",
    "# User perspective\n",
    "# ================\n",
    "\n",
    "# from your_module.transpiler import remote_transpile\n",
    "\n",
    "circuits = [random_circuit(3, 2) for _ in range(10)]\n",
    "backends = [AerSimulator.from_backend(backend)\n",
    "            for backend in [FakeAlmaden(), FakeBrooklyn(), FakeCasablanca(), FakeVigo()]]\n",
    "\n",
    "serverless = QuantumServerless()\n",
    "\n",
    "with serverless.context():\n",
    "    print(f\"Results: {parallel_transpile(circuits, backends)}\")"
   ]
  },
  {
   "cell_type": "markdown",
   "id": "1618b751-1f3c-464c-85a2-c76d790c8f53",
   "metadata": {},
   "source": [
    "---\n",
    "\n",
    "Now we have only 2 lines of code to call our serverless library.\n",
    "It hides all unnecessary details from user."
   ]
  }
 ],
 "metadata": {
  "kernelspec": {
   "display_name": "Python 3 (ipykernel)",
   "language": "python",
   "name": "python3"
  },
  "language_info": {
   "codemirror_mode": {
    "name": "ipython",
    "version": 3
   },
   "file_extension": ".py",
   "mimetype": "text/x-python",
   "name": "python",
   "nbconvert_exporter": "python",
   "pygments_lexer": "ipython3",
   "version": "3.10.4"
  }
 },
 "nbformat": 4,
 "nbformat_minor": 5
}
