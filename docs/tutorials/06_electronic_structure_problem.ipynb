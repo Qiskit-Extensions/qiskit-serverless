{
 "cells": [
  {
   "cell_type": "markdown",
   "id": "fb50609d-11f1-4d0e-ac2e-fd13337db11a",
   "metadata": {},
   "source": [
    "# Tutorial: solving electronic structure problem"
   ]
  },
  {
   "cell_type": "markdown",
   "id": "2de9d953-9b8c-4cad-b72b-5a5cf8ddd8fb",
   "metadata": {},
   "source": [
    "### Overview\n",
    "\n",
    "This is overview architecture of this demo\n",
    "\n",
    "![electronic_structure_problem](images/electronic_structure_problem.png)"
   ]
  },
  {
   "cell_type": "markdown",
   "id": "7121de7b-f37b-4afd-b422-ab5ba5c90176",
   "metadata": {},
   "source": [
    "### Implementation\n",
    "\n",
    "Let's see how we can implement this.\n",
    "For full implementation [see here](./source_files/electronic_structure_problem.py).\n",
    "\n",
    "```python\n",
    "from quantum_serverless import run_qiskit_remote, get\n",
    "\n",
    "\n",
    "@run_qiskit_remote()\n",
    "def ground_state_solve(\n",
    "    molecule: Molecule,\n",
    "    initial_point: Union[List[float], np.ndarray],\n",
    "    options: Optional[Options] = None,\n",
    "    service: Optional[Union[QiskitRuntimeService, Dict[str, Any]]] = None,\n",
    "):\n",
    "    driver = PySCFDriver.from_molecule(molecule=molecule, ...)\n",
    "    es_problem = ElectronicStructureProblem(driver, ...)\n",
    "    ansatz = ...\n",
    "    operator = qubit_converter.convert(es_problem.second_q_ops(), ...)\n",
    "    optimizer = COBYLA(maxiter=500)\n",
    "    ...\n",
    "    \n",
    "    with Session(service=service) as session:\n",
    "        estimator = Estimator(session=session, options=options)\n",
    "\n",
    "        vqe = EstimatorVQE(\n",
    "            estimator=estimator,\n",
    "            circuit=ansatz,\n",
    "            optimizer=optimizer,\n",
    "            init_point=initial_point,\n",
    "        )\n",
    "\n",
    "        vqe_result = vqe.compute_minimum_eigenvalue(operator)\n",
    "       \n",
    "    return vqe_result.optimal_value\n",
    "\n",
    "\n",
    "def electronic_structure_problem(\n",
    "    molecules: List[Molecule],\n",
    "    initial_points: Optional[List[List[float]]] = None,\n",
    "    service: Optional[QiskitRuntimeService] = None,\n",
    "    backends: Optional[List[IBMQBackend]] = None,\n",
    "):\n",
    "    ...\n",
    "    function_references = [\n",
    "        hardware_efficient_ansatz(\n",
    "            molecule=molecule,\n",
    "            initial_point=initial_point,\n",
    "            service=service,\n",
    "        )\n",
    "        for molecule, initial_point in zip(molecules, initial_points)\n",
    "    ]\n",
    "\n",
    "    return get(function_references)\n",
    "```"
   ]
  },
  {
   "cell_type": "markdown",
   "id": "631287dd-dbac-44dd-996f-58f1534dbb47",
   "metadata": {},
   "source": [
    "### Execution"
   ]
  },
  {
   "cell_type": "code",
   "execution_count": 9,
   "id": "290bf01e-3175-4c60-b7b7-ce02ea40fb08",
   "metadata": {},
   "outputs": [],
   "source": [
    "from quantum_serverless import QuantumServerless, Program"
   ]
  },
  {
   "cell_type": "code",
   "execution_count": 36,
   "id": "c35bf9df-e68c-45b7-a992-2471aee29d60",
   "metadata": {},
   "outputs": [],
   "source": [
    "serverless = QuantumServerless.load_configuration(\"./serverless_config.json\") # config with docker setup"
   ]
  },
  {
   "cell_type": "code",
   "execution_count": 41,
   "id": "a0789a71-0b84-4736-9f34-579205dbc3c2",
   "metadata": {},
   "outputs": [
    {
     "data": {
      "text/plain": [
       "<Job | fqs_e1fa4e3c-6bf4-4567-9d36-93488ad87c34>"
      ]
     },
     "execution_count": 41,
     "metadata": {},
     "output_type": "execute_result"
    }
   ],
   "source": [
    "program = Program(\n",
    "    name=\"electronic_structure\",\n",
    "    entrypoint=\"electronic_structure_problem.py\",\n",
    "    working_dir=\"./source_files/\",\n",
    "    description=\"Electronic structure program\",\n",
    "    dependencies=[\"pyscf==1.6.3\"]\n",
    ")\n",
    "\n",
    "job = serverless.run_program(program)\n",
    "job"
   ]
  },
  {
   "cell_type": "code",
   "execution_count": null,
   "id": "0d0c3e32-ea08-4939-a4ca-6b6150f2c2c8",
   "metadata": {},
   "outputs": [
    {
     "name": "stdout",
     "output_type": "stream",
     "text": [
      "Energies:  [-0.9848168378887934, -0.9094747516508735, -0.9811709328709944]\n",
      "Shifts:  [-6.609784771130337, -6.781951626949085, -6.870414678425508]\n",
      "Energy + shift:  [-7.59460160901913, -7.691426378599958, -7.851585611296502]\n"
     ]
    }
   ],
   "source": [
    "print(\"\\n\".join(job.logs().split(\"\\n\")[-4:-1]))"
   ]
  }
 ],
 "metadata": {
  "kernelspec": {
   "display_name": "Python 3 (ipykernel)",
   "language": "python",
   "name": "python3"
  },
  "language_info": {
   "codemirror_mode": {
    "name": "ipython",
    "version": 3
   },
   "file_extension": ".py",
   "mimetype": "text/x-python",
   "name": "python",
   "nbconvert_exporter": "python",
   "pygments_lexer": "ipython3",
   "version": "3.7.13"
  }
 },
 "nbformat": 4,
 "nbformat_minor": 5
}
