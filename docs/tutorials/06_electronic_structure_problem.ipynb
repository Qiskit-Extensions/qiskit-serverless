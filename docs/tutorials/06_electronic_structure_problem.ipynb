{
 "cells": [
  {
   "cell_type": "markdown",
   "id": "fb50609d-11f1-4d0e-ac2e-fd13337db11a",
   "metadata": {},
   "source": [
    "# Tutorial: solving electronic structure problem"
   ]
  },
  {
   "cell_type": "markdown",
   "id": "2de9d953-9b8c-4cad-b72b-5a5cf8ddd8fb",
   "metadata": {},
   "source": [
    "### Overview\n",
    "\n",
    "This is overview architecture of this demo\n",
    "\n",
    "![electronic_structure_problem](images/electronic_structure_problem.png)"
   ]
  },
  {
   "cell_type": "markdown",
   "id": "7121de7b-f37b-4afd-b422-ab5ba5c90176",
   "metadata": {},
   "source": [
    "### Implementation\n",
    "\n",
    "Let's see how we can implement this.\n",
    "For full implementation [see here](./source_files/electronic_structure_problem.py).\n",
    "\n",
    "```python\n",
    "from quantum_serverless import run_qiskit_remote, get\n",
    "\n",
    "\n",
    "@run_qiskit_remote()\n",
    "def ground_state_solve(\n",
    "    molecule: Molecule,\n",
    "    initial_point: Union[List[float], np.ndarray],\n",
    "    options: Optional[Options] = None,\n",
    "    service: Optional[Union[QiskitRuntimeService, Dict[str, Any]]] = None,\n",
    "):\n",
    "    driver = PySCFDriver.from_molecule(molecule=molecule, ...)\n",
    "    es_problem = ElectronicStructureProblem(driver, ...)\n",
    "    ansatz = ...\n",
    "    operator = qubit_converter.convert(es_problem.second_q_ops(), ...)\n",
    "    optimizer = COBYLA(maxiter=500)\n",
    "    ...\n",
    "    \n",
    "    with Session(service=service) as session:\n",
    "        estimator = Estimator(session=session, options=options)\n",
    "\n",
    "        vqe = EstimatorVQE(\n",
    "            estimator=estimator,\n",
    "            circuit=ansatz,\n",
    "            optimizer=optimizer,\n",
    "            init_point=initial_point,\n",
    "        )\n",
    "\n",
    "        vqe_result = vqe.compute_minimum_eigenvalue(operator)\n",
    "       \n",
    "    return vqe_result.optimal_value\n",
    "\n",
    "\n",
    "def electronic_structure_problem(\n",
    "    molecules: List[Molecule],\n",
    "    initial_points: Optional[List[List[float]]] = None,\n",
    "    service: Optional[QiskitRuntimeService] = None,\n",
    "    backends: Optional[List[IBMQBackend]] = None,\n",
    "):\n",
    "    ...\n",
    "    function_references = [\n",
    "        hardware_efficient_ansatz(\n",
    "            molecule=molecule,\n",
    "            initial_point=initial_point,\n",
    "            service=service,\n",
    "        )\n",
    "        for molecule, initial_point in zip(molecules, initial_points)\n",
    "    ]\n",
    "\n",
    "    return get(function_references)\n",
    "```"
   ]
  },
  {
   "cell_type": "markdown",
   "id": "631287dd-dbac-44dd-996f-58f1534dbb47",
   "metadata": {},
   "source": [
    "### Execution"
   ]
  },
  {
   "cell_type": "code",
   "execution_count": 1,
   "id": "da57cdda-1b29-4029-898d-f752e8788eca",
   "metadata": {},
   "outputs": [],
   "source": [
    "import os\n",
    "import matplotlib.pyplot as plt\n",
    "\n",
    "from qiskit_ibm_runtime import QiskitRuntimeService\n",
    "from qiskit_nature.drivers import Molecule\n",
    "from qiskit.algorithms.optimizers import SPSA\n",
    "\n",
    "from quantum_serverless import QuantumServerless, Program"
   ]
  },
  {
   "cell_type": "code",
   "execution_count": 2,
   "id": "2533f860-a40c-47bb-a067-cdb19f1c6c51",
   "metadata": {},
   "outputs": [],
   "source": [
    "import sys\n",
    "sys.path.append(\"./source_files/\")\n",
    "\n",
    "from source_files.electronic_structure_problem import electronic_structure_problem"
   ]
  },
  {
   "cell_type": "code",
   "execution_count": 3,
   "id": "47a01b11-6aa2-44c6-a8a1-1e42600dce92",
   "metadata": {},
   "outputs": [],
   "source": [
    "# default initialization\n",
    "serverless = QuantumServerless()"
   ]
  },
  {
   "cell_type": "code",
   "execution_count": 4,
   "id": "3a989e04-cecb-485a-93b1-b4dcaacb1539",
   "metadata": {},
   "outputs": [],
   "source": [
    "USE_RUNTIME = False\n",
    "\n",
    "service = None\n",
    "backends = None\n",
    "if USE_RUNTIME:\n",
    "    service = QiskitRuntimeService()\n",
    "    names = [\"ibmq_qasm_simulator\", \"ibmq_qasm_simulator\", \"ibmq_qasm_simulator\"]\n",
    "    backends = [service.backend(name) for name in names]"
   ]
  },
  {
   "cell_type": "code",
   "execution_count": 5,
   "id": "24a75e07-2074-41fb-8e80-b15da91fed6d",
   "metadata": {},
   "outputs": [],
   "source": [
    "%%capture\n",
    "\n",
    "with serverless:\n",
    "    energies = electronic_structure_problem(\n",
    "        molecules=[\n",
    "            Molecule(geometry=[(\"H\", [0.0, 0.0, 0.0]), (\"Li\", [0.0, 0.0, 1.0])], charge=0, multiplicity=1),\n",
    "            Molecule(geometry=[(\"H\", [0.0, 0.0, 0.0]), (\"Li\", [0.0, 0.0, 1.5])], charge=0, multiplicity=1),\n",
    "            Molecule(geometry=[(\"H\", [0.0, 0.0, 0.0]), (\"Li\", [0.0, 0.0, 2.0])], charge=0, multiplicity=1),\n",
    "        ],\n",
    "        initial_points=[\n",
    "            [0.1, 0.1, 0.1, 0.1],\n",
    "            [0.01, 0.01, 0.01, 0.01],\n",
    "            [0.001, 0.001, 0.001, 0.001],\n",
    "        ],\n",
    "        service=service,\n",
    "        backends=backends,\n",
    "        optimization_level = 1,\n",
    "        resilience_level = 1,\n",
    "        shots=4000,\n",
    "        optimizer=SPSA(),\n",
    "        use_local_simulator=not USE_RUNTIME\n",
    "    )"
   ]
  },
  {
   "cell_type": "code",
   "execution_count": 6,
   "id": "d2a86d99-26e0-4806-9a91-1156e80c6505",
   "metadata": {},
   "outputs": [
    {
     "name": "stdout",
     "output_type": "stream",
     "text": [
      "Energies:  [-0.984816780849255, -1.0949470017011422, -0.7100079453821824]\n",
      "Shifts:  [-6.6097847711303315, -6.781951626949086, -6.87041467842551]\n",
      "Energy + shift:  [-7.594601551979586, -7.876898628650228, -7.580422623807692]\n"
     ]
    }
   ],
   "source": [
    "print(\"Energies: \", [e[0] for e in energies])\n",
    "print(\"Shifts: \", [e[1] for e in energies])\n",
    "print(\"Energy + shift: \", [e[0] + e[1] for e in energies])"
   ]
  },
  {
   "cell_type": "code",
   "execution_count": 7,
   "id": "c3d189e7-0e37-4e3c-bcd5-21a3f8c53b85",
   "metadata": {},
   "outputs": [
    {
     "data": {
      "image/png": "[encoded data removed]",
      "text/plain": [
       "<Figure size 640x480 with 1 Axes>"
      ]
     },
     "metadata": {},
     "output_type": "display_data"
    }
   ],
   "source": [
    "dist = [1.0,1.5,2.0]\n",
    "plt.plot(dist, [e[0] + e[1] for e in energies], 'o', label = 'VQE')\n",
    "plt.xlabel('LiH dist (A)')\n",
    "plt.ylabel('Enrgy (Ha)')\n",
    "plt.legend()\n",
    "plt.show()"
   ]
  }
 ],
 "metadata": {
  "kernelspec": {
   "display_name": "Python 3 (ipykernel)",
   "language": "python",
   "name": "python3"
  },
  "language_info": {
   "codemirror_mode": {
    "name": "ipython",
    "version": 3
   },
   "file_extension": ".py",
   "mimetype": "text/x-python",
   "name": "python",
   "nbconvert_exporter": "python",
   "pygments_lexer": "ipython3",
   "version": "3.7.13"
  }
 },
 "nbformat": 4,
 "nbformat_minor": 5
}
