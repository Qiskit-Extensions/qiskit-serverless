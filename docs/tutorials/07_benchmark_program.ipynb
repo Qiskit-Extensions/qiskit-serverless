{
 "cells": [
  {
   "cell_type": "markdown",
   "id": "604850c4-053a-4b78-bff2-f5f0c9250ed8",
   "metadata": {},
   "source": [
    "# Tutorial: benchmark problem to stress test compute resources"
   ]
  },
  {
   "cell_type": "code",
   "execution_count": 1,
   "id": "b031e9c4-8503-4535-8517-22f445593eb5",
   "metadata": {},
   "outputs": [],
   "source": [
    "from quantum_serverless import QuantumServerless, Program"
   ]
  },
  {
   "cell_type": "code",
   "execution_count": 35,
   "id": "3694d35b-6ad7-4a60-9edc-9c674be56908",
   "metadata": {},
   "outputs": [
    {
     "data": {
      "text/plain": [
       "<QuantumServerless | providers [local, docker]>"
      ]
     },
     "execution_count": 35,
     "metadata": {},
     "output_type": "execute_result"
    }
   ],
   "source": [
    "serverless = QuantumServerless({\n",
    "    \"providers\": [{\n",
    "        \"name\": \"docker\",\n",
    "        \"compute_resource\": {\n",
    "            \"name\": \"docker\",\n",
    "            \"host\": \"localhost\",\n",
    "        }\n",
    "    }]\n",
    "})\n",
    "serverless"
   ]
  },
  {
   "cell_type": "code",
   "execution_count": 36,
   "id": "030ccde4-d18b-43fc-979e-68df797f5977",
   "metadata": {},
   "outputs": [
    {
     "data": {
      "text/plain": [
       "<Job | fqs_a62b679f-8bf0-46c3-ac7b-821c83b4ccec>"
      ]
     },
     "execution_count": 36,
     "metadata": {},
     "output_type": "execute_result"
    }
   ],
   "source": [
    "program = Program(\n",
    "    name=\"brnchmark_program\",\n",
    "    entrypoint=\"benchmark.py\",\n",
    "    working_dir=\"./source_files\",\n",
    "    description=\"Benchmark program to test compute resources.\"\n",
    ")\n",
    "\n",
    "job = serverless.run_program(program)\n",
    "job"
   ]
  },
  {
   "cell_type": "code",
   "execution_count": 38,
   "id": "316d3bdd-c9ed-404e-bf76-afca850920f5",
   "metadata": {},
   "outputs": [
    {
     "data": {
      "text/plain": [
       "['']"
      ]
     },
     "execution_count": 38,
     "metadata": {},
     "output_type": "execute_result"
    }
   ],
   "source": [
    "job.logs().split(\"\\n\")"
   ]
  },
  {
   "cell_type": "code",
   "execution_count": null,
   "id": "a5946386-b3aa-4070-9615-fadb0f82df21",
   "metadata": {},
   "outputs": [],
   "source": []
  }
 ],
 "metadata": {
  "kernelspec": {
   "display_name": "Python 3 (ipykernel)",
   "language": "python",
   "name": "python3"
  },
  "language_info": {
   "codemirror_mode": {
    "name": "ipython",
    "version": 3
   },
   "file_extension": ".py",
   "mimetype": "text/x-python",
   "name": "python",
   "nbconvert_exporter": "python",
   "pygments_lexer": "ipython3",
   "version": "3.7.13"
  }
 },
 "nbformat": 4,
 "nbformat_minor": 5
}
