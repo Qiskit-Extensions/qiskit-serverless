{
 "cells": [
  {
   "cell_type": "code",
   "execution_count": 59,
   "id": "f77105de-311b-4d77-ab05-4ceec9182c8c",
   "metadata": {},
   "outputs": [],
   "source": [
    "from quantum_serverless import QuantumServerless, GatewayProvider, Program"
   ]
  },
  {
   "cell_type": "code",
   "execution_count": 60,
   "id": "b47c2e93-b8e4-4c09-b14a-9f78e577da86",
   "metadata": {},
   "outputs": [
    {
     "data": {
      "text/plain": [
       "<QuantumServerless | providers [gateway-provider]>"
      ]
     },
     "execution_count": 60,
     "metadata": {},
     "output_type": "execute_result"
    }
   ],
   "source": [
    "provider = GatewayProvider(\n",
    "    username=\"user\", # this username has already been defined in local docker setup and does not need to be changed\n",
    "    password=\"password123\", # this password has already been defined in local docker setup and does not need to be changed\n",
    "    host=\"http://localhost:8000\", # address of provider\n",
    ")\n",
    "\n",
    "serverless = QuantumServerless(provider)\n",
    "serverless"
   ]
  },
  {
   "cell_type": "code",
   "execution_count": 101,
   "id": "4458d970-d462-41e4-a7b2-7c2218cc54b5",
   "metadata": {},
   "outputs": [
    {
     "data": {
      "text/html": [
       "<pre style=\"word-wrap: normal;white-space: pre;background: #fff0;line-height: 1.1;font-family: &quot;Courier New&quot;,Courier,monospace\">        ┌────────────┐   ┌───────────┐   ┌─────┐          ░ ┌─┐      \n",
       "   q_0: ┤ Ry(4.4989) ├───┤ P(6.0766) ├───┤ Tdg ├──X───────░─┤M├──────\n",
       "        └────────────┘   ├───────────┴┐  ├─────┴┐ │ ┌───┐ ░ └╥┘┌─┐   \n",
       "   q_1: ──────■──────────┤ Ry(2.3376) ├──┤ √Xdg ├─┼─┤ T ├─░──╫─┤M├───\n",
       "            ┌─┴─┐     ┌──┴────────────┴─┐└┬───┬─┘ │ └───┘ ░  ║ └╥┘┌─┐\n",
       "   q_2: ────┤ X ├─────┤ R(6.125,3.0698) ├─┤ S ├───X───────░──╫──╫─┤M├\n",
       "            └───┘     └─────────────────┘ └───┘           ░  ║  ║ └╥┘\n",
       "meas: 3/═════════════════════════════════════════════════════╩══╩══╩═\n",
       "                                                             0  1  2 </pre>"
      ],
      "text/plain": [
       "        ┌────────────┐   ┌───────────┐   ┌─────┐          ░ ┌─┐      \n",
       "   q_0: ┤ Ry(4.4989) ├───┤ P(6.0766) ├───┤ Tdg ├──X───────░─┤M├──────\n",
       "        └────────────┘   ├───────────┴┐  ├─────┴┐ │ ┌───┐ ░ └╥┘┌─┐   \n",
       "   q_1: ──────■──────────┤ Ry(2.3376) ├──┤ √Xdg ├─┼─┤ T ├─░──╫─┤M├───\n",
       "            ┌─┴─┐     ┌──┴────────────┴─┐└┬───┬─┘ │ └───┘ ░  ║ └╥┘┌─┐\n",
       "   q_2: ────┤ X ├─────┤ R(6.125,3.0698) ├─┤ S ├───X───────░──╫──╫─┤M├\n",
       "            └───┘     └─────────────────┘ └───┘           ░  ║  ║ └╥┘\n",
       "meas: 3/═════════════════════════════════════════════════════╩══╩══╩═\n",
       "                                                             0  1  2 "
      ]
     },
     "execution_count": 101,
     "metadata": {},
     "output_type": "execute_result"
    }
   ],
   "source": [
    "from qiskit.circuit.random import random_circuit\n",
    "\n",
    "circuit = random_circuit(3, 4)\n",
    "circuit.measure_all()\n",
    "\n",
    "circuit.draw(fold=-1)"
   ]
  },
  {
   "cell_type": "code",
   "execution_count": 114,
   "id": "2c6533a6-4422-46bc-a67d-67c144c315e8",
   "metadata": {},
   "outputs": [
    {
     "data": {
      "text/plain": [
       "<Job | 40f94ee9-a8b0-4329-88d9-54139b95fb88>"
      ]
     },
     "execution_count": 114,
     "metadata": {},
     "output_type": "execute_result"
    }
   ],
   "source": [
    "from quantum_serverless import Program\n",
    "\n",
    "program = Program(\n",
    "    title=\"Custom program\",\n",
    "    entrypoint=\"program.py\",\n",
    "    working_dir=\"./sourcefiles\",\n",
    "    dependencies=[\"tabulate\"],\n",
    "    arguments={\n",
    "        \"circuit\": circuit\n",
    "    }\n",
    ")\n",
    "\n",
    "job = serverless.run_program(program)\n",
    "job"
   ]
  },
  {
   "cell_type": "code",
   "execution_count": 115,
   "id": "0a9c34f7-7abd-4546-b21a-cc4e7eb18995",
   "metadata": {},
   "outputs": [
    {
     "name": "stdout",
     "output_type": "stream",
     "text": [
      "SUCCEEDED\n",
      "All results\n",
      "=======\n",
      "  seed    depth\n",
      "------  -------\n",
      "     1        4\n",
      "     2        4\n",
      "     3        4\n",
      "     4        4\n",
      "     5        4\n",
      "     6        4\n",
      "     7        4\n",
      "     8        4\n",
      "     9        4\n",
      "========\n",
      "Depth: 4\n",
      "Distribution: {0: 0.1958080327635863, 1: 0.0012300266546345, 2: 0.1958080327635862, 3: 0.0012300266546345, 4: 0.3010706751919572, 5: 0.001891265389822, 6: 0.3010706751919572, 7: 0.001891265389822}\n",
      "\n"
     ]
    }
   ],
   "source": [
    "print(job.status())\n",
    "print(job.logs())"
   ]
  },
  {
   "cell_type": "code",
   "execution_count": 116,
   "id": "ac6c7ffa-16f7-45c2-b60c-63af13b23f06",
   "metadata": {},
   "outputs": [
    {
     "data": {
      "text/plain": [
       "'{\"table\": [[1, 4], [2, 4], [3, 4], [4, 4], [5, 4], [6, 4], [7, 4], [8, 4], [9, 4]], \"best_distribution\": {\"0\": 0.1958080327635863, \"1\": 0.0012300266546345, \"2\": 0.1958080327635862, \"3\": 0.0012300266546345, \"4\": 0.3010706751919572, \"5\": 0.001891265389822, \"6\": 0.3010706751919572, \"7\": 0.001891265389822}}'"
      ]
     },
     "execution_count": 116,
     "metadata": {},
     "output_type": "execute_result"
    }
   ],
   "source": [
    "job.result()"
   ]
  },
  {
   "cell_type": "code",
   "execution_count": null,
   "id": "92fc8fd4-d2c2-4374-a71d-8538708a4149",
   "metadata": {},
   "outputs": [],
   "source": []
  }
 ],
 "metadata": {
  "kernelspec": {
   "display_name": "Python 3 (ipykernel)",
   "language": "python",
   "name": "python3"
  },
  "language_info": {
   "codemirror_mode": {
    "name": "ipython",
    "version": 3
   },
   "file_extension": ".py",
   "mimetype": "text/x-python",
   "name": "python",
   "nbconvert_exporter": "python",
   "pygments_lexer": "ipython3",
   "version": "3.7.13"
  }
 },
 "nbformat": 4,
 "nbformat_minor": 5
}
