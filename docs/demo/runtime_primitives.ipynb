{
 "cells": [
  {
   "cell_type": "code",
   "execution_count": 3,
   "id": "3b289a18-8d09-43be-a97c-6e50062bf158",
   "metadata": {},
   "outputs": [
    {
     "data": {
      "text/plain": [
       "<QuantumServerless | providers [gateway-provider]>"
      ]
     },
     "execution_count": 3,
     "metadata": {},
     "output_type": "execute_result"
    }
   ],
   "source": [
    "from quantum_serverless import QuantumServerless, Provider, Program\n",
    "\n",
    "provider = Provider(\n",
    "    username=\"user\",\n",
    "    password=\"password123\",\n",
    "    host=\"http://localhost:8010\"\n",
    ")\n",
    "\n",
    "serverless = QuantumServerless(provider)\n",
    "serverless"
   ]
  },
  {
   "cell_type": "markdown",
   "id": "62389e19-c60b-4c34-a9c3-fe0d36cb2415",
   "metadata": {},
   "source": [
    "![](./middleware_primitives.png)"
   ]
  },
  {
   "cell_type": "code",
   "execution_count": 18,
   "id": "4fffef1e-1f6d-4106-a201-5561fa6db3cf",
   "metadata": {},
   "outputs": [],
   "source": [
    "from qiskit.circuit.random import random_circuit\n",
    "\n",
    "circuits = []\n",
    "for _ in range(5):\n",
    "    circuit = random_circuit(5, 2)\n",
    "    circuit.measure_all()\n",
    "    \n",
    "    circuits.append(circuit)"
   ]
  },
  {
   "cell_type": "code",
   "execution_count": 42,
   "id": "0092ae59-0ce9-420c-9454-ead47ffea77f",
   "metadata": {},
   "outputs": [
    {
     "data": {
      "text/plain": [
       "[{'0x8': 0.5341796875, '0x0': 0.4658203125},\n",
       " {'0x18': 0.5224609375, '0x8': 0.4775390625},\n",
       " {'0x14': 0.470703125,\n",
       "  '0x10': 0.4638671875,\n",
       "  '0x0': 0.0341796875,\n",
       "  '0x4': 0.03125},\n",
       " {'0x4': 0.814453125, '0x0': 0.185546875},\n",
       " {'0xa': 0.0615234375,\n",
       "  '0x5': 0.19140625,\n",
       "  '0x7': 0.1650390625,\n",
       "  '0xf': 0.193359375,\n",
       "  '0x8': 0.068359375,\n",
       "  '0x0': 0.0693359375,\n",
       "  '0xd': 0.1845703125,\n",
       "  '0x2': 0.064453125,\n",
       "  '0x6': 0.0009765625,\n",
       "  '0xe': 0.0009765625}]"
      ]
     },
     "execution_count": 42,
     "metadata": {},
     "output_type": "execute_result"
    }
   ],
   "source": [
    "sampler = Program(\n",
    "    title=\"Sampler\",\n",
    "    entrypoint=\"sampler.py\",\n",
    "    working_dir=\"./src/\"\n",
    ")\n",
    "\n",
    "job = serverless.run(sampler, {\n",
    "    \"circuits\": circuits,\n",
    "    \"backend\": \"lima\"\n",
    "})\n",
    "\n",
    "job.result()"
   ]
  },
  {
   "cell_type": "code",
   "execution_count": null,
   "id": "6bff8b18-c350-4481-99c9-4a21118bd5c9",
   "metadata": {},
   "outputs": [],
   "source": [
    "# # runtime service\n",
    "# quasi_dist = Sampler().run(circutis=...).result()\n",
    "\n",
    "# # middleware\n",
    "# quasi_dist = serverless.run(sampler, {\n",
    "#     \"circuits\": ...\n",
    "# })"
   ]
  },
  {
   "cell_type": "code",
   "execution_count": 46,
   "id": "175b1052-8cce-47a4-b6a7-69ebba906444",
   "metadata": {},
   "outputs": [
    {
     "data": {
      "text/plain": [
       "[{'0x8': 0.5078125, '0x0': 0.4921875},\n",
       " {'0x18': 0.48828125, '0x8': 0.51171875},\n",
       " {'0x14': 0.478515625,\n",
       "  '0x10': 0.4443359375,\n",
       "  '0x4': 0.0341796875,\n",
       "  '0x0': 0.04296875},\n",
       " {'0x0': 0.197265625, '0x4': 0.802734375},\n",
       " {'0xf': 0.197265625,\n",
       "  '0xd': 0.181640625,\n",
       "  '0xa': 0.0634765625,\n",
       "  '0x0': 0.0771484375,\n",
       "  '0x7': 0.1669921875,\n",
       "  '0x8': 0.068359375,\n",
       "  '0x2': 0.0673828125,\n",
       "  '0x5': 0.1767578125,\n",
       "  '0xe': 0.0009765625}]"
      ]
     },
     "execution_count": 46,
     "metadata": {},
     "output_type": "execute_result"
    }
   ],
   "source": [
    "class Sampler:\n",
    "    \n",
    "    def __init__(self, backend, provider):\n",
    "        self.backend = backend\n",
    "        self.program = Program(\n",
    "            title=\"Sampler\",\n",
    "            entrypoint=\"sampler.py\",\n",
    "            working_dir=\"./src/\"\n",
    "        )\n",
    "\n",
    "    def run(self, circuits):\n",
    "        serverless = QuantumServerless(provider)\n",
    "        return serverless.run(self.program, {\n",
    "            \"circuits\": circuits,\n",
    "            \"backend\": self.backend\n",
    "        })\n",
    "    \n",
    "sampler = Sampler(backend=\"lima\", provider=provider)\n",
    "job = sampler.run(circuits)\n",
    "job.result()"
   ]
  },
  {
   "cell_type": "code",
   "execution_count": null,
   "id": "e1abf501-cef8-4e23-916b-4d40a06ad942",
   "metadata": {},
   "outputs": [],
   "source": []
  },
  {
   "cell_type": "code",
   "execution_count": null,
   "id": "219b4033-c105-4ca0-ad5c-efb4e0e2bf80",
   "metadata": {},
   "outputs": [],
   "source": []
  },
  {
   "cell_type": "code",
   "execution_count": null,
   "id": "4cfbaf72-b626-4b5c-a9c6-3ee62145a2a1",
   "metadata": {},
   "outputs": [],
   "source": []
  },
  {
   "cell_type": "code",
   "execution_count": null,
   "id": "fba6e462-153d-4ffb-b7ca-9657b423f179",
   "metadata": {},
   "outputs": [],
   "source": []
  },
  {
   "cell_type": "code",
   "execution_count": null,
   "id": "3752caba-7740-4d1a-85b7-a0f7b476595b",
   "metadata": {},
   "outputs": [],
   "source": [
    "# # runtime service\n",
    "# quasi_dist = Sampler().run(circutis=...).result()\n"
   ]
  },
  {
   "cell_type": "code",
   "execution_count": null,
   "id": "37773db1-82a6-4e71-bac4-aecbe2c8f1de",
   "metadata": {},
   "outputs": [],
   "source": []
  }
 ],
 "metadata": {
  "kernelspec": {
   "display_name": "Python 3 (ipykernel)",
   "language": "python",
   "name": "python3"
  },
  "language_info": {
   "codemirror_mode": {
    "name": "ipython",
    "version": 3
   },
   "file_extension": ".py",
   "mimetype": "text/x-python",
   "name": "python",
   "nbconvert_exporter": "python",
   "pygments_lexer": "ipython3",
   "version": "3.9.16"
  }
 },
 "nbformat": 4,
 "nbformat_minor": 5
}
